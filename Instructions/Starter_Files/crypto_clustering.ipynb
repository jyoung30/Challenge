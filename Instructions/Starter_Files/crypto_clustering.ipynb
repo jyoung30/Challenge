{
 "cells": [
  {
   "cell_type": "markdown",
   "metadata": {},
   "source": [
    "# Clustering Crypto"
   ]
  },
  {
   "cell_type": "code",
   "execution_count": 2,
   "metadata": {},
   "outputs": [],
   "source": [
    "# Initial imports\n",
    "import requests\n",
    "import pandas as pd\n",
    "import matplotlib.pyplot as plt\n",
    "import hvplot.pandas\n",
    "import plotly.express as px\n",
    "from sklearn.preprocessing import StandardScaler, MinMaxScaler\n",
    "from sklearn.decomposition import PCA\n",
    "from sklearn.cluster import KMeans\n",
    "from pathlib import Path "
   ]
  },
  {
   "cell_type": "markdown",
   "metadata": {},
   "source": [
    "### Fetching Cryptocurrency Data"
   ]
  },
  {
   "cell_type": "code",
   "execution_count": 3,
   "metadata": {},
   "outputs": [],
   "source": [
    "# Use the following endpoint to fetch json data\n",
    "url = \"https://min-api.cryptocompare.com/data/all/coinlist\""
   ]
  },
  {
   "cell_type": "code",
   "execution_count": null,
   "metadata": {},
   "outputs": [],
   "source": [
    "# Create a DataFrame \n",
    "# HINT: You will need to use the 'Data' key from the json response, then transpose the DataFrame."
   ]
  },
  {
   "cell_type": "code",
   "execution_count": 8,
   "metadata": {},
   "outputs": [],
   "source": [
    "# Alternatively, use the provided csv file:\n",
    "csv_path = Path(\"Resources/crypto_data.csv\")\n",
    "crypto_df = pd.read_csv(csv_path)\n",
    "# Create a DataFrame"
   ]
  },
  {
   "cell_type": "markdown",
   "metadata": {},
   "source": [
    "### Data Preprocessing"
   ]
  },
  {
   "cell_type": "code",
   "execution_count": 9,
   "metadata": {},
   "outputs": [
    {
     "data": {
      "text/html": [
       "<div>\n",
       "<style scoped>\n",
       "    .dataframe tbody tr th:only-of-type {\n",
       "        vertical-align: middle;\n",
       "    }\n",
       "\n",
       "    .dataframe tbody tr th {\n",
       "        vertical-align: top;\n",
       "    }\n",
       "\n",
       "    .dataframe thead th {\n",
       "        text-align: right;\n",
       "    }\n",
       "</style>\n",
       "<table border=\"1\" class=\"dataframe\">\n",
       "  <thead>\n",
       "    <tr style=\"text-align: right;\">\n",
       "      <th></th>\n",
       "      <th>CoinName</th>\n",
       "      <th>Algorithm</th>\n",
       "      <th>IsTrading</th>\n",
       "      <th>ProofType</th>\n",
       "      <th>TotalCoinsMined</th>\n",
       "      <th>TotalCoinSupply</th>\n",
       "    </tr>\n",
       "  </thead>\n",
       "  <tbody>\n",
       "    <tr>\n",
       "      <th>0</th>\n",
       "      <td>42 Coin</td>\n",
       "      <td>Scrypt</td>\n",
       "      <td>True</td>\n",
       "      <td>PoW/PoS</td>\n",
       "      <td>4.199995e+01</td>\n",
       "      <td>42</td>\n",
       "    </tr>\n",
       "    <tr>\n",
       "      <th>1</th>\n",
       "      <td>365Coin</td>\n",
       "      <td>X11</td>\n",
       "      <td>True</td>\n",
       "      <td>PoW/PoS</td>\n",
       "      <td>NaN</td>\n",
       "      <td>2300000000</td>\n",
       "    </tr>\n",
       "    <tr>\n",
       "      <th>2</th>\n",
       "      <td>404Coin</td>\n",
       "      <td>Scrypt</td>\n",
       "      <td>True</td>\n",
       "      <td>PoW/PoS</td>\n",
       "      <td>1.055185e+09</td>\n",
       "      <td>532000000</td>\n",
       "    </tr>\n",
       "    <tr>\n",
       "      <th>3</th>\n",
       "      <td>SixEleven</td>\n",
       "      <td>SHA-256</td>\n",
       "      <td>True</td>\n",
       "      <td>PoW</td>\n",
       "      <td>NaN</td>\n",
       "      <td>611000</td>\n",
       "    </tr>\n",
       "    <tr>\n",
       "      <th>4</th>\n",
       "      <td>808</td>\n",
       "      <td>SHA-256</td>\n",
       "      <td>True</td>\n",
       "      <td>PoW/PoS</td>\n",
       "      <td>0.000000e+00</td>\n",
       "      <td>0</td>\n",
       "    </tr>\n",
       "  </tbody>\n",
       "</table>\n",
       "</div>"
      ],
      "text/plain": [
       "    CoinName Algorithm  IsTrading ProofType  TotalCoinsMined TotalCoinSupply\n",
       "0    42 Coin    Scrypt       True   PoW/PoS     4.199995e+01              42\n",
       "1    365Coin       X11       True   PoW/PoS              NaN      2300000000\n",
       "2    404Coin    Scrypt       True   PoW/PoS     1.055185e+09       532000000\n",
       "3  SixEleven   SHA-256       True       PoW              NaN          611000\n",
       "4        808   SHA-256       True   PoW/PoS     0.000000e+00               0"
      ]
     },
     "execution_count": 9,
     "metadata": {},
     "output_type": "execute_result"
    }
   ],
   "source": [
    "# Keep only necessary columns:\n",
    "# 'CoinName','Algorithm','IsTrading','ProofType','TotalCoinsMined','TotalCoinSupply'\n",
    "crypto_df = crypto_df.drop(columns=['Unnamed: 0'])\n",
    "crypto_df.head()"
   ]
  },
  {
   "cell_type": "code",
   "execution_count": 10,
   "metadata": {},
   "outputs": [
    {
     "data": {
      "text/html": [
       "<div>\n",
       "<style scoped>\n",
       "    .dataframe tbody tr th:only-of-type {\n",
       "        vertical-align: middle;\n",
       "    }\n",
       "\n",
       "    .dataframe tbody tr th {\n",
       "        vertical-align: top;\n",
       "    }\n",
       "\n",
       "    .dataframe thead th {\n",
       "        text-align: right;\n",
       "    }\n",
       "</style>\n",
       "<table border=\"1\" class=\"dataframe\">\n",
       "  <thead>\n",
       "    <tr style=\"text-align: right;\">\n",
       "      <th></th>\n",
       "      <th>CoinName</th>\n",
       "      <th>Algorithm</th>\n",
       "      <th>IsTrading</th>\n",
       "      <th>ProofType</th>\n",
       "      <th>TotalCoinsMined</th>\n",
       "      <th>TotalCoinSupply</th>\n",
       "    </tr>\n",
       "  </thead>\n",
       "  <tbody>\n",
       "    <tr>\n",
       "      <th>0</th>\n",
       "      <td>42 Coin</td>\n",
       "      <td>Scrypt</td>\n",
       "      <td>True</td>\n",
       "      <td>PoW/PoS</td>\n",
       "      <td>4.199995e+01</td>\n",
       "      <td>42</td>\n",
       "    </tr>\n",
       "    <tr>\n",
       "      <th>1</th>\n",
       "      <td>365Coin</td>\n",
       "      <td>X11</td>\n",
       "      <td>True</td>\n",
       "      <td>PoW/PoS</td>\n",
       "      <td>NaN</td>\n",
       "      <td>2300000000</td>\n",
       "    </tr>\n",
       "    <tr>\n",
       "      <th>2</th>\n",
       "      <td>404Coin</td>\n",
       "      <td>Scrypt</td>\n",
       "      <td>True</td>\n",
       "      <td>PoW/PoS</td>\n",
       "      <td>1.055185e+09</td>\n",
       "      <td>532000000</td>\n",
       "    </tr>\n",
       "    <tr>\n",
       "      <th>3</th>\n",
       "      <td>SixEleven</td>\n",
       "      <td>SHA-256</td>\n",
       "      <td>True</td>\n",
       "      <td>PoW</td>\n",
       "      <td>NaN</td>\n",
       "      <td>611000</td>\n",
       "    </tr>\n",
       "    <tr>\n",
       "      <th>4</th>\n",
       "      <td>808</td>\n",
       "      <td>SHA-256</td>\n",
       "      <td>True</td>\n",
       "      <td>PoW/PoS</td>\n",
       "      <td>0.000000e+00</td>\n",
       "      <td>0</td>\n",
       "    </tr>\n",
       "    <tr>\n",
       "      <th>5</th>\n",
       "      <td>EliteCoin</td>\n",
       "      <td>X13</td>\n",
       "      <td>True</td>\n",
       "      <td>PoW/PoS</td>\n",
       "      <td>2.927942e+10</td>\n",
       "      <td>314159265359</td>\n",
       "    </tr>\n",
       "    <tr>\n",
       "      <th>6</th>\n",
       "      <td>2015 coin</td>\n",
       "      <td>X11</td>\n",
       "      <td>True</td>\n",
       "      <td>PoW/PoS</td>\n",
       "      <td>NaN</td>\n",
       "      <td>0</td>\n",
       "    </tr>\n",
       "    <tr>\n",
       "      <th>7</th>\n",
       "      <td>Bitcoin</td>\n",
       "      <td>SHA-256</td>\n",
       "      <td>True</td>\n",
       "      <td>PoW</td>\n",
       "      <td>1.792718e+07</td>\n",
       "      <td>21000000</td>\n",
       "    </tr>\n",
       "    <tr>\n",
       "      <th>8</th>\n",
       "      <td>Ethereum</td>\n",
       "      <td>Ethash</td>\n",
       "      <td>True</td>\n",
       "      <td>PoW</td>\n",
       "      <td>1.076842e+08</td>\n",
       "      <td>0</td>\n",
       "    </tr>\n",
       "    <tr>\n",
       "      <th>9</th>\n",
       "      <td>Litecoin</td>\n",
       "      <td>Scrypt</td>\n",
       "      <td>True</td>\n",
       "      <td>PoW</td>\n",
       "      <td>6.303924e+07</td>\n",
       "      <td>84000000</td>\n",
       "    </tr>\n",
       "    <tr>\n",
       "      <th>10</th>\n",
       "      <td>Dash</td>\n",
       "      <td>X11</td>\n",
       "      <td>True</td>\n",
       "      <td>PoW/PoS</td>\n",
       "      <td>9.031294e+06</td>\n",
       "      <td>22000000</td>\n",
       "    </tr>\n",
       "    <tr>\n",
       "      <th>11</th>\n",
       "      <td>Monero</td>\n",
       "      <td>CryptoNight-V7</td>\n",
       "      <td>True</td>\n",
       "      <td>PoW</td>\n",
       "      <td>1.720114e+07</td>\n",
       "      <td>0</td>\n",
       "    </tr>\n",
       "    <tr>\n",
       "      <th>12</th>\n",
       "      <td>Ethereum Classic</td>\n",
       "      <td>Ethash</td>\n",
       "      <td>True</td>\n",
       "      <td>PoW</td>\n",
       "      <td>1.133597e+08</td>\n",
       "      <td>210000000</td>\n",
       "    </tr>\n",
       "    <tr>\n",
       "      <th>13</th>\n",
       "      <td>ZCash</td>\n",
       "      <td>Equihash</td>\n",
       "      <td>True</td>\n",
       "      <td>PoW</td>\n",
       "      <td>7.383056e+06</td>\n",
       "      <td>21000000</td>\n",
       "    </tr>\n",
       "    <tr>\n",
       "      <th>14</th>\n",
       "      <td>Bitshares</td>\n",
       "      <td>SHA-512</td>\n",
       "      <td>True</td>\n",
       "      <td>PoS</td>\n",
       "      <td>2.741570e+09</td>\n",
       "      <td>3600570502</td>\n",
       "    </tr>\n",
       "  </tbody>\n",
       "</table>\n",
       "</div>"
      ],
      "text/plain": [
       "            CoinName       Algorithm  IsTrading ProofType  TotalCoinsMined  \\\n",
       "0            42 Coin          Scrypt       True   PoW/PoS     4.199995e+01   \n",
       "1            365Coin             X11       True   PoW/PoS              NaN   \n",
       "2            404Coin          Scrypt       True   PoW/PoS     1.055185e+09   \n",
       "3          SixEleven         SHA-256       True       PoW              NaN   \n",
       "4                808         SHA-256       True   PoW/PoS     0.000000e+00   \n",
       "5          EliteCoin             X13       True   PoW/PoS     2.927942e+10   \n",
       "6          2015 coin             X11       True   PoW/PoS              NaN   \n",
       "7            Bitcoin         SHA-256       True       PoW     1.792718e+07   \n",
       "8           Ethereum          Ethash       True       PoW     1.076842e+08   \n",
       "9           Litecoin          Scrypt       True       PoW     6.303924e+07   \n",
       "10              Dash             X11       True   PoW/PoS     9.031294e+06   \n",
       "11            Monero  CryptoNight-V7       True       PoW     1.720114e+07   \n",
       "12  Ethereum Classic          Ethash       True       PoW     1.133597e+08   \n",
       "13             ZCash        Equihash       True       PoW     7.383056e+06   \n",
       "14         Bitshares         SHA-512       True       PoS     2.741570e+09   \n",
       "\n",
       "   TotalCoinSupply  \n",
       "0               42  \n",
       "1       2300000000  \n",
       "2        532000000  \n",
       "3           611000  \n",
       "4                0  \n",
       "5     314159265359  \n",
       "6                0  \n",
       "7         21000000  \n",
       "8                0  \n",
       "9         84000000  \n",
       "10        22000000  \n",
       "11               0  \n",
       "12       210000000  \n",
       "13        21000000  \n",
       "14      3600570502  "
      ]
     },
     "execution_count": 10,
     "metadata": {},
     "output_type": "execute_result"
    }
   ],
   "source": [
    "# Keep only cryptocurrencies that are trading\n",
    "crypto_df = crypto_df.loc[crypto_df['IsTrading'] == True]\n",
    "crypto_df.head(15)"
   ]
  },
  {
   "cell_type": "code",
   "execution_count": 11,
   "metadata": {},
   "outputs": [
    {
     "data": {
      "text/html": [
       "<div>\n",
       "<style scoped>\n",
       "    .dataframe tbody tr th:only-of-type {\n",
       "        vertical-align: middle;\n",
       "    }\n",
       "\n",
       "    .dataframe tbody tr th {\n",
       "        vertical-align: top;\n",
       "    }\n",
       "\n",
       "    .dataframe thead th {\n",
       "        text-align: right;\n",
       "    }\n",
       "</style>\n",
       "<table border=\"1\" class=\"dataframe\">\n",
       "  <thead>\n",
       "    <tr style=\"text-align: right;\">\n",
       "      <th></th>\n",
       "      <th>CoinName</th>\n",
       "      <th>Algorithm</th>\n",
       "      <th>IsTrading</th>\n",
       "      <th>ProofType</th>\n",
       "      <th>TotalCoinsMined</th>\n",
       "      <th>TotalCoinSupply</th>\n",
       "    </tr>\n",
       "  </thead>\n",
       "  <tbody>\n",
       "    <tr>\n",
       "      <th>0</th>\n",
       "      <td>42 Coin</td>\n",
       "      <td>Scrypt</td>\n",
       "      <td>True</td>\n",
       "      <td>PoW/PoS</td>\n",
       "      <td>4.199995e+01</td>\n",
       "      <td>42</td>\n",
       "    </tr>\n",
       "    <tr>\n",
       "      <th>1</th>\n",
       "      <td>365Coin</td>\n",
       "      <td>X11</td>\n",
       "      <td>True</td>\n",
       "      <td>PoW/PoS</td>\n",
       "      <td>NaN</td>\n",
       "      <td>2300000000</td>\n",
       "    </tr>\n",
       "    <tr>\n",
       "      <th>2</th>\n",
       "      <td>404Coin</td>\n",
       "      <td>Scrypt</td>\n",
       "      <td>True</td>\n",
       "      <td>PoW/PoS</td>\n",
       "      <td>1.055185e+09</td>\n",
       "      <td>532000000</td>\n",
       "    </tr>\n",
       "    <tr>\n",
       "      <th>3</th>\n",
       "      <td>SixEleven</td>\n",
       "      <td>SHA-256</td>\n",
       "      <td>True</td>\n",
       "      <td>PoW</td>\n",
       "      <td>NaN</td>\n",
       "      <td>611000</td>\n",
       "    </tr>\n",
       "    <tr>\n",
       "      <th>4</th>\n",
       "      <td>808</td>\n",
       "      <td>SHA-256</td>\n",
       "      <td>True</td>\n",
       "      <td>PoW/PoS</td>\n",
       "      <td>0.000000e+00</td>\n",
       "      <td>0</td>\n",
       "    </tr>\n",
       "    <tr>\n",
       "      <th>5</th>\n",
       "      <td>EliteCoin</td>\n",
       "      <td>X13</td>\n",
       "      <td>True</td>\n",
       "      <td>PoW/PoS</td>\n",
       "      <td>2.927942e+10</td>\n",
       "      <td>314159265359</td>\n",
       "    </tr>\n",
       "    <tr>\n",
       "      <th>6</th>\n",
       "      <td>2015 coin</td>\n",
       "      <td>X11</td>\n",
       "      <td>True</td>\n",
       "      <td>PoW/PoS</td>\n",
       "      <td>NaN</td>\n",
       "      <td>0</td>\n",
       "    </tr>\n",
       "    <tr>\n",
       "      <th>7</th>\n",
       "      <td>Bitcoin</td>\n",
       "      <td>SHA-256</td>\n",
       "      <td>True</td>\n",
       "      <td>PoW</td>\n",
       "      <td>1.792718e+07</td>\n",
       "      <td>21000000</td>\n",
       "    </tr>\n",
       "    <tr>\n",
       "      <th>8</th>\n",
       "      <td>Ethereum</td>\n",
       "      <td>Ethash</td>\n",
       "      <td>True</td>\n",
       "      <td>PoW</td>\n",
       "      <td>1.076842e+08</td>\n",
       "      <td>0</td>\n",
       "    </tr>\n",
       "    <tr>\n",
       "      <th>9</th>\n",
       "      <td>Litecoin</td>\n",
       "      <td>Scrypt</td>\n",
       "      <td>True</td>\n",
       "      <td>PoW</td>\n",
       "      <td>6.303924e+07</td>\n",
       "      <td>84000000</td>\n",
       "    </tr>\n",
       "    <tr>\n",
       "      <th>10</th>\n",
       "      <td>Dash</td>\n",
       "      <td>X11</td>\n",
       "      <td>True</td>\n",
       "      <td>PoW/PoS</td>\n",
       "      <td>9.031294e+06</td>\n",
       "      <td>22000000</td>\n",
       "    </tr>\n",
       "    <tr>\n",
       "      <th>11</th>\n",
       "      <td>Monero</td>\n",
       "      <td>CryptoNight-V7</td>\n",
       "      <td>True</td>\n",
       "      <td>PoW</td>\n",
       "      <td>1.720114e+07</td>\n",
       "      <td>0</td>\n",
       "    </tr>\n",
       "    <tr>\n",
       "      <th>12</th>\n",
       "      <td>Ethereum Classic</td>\n",
       "      <td>Ethash</td>\n",
       "      <td>True</td>\n",
       "      <td>PoW</td>\n",
       "      <td>1.133597e+08</td>\n",
       "      <td>210000000</td>\n",
       "    </tr>\n",
       "    <tr>\n",
       "      <th>13</th>\n",
       "      <td>ZCash</td>\n",
       "      <td>Equihash</td>\n",
       "      <td>True</td>\n",
       "      <td>PoW</td>\n",
       "      <td>7.383056e+06</td>\n",
       "      <td>21000000</td>\n",
       "    </tr>\n",
       "    <tr>\n",
       "      <th>14</th>\n",
       "      <td>Bitshares</td>\n",
       "      <td>SHA-512</td>\n",
       "      <td>True</td>\n",
       "      <td>PoS</td>\n",
       "      <td>2.741570e+09</td>\n",
       "      <td>3600570502</td>\n",
       "    </tr>\n",
       "  </tbody>\n",
       "</table>\n",
       "</div>"
      ],
      "text/plain": [
       "            CoinName       Algorithm  IsTrading ProofType  TotalCoinsMined  \\\n",
       "0            42 Coin          Scrypt       True   PoW/PoS     4.199995e+01   \n",
       "1            365Coin             X11       True   PoW/PoS              NaN   \n",
       "2            404Coin          Scrypt       True   PoW/PoS     1.055185e+09   \n",
       "3          SixEleven         SHA-256       True       PoW              NaN   \n",
       "4                808         SHA-256       True   PoW/PoS     0.000000e+00   \n",
       "5          EliteCoin             X13       True   PoW/PoS     2.927942e+10   \n",
       "6          2015 coin             X11       True   PoW/PoS              NaN   \n",
       "7            Bitcoin         SHA-256       True       PoW     1.792718e+07   \n",
       "8           Ethereum          Ethash       True       PoW     1.076842e+08   \n",
       "9           Litecoin          Scrypt       True       PoW     6.303924e+07   \n",
       "10              Dash             X11       True   PoW/PoS     9.031294e+06   \n",
       "11            Monero  CryptoNight-V7       True       PoW     1.720114e+07   \n",
       "12  Ethereum Classic          Ethash       True       PoW     1.133597e+08   \n",
       "13             ZCash        Equihash       True       PoW     7.383056e+06   \n",
       "14         Bitshares         SHA-512       True       PoS     2.741570e+09   \n",
       "\n",
       "   TotalCoinSupply  \n",
       "0               42  \n",
       "1       2300000000  \n",
       "2        532000000  \n",
       "3           611000  \n",
       "4                0  \n",
       "5     314159265359  \n",
       "6                0  \n",
       "7         21000000  \n",
       "8                0  \n",
       "9         84000000  \n",
       "10        22000000  \n",
       "11               0  \n",
       "12       210000000  \n",
       "13        21000000  \n",
       "14      3600570502  "
      ]
     },
     "execution_count": 11,
     "metadata": {},
     "output_type": "execute_result"
    }
   ],
   "source": [
    "# Keep only cryptocurrencies with a working algorithm\n",
    "crypto_df = crypto_df.loc[crypto_df['Algorithm'] != 'N/A']\n",
    "\n",
    "crypto_df.head(15)"
   ]
  },
  {
   "cell_type": "code",
   "execution_count": 15,
   "metadata": {},
   "outputs": [
    {
     "data": {
      "text/html": [
       "<div>\n",
       "<style scoped>\n",
       "    .dataframe tbody tr th:only-of-type {\n",
       "        vertical-align: middle;\n",
       "    }\n",
       "\n",
       "    .dataframe tbody tr th {\n",
       "        vertical-align: top;\n",
       "    }\n",
       "\n",
       "    .dataframe thead th {\n",
       "        text-align: right;\n",
       "    }\n",
       "</style>\n",
       "<table border=\"1\" class=\"dataframe\">\n",
       "  <thead>\n",
       "    <tr style=\"text-align: right;\">\n",
       "      <th></th>\n",
       "      <th>CoinName</th>\n",
       "      <th>Algorithm</th>\n",
       "      <th>ProofType</th>\n",
       "      <th>TotalCoinsMined</th>\n",
       "      <th>TotalCoinSupply</th>\n",
       "    </tr>\n",
       "  </thead>\n",
       "  <tbody>\n",
       "    <tr>\n",
       "      <th>0</th>\n",
       "      <td>42 Coin</td>\n",
       "      <td>Scrypt</td>\n",
       "      <td>PoW/PoS</td>\n",
       "      <td>4.199995e+01</td>\n",
       "      <td>42</td>\n",
       "    </tr>\n",
       "    <tr>\n",
       "      <th>2</th>\n",
       "      <td>404Coin</td>\n",
       "      <td>Scrypt</td>\n",
       "      <td>PoW/PoS</td>\n",
       "      <td>1.055185e+09</td>\n",
       "      <td>532000000</td>\n",
       "    </tr>\n",
       "    <tr>\n",
       "      <th>4</th>\n",
       "      <td>808</td>\n",
       "      <td>SHA-256</td>\n",
       "      <td>PoW/PoS</td>\n",
       "      <td>0.000000e+00</td>\n",
       "      <td>0</td>\n",
       "    </tr>\n",
       "    <tr>\n",
       "      <th>5</th>\n",
       "      <td>EliteCoin</td>\n",
       "      <td>X13</td>\n",
       "      <td>PoW/PoS</td>\n",
       "      <td>2.927942e+10</td>\n",
       "      <td>314159265359</td>\n",
       "    </tr>\n",
       "    <tr>\n",
       "      <th>7</th>\n",
       "      <td>Bitcoin</td>\n",
       "      <td>SHA-256</td>\n",
       "      <td>PoW</td>\n",
       "      <td>1.792718e+07</td>\n",
       "      <td>21000000</td>\n",
       "    </tr>\n",
       "    <tr>\n",
       "      <th>8</th>\n",
       "      <td>Ethereum</td>\n",
       "      <td>Ethash</td>\n",
       "      <td>PoW</td>\n",
       "      <td>1.076842e+08</td>\n",
       "      <td>0</td>\n",
       "    </tr>\n",
       "    <tr>\n",
       "      <th>9</th>\n",
       "      <td>Litecoin</td>\n",
       "      <td>Scrypt</td>\n",
       "      <td>PoW</td>\n",
       "      <td>6.303924e+07</td>\n",
       "      <td>84000000</td>\n",
       "    </tr>\n",
       "    <tr>\n",
       "      <th>10</th>\n",
       "      <td>Dash</td>\n",
       "      <td>X11</td>\n",
       "      <td>PoW/PoS</td>\n",
       "      <td>9.031294e+06</td>\n",
       "      <td>22000000</td>\n",
       "    </tr>\n",
       "    <tr>\n",
       "      <th>11</th>\n",
       "      <td>Monero</td>\n",
       "      <td>CryptoNight-V7</td>\n",
       "      <td>PoW</td>\n",
       "      <td>1.720114e+07</td>\n",
       "      <td>0</td>\n",
       "    </tr>\n",
       "    <tr>\n",
       "      <th>12</th>\n",
       "      <td>Ethereum Classic</td>\n",
       "      <td>Ethash</td>\n",
       "      <td>PoW</td>\n",
       "      <td>1.133597e+08</td>\n",
       "      <td>210000000</td>\n",
       "    </tr>\n",
       "    <tr>\n",
       "      <th>13</th>\n",
       "      <td>ZCash</td>\n",
       "      <td>Equihash</td>\n",
       "      <td>PoW</td>\n",
       "      <td>7.383056e+06</td>\n",
       "      <td>21000000</td>\n",
       "    </tr>\n",
       "    <tr>\n",
       "      <th>14</th>\n",
       "      <td>Bitshares</td>\n",
       "      <td>SHA-512</td>\n",
       "      <td>PoS</td>\n",
       "      <td>2.741570e+09</td>\n",
       "      <td>3600570502</td>\n",
       "    </tr>\n",
       "    <tr>\n",
       "      <th>15</th>\n",
       "      <td>DigiByte</td>\n",
       "      <td>Multiple</td>\n",
       "      <td>PoW</td>\n",
       "      <td>1.140622e+10</td>\n",
       "      <td>21000000000</td>\n",
       "    </tr>\n",
       "    <tr>\n",
       "      <th>16</th>\n",
       "      <td>BitcoinDark</td>\n",
       "      <td>SHA-256</td>\n",
       "      <td>PoW/PoS</td>\n",
       "      <td>1.288862e+06</td>\n",
       "      <td>22000000</td>\n",
       "    </tr>\n",
       "    <tr>\n",
       "      <th>18</th>\n",
       "      <td>Bitstake</td>\n",
       "      <td>X11</td>\n",
       "      <td>PoW/PoS</td>\n",
       "      <td>0.000000e+00</td>\n",
       "      <td>1300000</td>\n",
       "    </tr>\n",
       "  </tbody>\n",
       "</table>\n",
       "</div>"
      ],
      "text/plain": [
       "            CoinName       Algorithm ProofType  TotalCoinsMined  \\\n",
       "0            42 Coin          Scrypt   PoW/PoS     4.199995e+01   \n",
       "2            404Coin          Scrypt   PoW/PoS     1.055185e+09   \n",
       "4                808         SHA-256   PoW/PoS     0.000000e+00   \n",
       "5          EliteCoin             X13   PoW/PoS     2.927942e+10   \n",
       "7            Bitcoin         SHA-256       PoW     1.792718e+07   \n",
       "8           Ethereum          Ethash       PoW     1.076842e+08   \n",
       "9           Litecoin          Scrypt       PoW     6.303924e+07   \n",
       "10              Dash             X11   PoW/PoS     9.031294e+06   \n",
       "11            Monero  CryptoNight-V7       PoW     1.720114e+07   \n",
       "12  Ethereum Classic          Ethash       PoW     1.133597e+08   \n",
       "13             ZCash        Equihash       PoW     7.383056e+06   \n",
       "14         Bitshares         SHA-512       PoS     2.741570e+09   \n",
       "15          DigiByte        Multiple       PoW     1.140622e+10   \n",
       "16       BitcoinDark         SHA-256   PoW/PoS     1.288862e+06   \n",
       "18          Bitstake             X11   PoW/PoS     0.000000e+00   \n",
       "\n",
       "   TotalCoinSupply  \n",
       "0               42  \n",
       "2        532000000  \n",
       "4                0  \n",
       "5     314159265359  \n",
       "7         21000000  \n",
       "8                0  \n",
       "9         84000000  \n",
       "10        22000000  \n",
       "11               0  \n",
       "12       210000000  \n",
       "13        21000000  \n",
       "14      3600570502  \n",
       "15     21000000000  \n",
       "16        22000000  \n",
       "18         1300000  "
      ]
     },
     "execution_count": 15,
     "metadata": {},
     "output_type": "execute_result"
    }
   ],
   "source": [
    "# Remove the \"IsTrading\" column\n",
    "crypto_df = crypto_df.dropna()\n",
    "crypto_df.head(15)"
   ]
  },
  {
   "cell_type": "code",
   "execution_count": 16,
   "metadata": {},
   "outputs": [
    {
     "data": {
      "text/html": [
       "<div>\n",
       "<style scoped>\n",
       "    .dataframe tbody tr th:only-of-type {\n",
       "        vertical-align: middle;\n",
       "    }\n",
       "\n",
       "    .dataframe tbody tr th {\n",
       "        vertical-align: top;\n",
       "    }\n",
       "\n",
       "    .dataframe thead th {\n",
       "        text-align: right;\n",
       "    }\n",
       "</style>\n",
       "<table border=\"1\" class=\"dataframe\">\n",
       "  <thead>\n",
       "    <tr style=\"text-align: right;\">\n",
       "      <th></th>\n",
       "      <th>CoinName</th>\n",
       "      <th>Algorithm</th>\n",
       "      <th>ProofType</th>\n",
       "      <th>TotalCoinsMined</th>\n",
       "      <th>TotalCoinSupply</th>\n",
       "    </tr>\n",
       "  </thead>\n",
       "  <tbody>\n",
       "    <tr>\n",
       "      <th>0</th>\n",
       "      <td>42 Coin</td>\n",
       "      <td>Scrypt</td>\n",
       "      <td>PoW/PoS</td>\n",
       "      <td>4.199995e+01</td>\n",
       "      <td>42</td>\n",
       "    </tr>\n",
       "    <tr>\n",
       "      <th>2</th>\n",
       "      <td>404Coin</td>\n",
       "      <td>Scrypt</td>\n",
       "      <td>PoW/PoS</td>\n",
       "      <td>1.055185e+09</td>\n",
       "      <td>532000000</td>\n",
       "    </tr>\n",
       "    <tr>\n",
       "      <th>5</th>\n",
       "      <td>EliteCoin</td>\n",
       "      <td>X13</td>\n",
       "      <td>PoW/PoS</td>\n",
       "      <td>2.927942e+10</td>\n",
       "      <td>314159265359</td>\n",
       "    </tr>\n",
       "    <tr>\n",
       "      <th>7</th>\n",
       "      <td>Bitcoin</td>\n",
       "      <td>SHA-256</td>\n",
       "      <td>PoW</td>\n",
       "      <td>1.792718e+07</td>\n",
       "      <td>21000000</td>\n",
       "    </tr>\n",
       "    <tr>\n",
       "      <th>8</th>\n",
       "      <td>Ethereum</td>\n",
       "      <td>Ethash</td>\n",
       "      <td>PoW</td>\n",
       "      <td>1.076842e+08</td>\n",
       "      <td>0</td>\n",
       "    </tr>\n",
       "    <tr>\n",
       "      <th>9</th>\n",
       "      <td>Litecoin</td>\n",
       "      <td>Scrypt</td>\n",
       "      <td>PoW</td>\n",
       "      <td>6.303924e+07</td>\n",
       "      <td>84000000</td>\n",
       "    </tr>\n",
       "    <tr>\n",
       "      <th>10</th>\n",
       "      <td>Dash</td>\n",
       "      <td>X11</td>\n",
       "      <td>PoW/PoS</td>\n",
       "      <td>9.031294e+06</td>\n",
       "      <td>22000000</td>\n",
       "    </tr>\n",
       "    <tr>\n",
       "      <th>11</th>\n",
       "      <td>Monero</td>\n",
       "      <td>CryptoNight-V7</td>\n",
       "      <td>PoW</td>\n",
       "      <td>1.720114e+07</td>\n",
       "      <td>0</td>\n",
       "    </tr>\n",
       "    <tr>\n",
       "      <th>12</th>\n",
       "      <td>Ethereum Classic</td>\n",
       "      <td>Ethash</td>\n",
       "      <td>PoW</td>\n",
       "      <td>1.133597e+08</td>\n",
       "      <td>210000000</td>\n",
       "    </tr>\n",
       "    <tr>\n",
       "      <th>13</th>\n",
       "      <td>ZCash</td>\n",
       "      <td>Equihash</td>\n",
       "      <td>PoW</td>\n",
       "      <td>7.383056e+06</td>\n",
       "      <td>21000000</td>\n",
       "    </tr>\n",
       "    <tr>\n",
       "      <th>14</th>\n",
       "      <td>Bitshares</td>\n",
       "      <td>SHA-512</td>\n",
       "      <td>PoS</td>\n",
       "      <td>2.741570e+09</td>\n",
       "      <td>3600570502</td>\n",
       "    </tr>\n",
       "    <tr>\n",
       "      <th>15</th>\n",
       "      <td>DigiByte</td>\n",
       "      <td>Multiple</td>\n",
       "      <td>PoW</td>\n",
       "      <td>1.140622e+10</td>\n",
       "      <td>21000000000</td>\n",
       "    </tr>\n",
       "    <tr>\n",
       "      <th>16</th>\n",
       "      <td>BitcoinDark</td>\n",
       "      <td>SHA-256</td>\n",
       "      <td>PoW/PoS</td>\n",
       "      <td>1.288862e+06</td>\n",
       "      <td>22000000</td>\n",
       "    </tr>\n",
       "    <tr>\n",
       "      <th>19</th>\n",
       "      <td>PayCoin</td>\n",
       "      <td>SHA-256</td>\n",
       "      <td>PoS</td>\n",
       "      <td>1.199533e+07</td>\n",
       "      <td>12500000</td>\n",
       "    </tr>\n",
       "    <tr>\n",
       "      <th>20</th>\n",
       "      <td>ProsperCoin</td>\n",
       "      <td>Scrypt</td>\n",
       "      <td>PoW</td>\n",
       "      <td>5.768310e+06</td>\n",
       "      <td>21000000</td>\n",
       "    </tr>\n",
       "  </tbody>\n",
       "</table>\n",
       "</div>"
      ],
      "text/plain": [
       "            CoinName       Algorithm ProofType  TotalCoinsMined  \\\n",
       "0            42 Coin          Scrypt   PoW/PoS     4.199995e+01   \n",
       "2            404Coin          Scrypt   PoW/PoS     1.055185e+09   \n",
       "5          EliteCoin             X13   PoW/PoS     2.927942e+10   \n",
       "7            Bitcoin         SHA-256       PoW     1.792718e+07   \n",
       "8           Ethereum          Ethash       PoW     1.076842e+08   \n",
       "9           Litecoin          Scrypt       PoW     6.303924e+07   \n",
       "10              Dash             X11   PoW/PoS     9.031294e+06   \n",
       "11            Monero  CryptoNight-V7       PoW     1.720114e+07   \n",
       "12  Ethereum Classic          Ethash       PoW     1.133597e+08   \n",
       "13             ZCash        Equihash       PoW     7.383056e+06   \n",
       "14         Bitshares         SHA-512       PoS     2.741570e+09   \n",
       "15          DigiByte        Multiple       PoW     1.140622e+10   \n",
       "16       BitcoinDark         SHA-256   PoW/PoS     1.288862e+06   \n",
       "19           PayCoin         SHA-256       PoS     1.199533e+07   \n",
       "20       ProsperCoin          Scrypt       PoW     5.768310e+06   \n",
       "\n",
       "   TotalCoinSupply  \n",
       "0               42  \n",
       "2        532000000  \n",
       "5     314159265359  \n",
       "7         21000000  \n",
       "8                0  \n",
       "9         84000000  \n",
       "10        22000000  \n",
       "11               0  \n",
       "12       210000000  \n",
       "13        21000000  \n",
       "14      3600570502  \n",
       "15     21000000000  \n",
       "16        22000000  \n",
       "19        12500000  \n",
       "20        21000000  "
      ]
     },
     "execution_count": 16,
     "metadata": {},
     "output_type": "execute_result"
    }
   ],
   "source": [
    "# Remove rows with at least 1 null value\n",
    "crypto_df = crypto_df.loc[crypto_df['TotalCoinsMined'] != 0]\n",
    "crypto_df.head(15)"
   ]
  },
  {
   "cell_type": "code",
   "execution_count": 17,
   "metadata": {},
   "outputs": [
    {
     "data": {
      "text/html": [
       "<div>\n",
       "<style scoped>\n",
       "    .dataframe tbody tr th:only-of-type {\n",
       "        vertical-align: middle;\n",
       "    }\n",
       "\n",
       "    .dataframe tbody tr th {\n",
       "        vertical-align: top;\n",
       "    }\n",
       "\n",
       "    .dataframe thead th {\n",
       "        text-align: right;\n",
       "    }\n",
       "</style>\n",
       "<table border=\"1\" class=\"dataframe\">\n",
       "  <thead>\n",
       "    <tr style=\"text-align: right;\">\n",
       "      <th></th>\n",
       "      <th>CoinName</th>\n",
       "      <th>Algorithm</th>\n",
       "      <th>ProofType</th>\n",
       "      <th>TotalCoinsMined</th>\n",
       "      <th>TotalCoinSupply</th>\n",
       "    </tr>\n",
       "  </thead>\n",
       "  <tbody>\n",
       "    <tr>\n",
       "      <th>0</th>\n",
       "      <td>42 Coin</td>\n",
       "      <td>Scrypt</td>\n",
       "      <td>PoW/PoS</td>\n",
       "      <td>4.199995e+01</td>\n",
       "      <td>42</td>\n",
       "    </tr>\n",
       "    <tr>\n",
       "      <th>2</th>\n",
       "      <td>404Coin</td>\n",
       "      <td>Scrypt</td>\n",
       "      <td>PoW/PoS</td>\n",
       "      <td>1.055185e+09</td>\n",
       "      <td>532000000</td>\n",
       "    </tr>\n",
       "    <tr>\n",
       "      <th>5</th>\n",
       "      <td>EliteCoin</td>\n",
       "      <td>X13</td>\n",
       "      <td>PoW/PoS</td>\n",
       "      <td>2.927942e+10</td>\n",
       "      <td>314159265359</td>\n",
       "    </tr>\n",
       "    <tr>\n",
       "      <th>7</th>\n",
       "      <td>Bitcoin</td>\n",
       "      <td>SHA-256</td>\n",
       "      <td>PoW</td>\n",
       "      <td>1.792718e+07</td>\n",
       "      <td>21000000</td>\n",
       "    </tr>\n",
       "    <tr>\n",
       "      <th>8</th>\n",
       "      <td>Ethereum</td>\n",
       "      <td>Ethash</td>\n",
       "      <td>PoW</td>\n",
       "      <td>1.076842e+08</td>\n",
       "      <td>0</td>\n",
       "    </tr>\n",
       "    <tr>\n",
       "      <th>9</th>\n",
       "      <td>Litecoin</td>\n",
       "      <td>Scrypt</td>\n",
       "      <td>PoW</td>\n",
       "      <td>6.303924e+07</td>\n",
       "      <td>84000000</td>\n",
       "    </tr>\n",
       "    <tr>\n",
       "      <th>10</th>\n",
       "      <td>Dash</td>\n",
       "      <td>X11</td>\n",
       "      <td>PoW/PoS</td>\n",
       "      <td>9.031294e+06</td>\n",
       "      <td>22000000</td>\n",
       "    </tr>\n",
       "    <tr>\n",
       "      <th>11</th>\n",
       "      <td>Monero</td>\n",
       "      <td>CryptoNight-V7</td>\n",
       "      <td>PoW</td>\n",
       "      <td>1.720114e+07</td>\n",
       "      <td>0</td>\n",
       "    </tr>\n",
       "    <tr>\n",
       "      <th>12</th>\n",
       "      <td>Ethereum Classic</td>\n",
       "      <td>Ethash</td>\n",
       "      <td>PoW</td>\n",
       "      <td>1.133597e+08</td>\n",
       "      <td>210000000</td>\n",
       "    </tr>\n",
       "    <tr>\n",
       "      <th>13</th>\n",
       "      <td>ZCash</td>\n",
       "      <td>Equihash</td>\n",
       "      <td>PoW</td>\n",
       "      <td>7.383056e+06</td>\n",
       "      <td>21000000</td>\n",
       "    </tr>\n",
       "    <tr>\n",
       "      <th>14</th>\n",
       "      <td>Bitshares</td>\n",
       "      <td>SHA-512</td>\n",
       "      <td>PoS</td>\n",
       "      <td>2.741570e+09</td>\n",
       "      <td>3600570502</td>\n",
       "    </tr>\n",
       "    <tr>\n",
       "      <th>15</th>\n",
       "      <td>DigiByte</td>\n",
       "      <td>Multiple</td>\n",
       "      <td>PoW</td>\n",
       "      <td>1.140622e+10</td>\n",
       "      <td>21000000000</td>\n",
       "    </tr>\n",
       "    <tr>\n",
       "      <th>16</th>\n",
       "      <td>BitcoinDark</td>\n",
       "      <td>SHA-256</td>\n",
       "      <td>PoW/PoS</td>\n",
       "      <td>1.288862e+06</td>\n",
       "      <td>22000000</td>\n",
       "    </tr>\n",
       "    <tr>\n",
       "      <th>19</th>\n",
       "      <td>PayCoin</td>\n",
       "      <td>SHA-256</td>\n",
       "      <td>PoS</td>\n",
       "      <td>1.199533e+07</td>\n",
       "      <td>12500000</td>\n",
       "    </tr>\n",
       "    <tr>\n",
       "      <th>20</th>\n",
       "      <td>ProsperCoin</td>\n",
       "      <td>Scrypt</td>\n",
       "      <td>PoW</td>\n",
       "      <td>5.768310e+06</td>\n",
       "      <td>21000000</td>\n",
       "    </tr>\n",
       "  </tbody>\n",
       "</table>\n",
       "</div>"
      ],
      "text/plain": [
       "            CoinName       Algorithm ProofType  TotalCoinsMined  \\\n",
       "0            42 Coin          Scrypt   PoW/PoS     4.199995e+01   \n",
       "2            404Coin          Scrypt   PoW/PoS     1.055185e+09   \n",
       "5          EliteCoin             X13   PoW/PoS     2.927942e+10   \n",
       "7            Bitcoin         SHA-256       PoW     1.792718e+07   \n",
       "8           Ethereum          Ethash       PoW     1.076842e+08   \n",
       "9           Litecoin          Scrypt       PoW     6.303924e+07   \n",
       "10              Dash             X11   PoW/PoS     9.031294e+06   \n",
       "11            Monero  CryptoNight-V7       PoW     1.720114e+07   \n",
       "12  Ethereum Classic          Ethash       PoW     1.133597e+08   \n",
       "13             ZCash        Equihash       PoW     7.383056e+06   \n",
       "14         Bitshares         SHA-512       PoS     2.741570e+09   \n",
       "15          DigiByte        Multiple       PoW     1.140622e+10   \n",
       "16       BitcoinDark         SHA-256   PoW/PoS     1.288862e+06   \n",
       "19           PayCoin         SHA-256       PoS     1.199533e+07   \n",
       "20       ProsperCoin          Scrypt       PoW     5.768310e+06   \n",
       "\n",
       "   TotalCoinSupply  \n",
       "0               42  \n",
       "2        532000000  \n",
       "5     314159265359  \n",
       "7         21000000  \n",
       "8                0  \n",
       "9         84000000  \n",
       "10        22000000  \n",
       "11               0  \n",
       "12       210000000  \n",
       "13        21000000  \n",
       "14      3600570502  \n",
       "15     21000000000  \n",
       "16        22000000  \n",
       "19        12500000  \n",
       "20        21000000  "
      ]
     },
     "execution_count": 17,
     "metadata": {},
     "output_type": "execute_result"
    }
   ],
   "source": [
    "# Remove rows with cryptocurrencies having no coins mined\n",
    "crypto_df = crypto_df.loc[crypto_df['TotalCoinsMined'] != 0]\n",
    "crypto_df.head(15)"
   ]
  },
  {
   "cell_type": "code",
   "execution_count": 18,
   "metadata": {},
   "outputs": [
    {
     "data": {
      "text/html": [
       "<div>\n",
       "<style scoped>\n",
       "    .dataframe tbody tr th:only-of-type {\n",
       "        vertical-align: middle;\n",
       "    }\n",
       "\n",
       "    .dataframe tbody tr th {\n",
       "        vertical-align: top;\n",
       "    }\n",
       "\n",
       "    .dataframe thead th {\n",
       "        text-align: right;\n",
       "    }\n",
       "</style>\n",
       "<table border=\"1\" class=\"dataframe\">\n",
       "  <thead>\n",
       "    <tr style=\"text-align: right;\">\n",
       "      <th></th>\n",
       "      <th>CoinName</th>\n",
       "      <th>Algorithm</th>\n",
       "      <th>ProofType</th>\n",
       "      <th>TotalCoinsMined</th>\n",
       "      <th>TotalCoinSupply</th>\n",
       "    </tr>\n",
       "  </thead>\n",
       "  <tbody>\n",
       "    <tr>\n",
       "      <th>0</th>\n",
       "      <td>42 Coin</td>\n",
       "      <td>Scrypt</td>\n",
       "      <td>PoW/PoS</td>\n",
       "      <td>4.199995e+01</td>\n",
       "      <td>42</td>\n",
       "    </tr>\n",
       "    <tr>\n",
       "      <th>2</th>\n",
       "      <td>404Coin</td>\n",
       "      <td>Scrypt</td>\n",
       "      <td>PoW/PoS</td>\n",
       "      <td>1.055185e+09</td>\n",
       "      <td>532000000</td>\n",
       "    </tr>\n",
       "    <tr>\n",
       "      <th>5</th>\n",
       "      <td>EliteCoin</td>\n",
       "      <td>X13</td>\n",
       "      <td>PoW/PoS</td>\n",
       "      <td>2.927942e+10</td>\n",
       "      <td>314159265359</td>\n",
       "    </tr>\n",
       "    <tr>\n",
       "      <th>7</th>\n",
       "      <td>Bitcoin</td>\n",
       "      <td>SHA-256</td>\n",
       "      <td>PoW</td>\n",
       "      <td>1.792718e+07</td>\n",
       "      <td>21000000</td>\n",
       "    </tr>\n",
       "    <tr>\n",
       "      <th>8</th>\n",
       "      <td>Ethereum</td>\n",
       "      <td>Ethash</td>\n",
       "      <td>PoW</td>\n",
       "      <td>1.076842e+08</td>\n",
       "      <td>0</td>\n",
       "    </tr>\n",
       "    <tr>\n",
       "      <th>9</th>\n",
       "      <td>Litecoin</td>\n",
       "      <td>Scrypt</td>\n",
       "      <td>PoW</td>\n",
       "      <td>6.303924e+07</td>\n",
       "      <td>84000000</td>\n",
       "    </tr>\n",
       "    <tr>\n",
       "      <th>10</th>\n",
       "      <td>Dash</td>\n",
       "      <td>X11</td>\n",
       "      <td>PoW/PoS</td>\n",
       "      <td>9.031294e+06</td>\n",
       "      <td>22000000</td>\n",
       "    </tr>\n",
       "    <tr>\n",
       "      <th>11</th>\n",
       "      <td>Monero</td>\n",
       "      <td>CryptoNight-V7</td>\n",
       "      <td>PoW</td>\n",
       "      <td>1.720114e+07</td>\n",
       "      <td>0</td>\n",
       "    </tr>\n",
       "    <tr>\n",
       "      <th>12</th>\n",
       "      <td>Ethereum Classic</td>\n",
       "      <td>Ethash</td>\n",
       "      <td>PoW</td>\n",
       "      <td>1.133597e+08</td>\n",
       "      <td>210000000</td>\n",
       "    </tr>\n",
       "    <tr>\n",
       "      <th>13</th>\n",
       "      <td>ZCash</td>\n",
       "      <td>Equihash</td>\n",
       "      <td>PoW</td>\n",
       "      <td>7.383056e+06</td>\n",
       "      <td>21000000</td>\n",
       "    </tr>\n",
       "    <tr>\n",
       "      <th>14</th>\n",
       "      <td>Bitshares</td>\n",
       "      <td>SHA-512</td>\n",
       "      <td>PoS</td>\n",
       "      <td>2.741570e+09</td>\n",
       "      <td>3600570502</td>\n",
       "    </tr>\n",
       "    <tr>\n",
       "      <th>15</th>\n",
       "      <td>DigiByte</td>\n",
       "      <td>Multiple</td>\n",
       "      <td>PoW</td>\n",
       "      <td>1.140622e+10</td>\n",
       "      <td>21000000000</td>\n",
       "    </tr>\n",
       "    <tr>\n",
       "      <th>16</th>\n",
       "      <td>BitcoinDark</td>\n",
       "      <td>SHA-256</td>\n",
       "      <td>PoW/PoS</td>\n",
       "      <td>1.288862e+06</td>\n",
       "      <td>22000000</td>\n",
       "    </tr>\n",
       "    <tr>\n",
       "      <th>19</th>\n",
       "      <td>PayCoin</td>\n",
       "      <td>SHA-256</td>\n",
       "      <td>PoS</td>\n",
       "      <td>1.199533e+07</td>\n",
       "      <td>12500000</td>\n",
       "    </tr>\n",
       "    <tr>\n",
       "      <th>20</th>\n",
       "      <td>ProsperCoin</td>\n",
       "      <td>Scrypt</td>\n",
       "      <td>PoW</td>\n",
       "      <td>5.768310e+06</td>\n",
       "      <td>21000000</td>\n",
       "    </tr>\n",
       "  </tbody>\n",
       "</table>\n",
       "</div>"
      ],
      "text/plain": [
       "            CoinName       Algorithm ProofType  TotalCoinsMined  \\\n",
       "0            42 Coin          Scrypt   PoW/PoS     4.199995e+01   \n",
       "2            404Coin          Scrypt   PoW/PoS     1.055185e+09   \n",
       "5          EliteCoin             X13   PoW/PoS     2.927942e+10   \n",
       "7            Bitcoin         SHA-256       PoW     1.792718e+07   \n",
       "8           Ethereum          Ethash       PoW     1.076842e+08   \n",
       "9           Litecoin          Scrypt       PoW     6.303924e+07   \n",
       "10              Dash             X11   PoW/PoS     9.031294e+06   \n",
       "11            Monero  CryptoNight-V7       PoW     1.720114e+07   \n",
       "12  Ethereum Classic          Ethash       PoW     1.133597e+08   \n",
       "13             ZCash        Equihash       PoW     7.383056e+06   \n",
       "14         Bitshares         SHA-512       PoS     2.741570e+09   \n",
       "15          DigiByte        Multiple       PoW     1.140622e+10   \n",
       "16       BitcoinDark         SHA-256   PoW/PoS     1.288862e+06   \n",
       "19           PayCoin         SHA-256       PoS     1.199533e+07   \n",
       "20       ProsperCoin          Scrypt       PoW     5.768310e+06   \n",
       "\n",
       "   TotalCoinSupply  \n",
       "0               42  \n",
       "2        532000000  \n",
       "5     314159265359  \n",
       "7         21000000  \n",
       "8                0  \n",
       "9         84000000  \n",
       "10        22000000  \n",
       "11               0  \n",
       "12       210000000  \n",
       "13        21000000  \n",
       "14      3600570502  \n",
       "15     21000000000  \n",
       "16        22000000  \n",
       "19        12500000  \n",
       "20        21000000  "
      ]
     },
     "execution_count": 18,
     "metadata": {},
     "output_type": "execute_result"
    }
   ],
   "source": [
    "# Drop rows where there are 'N/A' text values\n",
    "for column in crypto_df:\n",
    "    crypto_df = crypto_df.loc[crypto_df[column] != 'N/A']\n",
    "\n",
    "crypto_df.head(15)"
   ]
  },
  {
   "cell_type": "code",
   "execution_count": 19,
   "metadata": {},
   "outputs": [
    {
     "data": {
      "text/html": [
       "<div>\n",
       "<style scoped>\n",
       "    .dataframe tbody tr th:only-of-type {\n",
       "        vertical-align: middle;\n",
       "    }\n",
       "\n",
       "    .dataframe tbody tr th {\n",
       "        vertical-align: top;\n",
       "    }\n",
       "\n",
       "    .dataframe thead th {\n",
       "        text-align: right;\n",
       "    }\n",
       "</style>\n",
       "<table border=\"1\" class=\"dataframe\">\n",
       "  <thead>\n",
       "    <tr style=\"text-align: right;\">\n",
       "      <th></th>\n",
       "      <th>CoinName</th>\n",
       "    </tr>\n",
       "  </thead>\n",
       "  <tbody>\n",
       "    <tr>\n",
       "      <th>0</th>\n",
       "      <td>42 Coin</td>\n",
       "    </tr>\n",
       "    <tr>\n",
       "      <th>2</th>\n",
       "      <td>404Coin</td>\n",
       "    </tr>\n",
       "    <tr>\n",
       "      <th>5</th>\n",
       "      <td>EliteCoin</td>\n",
       "    </tr>\n",
       "    <tr>\n",
       "      <th>7</th>\n",
       "      <td>Bitcoin</td>\n",
       "    </tr>\n",
       "    <tr>\n",
       "      <th>8</th>\n",
       "      <td>Ethereum</td>\n",
       "    </tr>\n",
       "  </tbody>\n",
       "</table>\n",
       "</div>"
      ],
      "text/plain": [
       "    CoinName\n",
       "0    42 Coin\n",
       "2    404Coin\n",
       "5  EliteCoin\n",
       "7    Bitcoin\n",
       "8   Ethereum"
      ]
     },
     "execution_count": 19,
     "metadata": {},
     "output_type": "execute_result"
    }
   ],
   "source": [
    "# Store the 'CoinName'column in its own DataFrame prior to dropping it from crypto_df\n",
    "coin_name_df = crypto_df[['CoinName']]\n",
    "\n",
    "coin_name_df.head()"
   ]
  },
  {
   "cell_type": "code",
   "execution_count": 20,
   "metadata": {},
   "outputs": [
    {
     "data": {
      "text/html": [
       "<div>\n",
       "<style scoped>\n",
       "    .dataframe tbody tr th:only-of-type {\n",
       "        vertical-align: middle;\n",
       "    }\n",
       "\n",
       "    .dataframe tbody tr th {\n",
       "        vertical-align: top;\n",
       "    }\n",
       "\n",
       "    .dataframe thead th {\n",
       "        text-align: right;\n",
       "    }\n",
       "</style>\n",
       "<table border=\"1\" class=\"dataframe\">\n",
       "  <thead>\n",
       "    <tr style=\"text-align: right;\">\n",
       "      <th></th>\n",
       "      <th>Algorithm</th>\n",
       "      <th>ProofType</th>\n",
       "      <th>TotalCoinsMined</th>\n",
       "      <th>TotalCoinSupply</th>\n",
       "    </tr>\n",
       "  </thead>\n",
       "  <tbody>\n",
       "    <tr>\n",
       "      <th>0</th>\n",
       "      <td>Scrypt</td>\n",
       "      <td>PoW/PoS</td>\n",
       "      <td>4.199995e+01</td>\n",
       "      <td>42</td>\n",
       "    </tr>\n",
       "    <tr>\n",
       "      <th>2</th>\n",
       "      <td>Scrypt</td>\n",
       "      <td>PoW/PoS</td>\n",
       "      <td>1.055185e+09</td>\n",
       "      <td>532000000</td>\n",
       "    </tr>\n",
       "    <tr>\n",
       "      <th>5</th>\n",
       "      <td>X13</td>\n",
       "      <td>PoW/PoS</td>\n",
       "      <td>2.927942e+10</td>\n",
       "      <td>314159265359</td>\n",
       "    </tr>\n",
       "    <tr>\n",
       "      <th>7</th>\n",
       "      <td>SHA-256</td>\n",
       "      <td>PoW</td>\n",
       "      <td>1.792718e+07</td>\n",
       "      <td>21000000</td>\n",
       "    </tr>\n",
       "    <tr>\n",
       "      <th>8</th>\n",
       "      <td>Ethash</td>\n",
       "      <td>PoW</td>\n",
       "      <td>1.076842e+08</td>\n",
       "      <td>0</td>\n",
       "    </tr>\n",
       "  </tbody>\n",
       "</table>\n",
       "</div>"
      ],
      "text/plain": [
       "  Algorithm ProofType  TotalCoinsMined TotalCoinSupply\n",
       "0    Scrypt   PoW/PoS     4.199995e+01              42\n",
       "2    Scrypt   PoW/PoS     1.055185e+09       532000000\n",
       "5       X13   PoW/PoS     2.927942e+10    314159265359\n",
       "7   SHA-256       PoW     1.792718e+07        21000000\n",
       "8    Ethash       PoW     1.076842e+08               0"
      ]
     },
     "execution_count": 20,
     "metadata": {},
     "output_type": "execute_result"
    }
   ],
   "source": [
    "# Drop the 'CoinName' column since it's not going to be used on the clustering algorithm\n",
    "crypto_df = crypto_df.drop(columns=['CoinName'])\n",
    "crypto_df.head()"
   ]
  },
  {
   "cell_type": "code",
   "execution_count": 21,
   "metadata": {},
   "outputs": [
    {
     "data": {
      "text/html": [
       "<div>\n",
       "<style scoped>\n",
       "    .dataframe tbody tr th:only-of-type {\n",
       "        vertical-align: middle;\n",
       "    }\n",
       "\n",
       "    .dataframe tbody tr th {\n",
       "        vertical-align: top;\n",
       "    }\n",
       "\n",
       "    .dataframe thead th {\n",
       "        text-align: right;\n",
       "    }\n",
       "</style>\n",
       "<table border=\"1\" class=\"dataframe\">\n",
       "  <thead>\n",
       "    <tr style=\"text-align: right;\">\n",
       "      <th></th>\n",
       "      <th>Algorithm</th>\n",
       "      <th>ProofType</th>\n",
       "      <th>TotalCoinsMined</th>\n",
       "      <th>TotalCoinSupply</th>\n",
       "    </tr>\n",
       "  </thead>\n",
       "  <tbody>\n",
       "    <tr>\n",
       "      <th>0</th>\n",
       "      <td>53</td>\n",
       "      <td>16</td>\n",
       "      <td>4.199995e+01</td>\n",
       "      <td>42</td>\n",
       "    </tr>\n",
       "    <tr>\n",
       "      <th>2</th>\n",
       "      <td>53</td>\n",
       "      <td>16</td>\n",
       "      <td>1.055185e+09</td>\n",
       "      <td>532000000</td>\n",
       "    </tr>\n",
       "    <tr>\n",
       "      <th>5</th>\n",
       "      <td>67</td>\n",
       "      <td>16</td>\n",
       "      <td>2.927942e+10</td>\n",
       "      <td>314159265359</td>\n",
       "    </tr>\n",
       "    <tr>\n",
       "      <th>7</th>\n",
       "      <td>47</td>\n",
       "      <td>13</td>\n",
       "      <td>1.792718e+07</td>\n",
       "      <td>21000000</td>\n",
       "    </tr>\n",
       "    <tr>\n",
       "      <th>8</th>\n",
       "      <td>20</td>\n",
       "      <td>13</td>\n",
       "      <td>1.076842e+08</td>\n",
       "      <td>0</td>\n",
       "    </tr>\n",
       "  </tbody>\n",
       "</table>\n",
       "</div>"
      ],
      "text/plain": [
       "   Algorithm  ProofType  TotalCoinsMined TotalCoinSupply\n",
       "0         53         16     4.199995e+01              42\n",
       "2         53         16     1.055185e+09       532000000\n",
       "5         67         16     2.927942e+10    314159265359\n",
       "7         47         13     1.792718e+07        21000000\n",
       "8         20         13     1.076842e+08               0"
      ]
     },
     "execution_count": 21,
     "metadata": {},
     "output_type": "execute_result"
    }
   ],
   "source": [
    "# Create dummy variables for text features\n",
    "text_feature_variable = ''\n",
    "\n",
    "# Import Label Encoder from SKLearn and encode categorical data:\n",
    "from sklearn.preprocessing import LabelEncoder\n",
    "le = LabelEncoder()\n",
    "\n",
    "le.fit(crypto_df['Algorithm'])\n",
    "crypto_df['Algorithm'] = le.transform(crypto_df['Algorithm'])\n",
    "\n",
    "le.fit(crypto_df['ProofType'])\n",
    "crypto_df['ProofType'] = le.transform(crypto_df['ProofType'])\n",
    "\n",
    "\n",
    "crypto_df.head()"
   ]
  },
  {
   "cell_type": "code",
   "execution_count": 22,
   "metadata": {},
   "outputs": [
    {
     "data": {
      "text/plain": [
       "array([[ 0.39335561,  0.8871567 , -0.11674788, -0.15286468],\n",
       "       [ 0.39335561,  0.8871567 , -0.09358885, -0.14499604],\n",
       "       [ 1.21439604,  0.8871567 ,  0.52587231,  4.4937636 ],\n",
       "       ...,\n",
       "       [-2.12841143,  0.00878917, -0.09523411, -0.13215444],\n",
       "       [-1.65924547,  0.00878917, -0.11658774, -0.15255408],\n",
       "       [ 0.39335561, -1.45515672, -0.11674507, -0.15284989]])"
      ]
     },
     "execution_count": 22,
     "metadata": {},
     "output_type": "execute_result"
    }
   ],
   "source": [
    "# Standardize data\n",
    "scaler = StandardScaler()\n",
    "\n",
    "crypto_scaled = scaler.fit_transform(crypto_df)\n",
    "crypto_scaled"
   ]
  },
  {
   "cell_type": "markdown",
   "metadata": {},
   "source": [
    "### Reducing Dimensions Using PCA"
   ]
  },
  {
   "cell_type": "code",
   "execution_count": 23,
   "metadata": {},
   "outputs": [],
   "source": [
    "\n",
    "# Use PCA to reduce dimensions to 3 principal compon\n",
    "pca = PCA(n_components=3)"
   ]
  },
  {
   "cell_type": "code",
   "execution_count": 24,
   "metadata": {},
   "outputs": [
    {
     "data": {
      "text/html": [
       "<div>\n",
       "<style scoped>\n",
       "    .dataframe tbody tr th:only-of-type {\n",
       "        vertical-align: middle;\n",
       "    }\n",
       "\n",
       "    .dataframe tbody tr th {\n",
       "        vertical-align: top;\n",
       "    }\n",
       "\n",
       "    .dataframe thead th {\n",
       "        text-align: right;\n",
       "    }\n",
       "</style>\n",
       "<table border=\"1\" class=\"dataframe\">\n",
       "  <thead>\n",
       "    <tr style=\"text-align: right;\">\n",
       "      <th></th>\n",
       "      <th>PC_1</th>\n",
       "      <th>PC_2</th>\n",
       "      <th>PC_3</th>\n",
       "    </tr>\n",
       "  </thead>\n",
       "  <tbody>\n",
       "    <tr>\n",
       "      <th>0</th>\n",
       "      <td>-0.412665</td>\n",
       "      <td>0.823150</td>\n",
       "      <td>0.357227</td>\n",
       "    </tr>\n",
       "    <tr>\n",
       "      <th>2</th>\n",
       "      <td>-0.391306</td>\n",
       "      <td>0.827873</td>\n",
       "      <td>0.358336</td>\n",
       "    </tr>\n",
       "    <tr>\n",
       "      <th>5</th>\n",
       "      <td>3.143152</td>\n",
       "      <td>2.186748</td>\n",
       "      <td>0.487273</td>\n",
       "    </tr>\n",
       "    <tr>\n",
       "      <th>7</th>\n",
       "      <td>-0.190301</td>\n",
       "      <td>-0.003829</td>\n",
       "      <td>-0.043688</td>\n",
       "    </tr>\n",
       "    <tr>\n",
       "      <th>8</th>\n",
       "      <td>-0.051013</td>\n",
       "      <td>-1.161387</td>\n",
       "      <td>1.020473</td>\n",
       "    </tr>\n",
       "  </tbody>\n",
       "</table>\n",
       "</div>"
      ],
      "text/plain": [
       "       PC_1      PC_2      PC_3\n",
       "0 -0.412665  0.823150  0.357227\n",
       "2 -0.391306  0.827873  0.358336\n",
       "5  3.143152  2.186748  0.487273\n",
       "7 -0.190301 -0.003829 -0.043688\n",
       "8 -0.051013 -1.161387  1.020473"
      ]
     },
     "execution_count": 24,
     "metadata": {},
     "output_type": "execute_result"
    }
   ],
   "source": [
    "# Create a DataFrame with the principal components data\n",
    "crypto_pca = pca.fit_transform(crypto_scaled)\n",
    "\n",
    "pcs_df = pd.DataFrame(data=crypto_pca, columns=[\"PC_1\", \"PC_2\", \"PC_3\"], index=crypto_df.index)\n",
    "\n",
    "pcs_df.head()"
   ]
  },
  {
   "cell_type": "markdown",
   "metadata": {},
   "source": [
    "### Clustering Crytocurrencies Using K-Means\n",
    "\n",
    "#### Find the Best Value for `k` Using the Elbow Curve"
   ]
  },
  {
   "cell_type": "code",
   "execution_count": null,
   "metadata": {},
   "outputs": [],
   "source": [
    "inertia = []\n",
    "k = list(range(1, 11))\n",
    "\n",
    "# Calculate the inertia for the range of k values\n",
    "for i in k:\n",
    "    km = KMeans(n_clusters=i, random_state=0)\n",
    "    km.fit(pcs_df)\n",
    "    inertia.append(km.inertia_)\n",
    "\n",
    "\n",
    "# Create the Elbow Curve using hvPlot\n",
    "elbow_data = {\"k\": k, \"inertia\": inertia}\n",
    "df_elbow = pd.DataFrame(elbow_data)\n",
    "df_elbow.hvplot.line(x=\"k\", y=\"inertia\", xticks=k, title=\"Elbow Curve\")\n",
    "Out[18]:\n"
   ]
  },
  {
   "cell_type": "markdown",
   "metadata": {},
   "source": [
    "Running K-Means with `k=<your best value for k here>`"
   ]
  },
  {
   "cell_type": "code",
   "execution_count": 25,
   "metadata": {},
   "outputs": [
    {
     "data": {
      "text/html": [
       "<div>\n",
       "<style scoped>\n",
       "    .dataframe tbody tr th:only-of-type {\n",
       "        vertical-align: middle;\n",
       "    }\n",
       "\n",
       "    .dataframe tbody tr th {\n",
       "        vertical-align: top;\n",
       "    }\n",
       "\n",
       "    .dataframe thead th {\n",
       "        text-align: right;\n",
       "    }\n",
       "</style>\n",
       "<table border=\"1\" class=\"dataframe\">\n",
       "  <thead>\n",
       "    <tr style=\"text-align: right;\">\n",
       "      <th></th>\n",
       "      <th>Algorithm</th>\n",
       "      <th>ProofType</th>\n",
       "      <th>TotalCoinsMined</th>\n",
       "      <th>TotalCoinSupply</th>\n",
       "      <th>PC_1</th>\n",
       "      <th>PC_2</th>\n",
       "      <th>PC_3</th>\n",
       "      <th>CoinName</th>\n",
       "      <th>Class</th>\n",
       "    </tr>\n",
       "  </thead>\n",
       "  <tbody>\n",
       "    <tr>\n",
       "      <th>0</th>\n",
       "      <td>53</td>\n",
       "      <td>16</td>\n",
       "      <td>4.199995e+01</td>\n",
       "      <td>42</td>\n",
       "      <td>-0.412665</td>\n",
       "      <td>0.823150</td>\n",
       "      <td>0.357227</td>\n",
       "      <td>42 Coin</td>\n",
       "      <td>0</td>\n",
       "    </tr>\n",
       "    <tr>\n",
       "      <th>2</th>\n",
       "      <td>53</td>\n",
       "      <td>16</td>\n",
       "      <td>1.055185e+09</td>\n",
       "      <td>532000000</td>\n",
       "      <td>-0.391306</td>\n",
       "      <td>0.827873</td>\n",
       "      <td>0.358336</td>\n",
       "      <td>404Coin</td>\n",
       "      <td>0</td>\n",
       "    </tr>\n",
       "    <tr>\n",
       "      <th>5</th>\n",
       "      <td>67</td>\n",
       "      <td>16</td>\n",
       "      <td>2.927942e+10</td>\n",
       "      <td>314159265359</td>\n",
       "      <td>3.143152</td>\n",
       "      <td>2.186748</td>\n",
       "      <td>0.487273</td>\n",
       "      <td>EliteCoin</td>\n",
       "      <td>0</td>\n",
       "    </tr>\n",
       "    <tr>\n",
       "      <th>7</th>\n",
       "      <td>47</td>\n",
       "      <td>13</td>\n",
       "      <td>1.792718e+07</td>\n",
       "      <td>21000000</td>\n",
       "      <td>-0.190301</td>\n",
       "      <td>-0.003829</td>\n",
       "      <td>-0.043688</td>\n",
       "      <td>Bitcoin</td>\n",
       "      <td>0</td>\n",
       "    </tr>\n",
       "    <tr>\n",
       "      <th>8</th>\n",
       "      <td>20</td>\n",
       "      <td>13</td>\n",
       "      <td>1.076842e+08</td>\n",
       "      <td>0</td>\n",
       "      <td>-0.051013</td>\n",
       "      <td>-1.161387</td>\n",
       "      <td>1.020473</td>\n",
       "      <td>Ethereum</td>\n",
       "      <td>1</td>\n",
       "    </tr>\n",
       "  </tbody>\n",
       "</table>\n",
       "</div>"
      ],
      "text/plain": [
       "   Algorithm  ProofType  TotalCoinsMined TotalCoinSupply      PC_1      PC_2  \\\n",
       "0         53         16     4.199995e+01              42 -0.412665  0.823150   \n",
       "2         53         16     1.055185e+09       532000000 -0.391306  0.827873   \n",
       "5         67         16     2.927942e+10    314159265359  3.143152  2.186748   \n",
       "7         47         13     1.792718e+07        21000000 -0.190301 -0.003829   \n",
       "8         20         13     1.076842e+08               0 -0.051013 -1.161387   \n",
       "\n",
       "       PC_3   CoinName  Class  \n",
       "0  0.357227    42 Coin      0  \n",
       "2  0.358336    404Coin      0  \n",
       "5  0.487273  EliteCoin      0  \n",
       "7 -0.043688    Bitcoin      0  \n",
       "8  1.020473   Ethereum      1  "
      ]
     },
     "execution_count": 25,
     "metadata": {},
     "output_type": "execute_result"
    }
   ],
   "source": [
    "# Initialize the K-Means model\n",
    "model = KMeans(n_clusters=3, random_state=0)\n",
    "# Fit the model\n",
    "model.fit(pcs_df)\n",
    "# Predict clusters\n",
    "predictions = model.predict(pcs_df)\n",
    "# Create a new DataFrame including predicted clusters and cryptocurrencies features\n",
    "clustered_df = crypto_df.join(pcs_df)\n",
    "clustered_df['CoinName'] = coin_name_df['CoinName']\n",
    "clustered_df['Class'] = predictions\n",
    "clustered_df.head()"
   ]
  },
  {
   "cell_type": "markdown",
   "metadata": {},
   "source": [
    "### Visualizing Results\n",
    "\n",
    "#### 3D-Scatter with Clusters"
   ]
  },
  {
   "cell_type": "code",
   "execution_count": 28,
   "metadata": {},
   "outputs": [
    {
     "data": {
      "application/vnd.plotly.v1+json": {
       "config": {
        "plotlyServerURL": "https://plot.ly"
       },
       "data": [
        {
         "customdata": [
          [
           53
          ],
          [
           53
          ],
          [
           67
          ],
          [
           47
          ],
          [
           53
          ],
          [
           65
          ],
          [
           47
          ],
          [
           53
          ],
          [
           69
          ],
          [
           65
          ],
          [
           53
          ],
          [
           53
          ],
          [
           53
          ],
          [
           53
          ],
          [
           47
          ],
          [
           53
          ],
          [
           53
          ],
          [
           53
          ],
          [
           46
          ],
          [
           53
          ],
          [
           53
          ],
          [
           53
          ],
          [
           53
          ],
          [
           53
          ],
          [
           65
          ],
          [
           47
          ],
          [
           53
          ],
          [
           53
          ],
          [
           53
          ],
          [
           53
          ],
          [
           53
          ],
          [
           53
          ],
          [
           53
          ],
          [
           53
          ],
          [
           53
          ],
          [
           53
          ],
          [
           65
          ],
          [
           53
          ],
          [
           65
          ],
          [
           47
          ],
          [
           53
          ],
          [
           53
          ],
          [
           53
          ],
          [
           51
          ],
          [
           53
          ],
          [
           53
          ],
          [
           47
          ],
          [
           67
          ],
          [
           53
          ],
          [
           47
          ],
          [
           53
          ],
          [
           67
          ],
          [
           36
          ],
          [
           53
          ],
          [
           53
          ],
          [
           53
          ],
          [
           53
          ],
          [
           53
          ],
          [
           53
          ],
          [
           65
          ],
          [
           65
          ],
          [
           47
          ],
          [
           47
          ],
          [
           65
          ],
          [
           47
          ],
          [
           47
          ],
          [
           47
          ],
          [
           65
          ],
          [
           53
          ],
          [
           53
          ],
          [
           53
          ],
          [
           53
          ],
          [
           53
          ],
          [
           65
          ],
          [
           47
          ],
          [
           67
          ],
          [
           53
          ],
          [
           53
          ],
          [
           47
          ],
          [
           53
          ],
          [
           53
          ],
          [
           67
          ],
          [
           53
          ],
          [
           53
          ],
          [
           53
          ],
          [
           67
          ],
          [
           53
          ],
          [
           59
          ],
          [
           65
          ],
          [
           45
          ],
          [
           53
          ],
          [
           53
          ],
          [
           53
          ],
          [
           53
          ],
          [
           47
          ],
          [
           53
          ],
          [
           65
          ],
          [
           51
          ],
          [
           65
          ],
          [
           47
          ],
          [
           44
          ],
          [
           65
          ],
          [
           65
          ],
          [
           53
          ],
          [
           53
          ],
          [
           67
          ],
          [
           47
          ],
          [
           69
          ],
          [
           65
          ],
          [
           47
          ],
          [
           53
          ],
          [
           47
          ],
          [
           65
          ],
          [
           53
          ],
          [
           47
          ],
          [
           47
          ],
          [
           35
          ],
          [
           53
          ],
          [
           65
          ],
          [
           53
          ],
          [
           66
          ],
          [
           65
          ],
          [
           47
          ],
          [
           53
          ],
          [
           65
          ],
          [
           65
          ],
          [
           47
          ],
          [
           47
          ],
          [
           35
          ],
          [
           65
          ],
          [
           53
          ],
          [
           53
          ],
          [
           53
          ],
          [
           53
          ],
          [
           67
          ],
          [
           65
          ],
          [
           65
          ],
          [
           18
          ],
          [
           65
          ],
          [
           53
          ],
          [
           47
          ],
          [
           47
          ],
          [
           65
          ],
          [
           53
          ],
          [
           53
          ],
          [
           53
          ],
          [
           47
          ],
          [
           53
          ],
          [
           53
          ],
          [
           49
          ],
          [
           53
          ],
          [
           65
          ],
          [
           67
          ],
          [
           68
          ],
          [
           49
          ],
          [
           65
          ],
          [
           53
          ],
          [
           65
          ],
          [
           67
          ],
          [
           65
          ],
          [
           53
          ],
          [
           53
          ],
          [
           65
          ],
          [
           65
          ],
          [
           47
          ],
          [
           53
          ],
          [
           65
          ],
          [
           53
          ],
          [
           53
          ],
          [
           65
          ],
          [
           53
          ],
          [
           53
          ],
          [
           53
          ],
          [
           45
          ],
          [
           53
          ],
          [
           53
          ],
          [
           47
          ],
          [
           65
          ],
          [
           53
          ],
          [
           65
          ],
          [
           53
          ],
          [
           53
          ],
          [
           53
          ],
          [
           67
          ],
          [
           65
          ],
          [
           53
          ],
          [
           53
          ],
          [
           65
          ],
          [
           65
          ],
          [
           53
          ],
          [
           65
          ],
          [
           65
          ],
          [
           53
          ],
          [
           53
          ],
          [
           53
          ],
          [
           65
          ],
          [
           53
          ],
          [
           47
          ],
          [
           53
          ],
          [
           69
          ],
          [
           53
          ],
          [
           35
          ],
          [
           65
          ],
          [
           35
          ],
          [
           56
          ],
          [
           53
          ],
          [
           67
          ],
          [
           53
          ],
          [
           65
          ],
          [
           65
          ],
          [
           53
          ],
          [
           67
          ],
          [
           61
          ],
          [
           53
          ],
          [
           65
          ],
          [
           56
          ],
          [
           47
          ],
          [
           65
          ],
          [
           64
          ],
          [
           53
          ],
          [
           53
          ],
          [
           53
          ],
          [
           53
          ],
          [
           53
          ],
          [
           53
          ],
          [
           53
          ],
          [
           53
          ],
          [
           65
          ],
          [
           36
          ],
          [
           65
          ],
          [
           53
          ],
          [
           53
          ],
          [
           47
          ],
          [
           35
          ],
          [
           38
          ],
          [
           53
          ],
          [
           46
          ],
          [
           53
          ],
          [
           53
          ],
          [
           65
          ],
          [
           65
          ],
          [
           35
          ],
          [
           67
          ],
          [
           53
          ],
          [
           65
          ],
          [
           53
          ],
          [
           53
          ],
          [
           53
          ],
          [
           65
          ],
          [
           65
          ],
          [
           53
          ],
          [
           53
          ],
          [
           53
          ],
          [
           65
          ],
          [
           65
          ],
          [
           47
          ],
          [
           53
          ],
          [
           57
          ],
          [
           53
          ],
          [
           53
          ],
          [
           67
          ],
          [
           48
          ],
          [
           53
          ],
          [
           53
          ],
          [
           65
          ],
          [
           65
          ],
          [
           71
          ],
          [
           63
          ],
          [
           53
          ],
          [
           35
          ],
          [
           53
          ],
          [
           53
          ],
          [
           53
          ],
          [
           65
          ],
          [
           46
          ],
          [
           70
          ],
          [
           53
          ],
          [
           71
          ],
          [
           62
          ],
          [
           53
          ],
          [
           49
          ],
          [
           53
          ],
          [
           69
          ],
          [
           70
          ],
          [
           65
          ],
          [
           70
          ],
          [
           46
          ],
          [
           31
          ],
          [
           53
          ],
          [
           53
          ],
          [
           71
          ],
          [
           65
          ],
          [
           65
          ],
          [
           47
          ],
          [
           65
          ],
          [
           65
          ],
          [
           53
          ],
          [
           50
          ],
          [
           70
          ],
          [
           71
          ],
          [
           47
          ],
          [
           71
          ],
          [
           65
          ],
          [
           46
          ],
          [
           53
          ],
          [
           53
          ],
          [
           46
          ],
          [
           53
          ],
          [
           45
          ],
          [
           65
          ],
          [
           53
          ],
          [
           71
          ],
          [
           49
          ],
          [
           65
          ],
          [
           47
          ],
          [
           67
          ],
          [
           47
          ],
          [
           65
          ],
          [
           53
          ],
          [
           53
          ],
          [
           65
          ],
          [
           53
          ],
          [
           53
          ],
          [
           53
          ],
          [
           65
          ],
          [
           53
          ],
          [
           53
          ],
          [
           47
          ],
          [
           65
          ],
          [
           47
          ],
          [
           53
          ],
          [
           53
          ],
          [
           53
          ],
          [
           65
          ],
          [
           53
          ],
          [
           53
          ],
          [
           53
          ],
          [
           65
          ],
          [
           47
          ],
          [
           53
          ],
          [
           36
          ],
          [
           67
          ],
          [
           53
          ]
         ],
         "hovertemplate": "<b>%{hovertext}</b><br><br>Class=%{marker.color}<br>PC_1=%{y}<br>PC_3=%{z}<br>Algorithm=%{customdata[0]}<extra></extra>",
         "hovertext": [
          "42 Coin",
          "404Coin",
          "EliteCoin",
          "Bitcoin",
          "Litecoin",
          "Dash",
          "BitcoinDark",
          "ProsperCoin",
          "KoboCoin",
          "Spreadcoin",
          "Argentum",
          "Aurora Coin",
          "BlueCoin",
          "MoonCoin",
          "ZetaCoin",
          "SexCoin",
          "Quatloo",
          "EnergyCoin",
          "QuarkCoin",
          "Digitalcoin ",
          "BitBar",
          "Catcoin",
          "CryptoBullion",
          "CannaCoin",
          "CryptCoin",
          "DevCoin",
          "EarthCoin",
          "E-Gulden",
          "Einsteinium",
          "Emerald",
          "FlutterCoin",
          "Franko",
          "GrandCoin",
          "GlobalCoin",
          "GoldCoin",
          "HoboNickels",
          "HyperStake",
          "Infinite Coin",
          "IOCoin",
          "IXcoin",
          "KrugerCoin",
          "LuckyCoin",
          "Litebar ",
          "MaxCoin",
          "MegaCoin",
          "MinCoin",
          "MazaCoin",
          "NavCoin",
          "NobleCoin",
          "Namecoin",
          "NyanCoin",
          "OpalCoin",
          "Orbitcoin",
          "PotCoin",
          "PhoenixCoin",
          "Reddcoin",
          "RonPaulCoin",
          "StableCoin",
          "SmartCoin",
          "SuperCoin",
          "SyncCoin",
          "SysCoin",
          "TigerCoin",
          "TorCoin",
          "TerraCoin",
          "UnbreakableCoin",
          "Unobtanium",
          "UroCoin",
          "UnitaryStatus Dollar",
          "UltraCoin",
          "ViaCoin",
          "VeriCoin",
          "WorldCoin",
          "X11 Coin",
          "JouleCoin",
          "StealthCoin",
          "ZCC Coin",
          "MonaCoin",
          "Neutron",
          "Gulden",
          "PesetaCoin",
          "Kore",
          "Wild Beast Coin",
          "Flo",
          "8BIT Coin",
          "Sativa Coin",
          "ArtByte",
          "Folding Coin",
          "Ucoin",
          "CypherPunkCoin",
          "OmniCron",
          "Vtorrent",
          "GreenCoin",
          "MasterCoin",
          "SoonCoin",
          "1Credit",
          "IslaCoin",
          "Nexus",
          "MarsCoin ",
          "Anarchists Prime",
          "Droidz",
          "BowsCoin",
          "Squall Coin",
          "Song Coin",
          "BitZeny",
          "Paycon",
          "Emercoin",
          "EverGreenCoin",
          "MindCoin",
          "I0coin",
          "Revolution VR",
          "EDRCoin",
          "Hitcoin",
          "Gamecredits",
          "DubaiCoin",
          "CarpeDiemCoin",
          "PWR Coin",
          "BillaryCoin",
          "Adzcoin",
          "YoCoin",
          "SibCoin",
          "EuropeCoin",
          "SwingCoin",
          "Francs",
          "BolivarCoin",
          "Ratecoin",
          "Revenu",
          "Clockcoin",
          "VIP Tokens",
          "BitSend",
          "Omni",
          "PutinCoin",
          "iBankCoin",
          "Frankywillcoin",
          "MudraCoin",
          "PizzaCoin",
          "Lutetium Coin",
          "Komodo",
          "GoldBlocks",
          "CarterCoin",
          "BitTokens",
          "ZayedCoin",
          "MustangCoin",
          "ZoneCoin",
          "RootCoin",
          "DopeCoin",
          "DollarCoin",
          "Swiscoin",
          "Shilling",
          "BuzzCoin",
          "PesoBit",
          "Halloween Coin",
          "RoyalCoin",
          "GanjaCoin V2",
          "LanaCoin",
          "InsaneCoin",
          "KiloCoin",
          "ArtexCoin",
          "EmberCoin",
          "XenixCoin",
          "PLNCoin",
          "AquariusCoin",
          "Kurrent",
          "Eternity",
          "Eurocoin",
          "BitcoinFast",
          "Stakenet",
          "BitConnect Coin",
          "MoneyCoin",
          "Enigma",
          "Russiacoin",
          "GameUnits",
          "GAKHcoin",
          "LiteCreed",
          "OsmiumCoin",
          "Klingon Empire Darsek",
          "Internet of People",
          "KushCoin",
          "Printerium",
          "PacCoin",
          "Impeach",
          "FirstCoin",
          "BeaverCoin",
          "FindCoin",
          "VaultCoin",
          "OpenChat",
          "Canada eCoin",
          "VirtacoinPlus",
          "Impact",
          "EB3coin",
          "HappyCoin",
          "Condensate",
          "Independent Money System",
          "ArgusCoin",
          "LomoCoin",
          "GoldReserve",
          "BenjiRolls",
          "ILCoin",
          "Degas Coin",
          "HTML5 Coin",
          "EquiTrader",
          "Denarius",
          "DigitalPrice",
          "Virta Unique Coin",
          "Bitcoin Planet",
          "Unify",
          "BritCoin",
          "SocialCoin",
          "ArcticCoin",
          "DAS",
          "Linda",
          "DeepOnion",
          "Bitcore",
          "gCn Coin",
          "Onix",
          "Cream",
          "Bitcoin Cash",
          "Monoeci",
          "Vechain",
          "Sojourn Coin",
          "NewYorkCoin",
          "FrazCoin",
          "Kronecoin",
          "AdCoin",
          "Linx",
          "CoinonatX",
          "Ethereum Dark",
          "Regalcoin",
          "TrezarCoin",
          "Elements",
          "TerraNovaCoin",
          "WomenCoin",
          "Theresa May Coin",
          "NamoCoin",
          "LUXCoin",
          "Xios",
          "Bitcloud 2.0",
          "eBoost",
          "BlackholeCoin",
          "Pura",
          "Magnet",
          "Electra",
          "Bitcoin Diamond",
          "Cash & Back Coin",
          "AC3",
          "GermanCoin",
          "LiteCoin Ultra",
          "PopularCoin",
          "PhantomX",
          "Sucre",
          "IrishCoin",
          "Trollcoin",
          "Litecoin Plus",
          "Monkey Project",
          "Pioneer Coin",
          "UnitedBitcoin",
          "My Big Coin",
          "MUNcoin",
          "Unified Society USDEX",
          "ShareChain",
          "Tokyo Coin",
          "LitecoinCash",
          "BitFlip",
          "LottoCoin",
          "Crypto Improvement Fund",
          "Pushi",
          "Ellerium",
          "Ontology",
          "Poseidon",
          "Bitspace",
          "Briacoin",
          "Ignition",
          "Abjcoin",
          "FuturoCoin",
          "Carebit",
          "Proton",
          "iDealCash",
          "Bitcoin Incognito",
          "KEYCO",
          "Swisscoin",
          "TheVig",
          "EmaratCoin",
          "Dekado",
          "Motion",
          "Axe",
          "Trivechain",
          "Giant",
          "Absolute Coin",
          "HexCoin",
          "TPCash",
          "Urals Coin",
          "ARENON",
          "EUNO",
          "Project Pai",
          "PAXEX",
          "Azart",
          "ThunderStake",
          "Kcash",
          "Xchange",
          "Bettex coin",
          "Bitcoin SV",
          "BitMoney",
          "Junson Ming Chan Coin",
          "HerbCoin",
          "Block-Logic",
          "Oduwa",
          "Galilel",
          "Credit",
          "SLICE",
          "Dash Platinum",
          "Nasdacoin",
          "Beetle Coin",
          "Titan Coin",
          "Award",
          "BLAST",
          "Bitcoin Rhodium",
          "GlobalToken",
          "Insane Coin",
          "LiteDoge",
          "SolarCoin",
          "TruckCoin",
          "OrangeCoin",
          "BitstarCoin",
          "HyperCoin",
          "PinkCoin",
          "Crypto Escudo",
          "AudioCoin",
          "IncaKoin",
          "Piggy Coin",
          "Crown Coin",
          "Genstake",
          "SmileyCoin",
          "XiaoMiCoin",
          "CapriCoin",
          " ClubCoin",
          "Bata",
          "Pakcoin",
          "Creditbit ",
          "OKCash",
          "WhiteCoin",
          "FriendshipCoin",
          "Triangles Coin",
          "Gapcoin"
         ],
         "legendgroup": "0",
         "marker": {
          "color": [
           0,
           0,
           0,
           0,
           0,
           0,
           0,
           0,
           0,
           0,
           0,
           0,
           0,
           0,
           0,
           0,
           0,
           0,
           0,
           0,
           0,
           0,
           0,
           0,
           0,
           0,
           0,
           0,
           0,
           0,
           0,
           0,
           0,
           0,
           0,
           0,
           0,
           0,
           0,
           0,
           0,
           0,
           0,
           0,
           0,
           0,
           0,
           0,
           0,
           0,
           0,
           0,
           0,
           0,
           0,
           0,
           0,
           0,
           0,
           0,
           0,
           0,
           0,
           0,
           0,
           0,
           0,
           0,
           0,
           0,
           0,
           0,
           0,
           0,
           0,
           0,
           0,
           0,
           0,
           0,
           0,
           0,
           0,
           0,
           0,
           0,
           0,
           0,
           0,
           0,
           0,
           0,
           0,
           0,
           0,
           0,
           0,
           0,
           0,
           0,
           0,
           0,
           0,
           0,
           0,
           0,
           0,
           0,
           0,
           0,
           0,
           0,
           0,
           0,
           0,
           0,
           0,
           0,
           0,
           0,
           0,
           0,
           0,
           0,
           0,
           0,
           0,
           0,
           0,
           0,
           0,
           0,
           0,
           0,
           0,
           0,
           0,
           0,
           0,
           0,
           0,
           0,
           0,
           0,
           0,
           0,
           0,
           0,
           0,
           0,
           0,
           0,
           0,
           0,
           0,
           0,
           0,
           0,
           0,
           0,
           0,
           0,
           0,
           0,
           0,
           0,
           0,
           0,
           0,
           0,
           0,
           0,
           0,
           0,
           0,
           0,
           0,
           0,
           0,
           0,
           0,
           0,
           0,
           0,
           0,
           0,
           0,
           0,
           0,
           0,
           0,
           0,
           0,
           0,
           0,
           0,
           0,
           0,
           0,
           0,
           0,
           0,
           0,
           0,
           0,
           0,
           0,
           0,
           0,
           0,
           0,
           0,
           0,
           0,
           0,
           0,
           0,
           0,
           0,
           0,
           0,
           0,
           0,
           0,
           0,
           0,
           0,
           0,
           0,
           0,
           0,
           0,
           0,
           0,
           0,
           0,
           0,
           0,
           0,
           0,
           0,
           0,
           0,
           0,
           0,
           0,
           0,
           0,
           0,
           0,
           0,
           0,
           0,
           0,
           0,
           0,
           0,
           0,
           0,
           0,
           0,
           0,
           0,
           0,
           0,
           0,
           0,
           0,
           0,
           0,
           0,
           0,
           0,
           0,
           0,
           0,
           0,
           0,
           0,
           0,
           0,
           0,
           0,
           0,
           0,
           0,
           0,
           0,
           0,
           0,
           0,
           0,
           0,
           0,
           0,
           0,
           0,
           0,
           0,
           0,
           0,
           0,
           0,
           0,
           0,
           0,
           0,
           0,
           0,
           0,
           0,
           0,
           0,
           0,
           0,
           0,
           0,
           0,
           0,
           0,
           0,
           0,
           0,
           0,
           0,
           0,
           0,
           0,
           0,
           0,
           0,
           0,
           0,
           0,
           0,
           0,
           0,
           0,
           0,
           0,
           0,
           0,
           0
          ],
          "coloraxis": "coloraxis",
          "symbol": "circle"
         },
         "mode": "markers",
         "name": "0",
         "scene": "scene",
         "showlegend": true,
         "type": "scatter3d",
         "x": [
          -0.412665425453561,
          -0.3913055807210613,
          3.1431523167574036,
          -0.19030134717362862,
          -0.219678660062347,
          -0.47370285277092905,
          -0.38172438302719136,
          -0.2211838824361659,
          -0.49059402039535016,
          -0.28250967235079,
          -0.220650611645425,
          -0.41222103076938743,
          -0.4030499948813682,
          3.6708182296812635,
          -0.18648881870234676,
          -0.2169988051379925,
          -0.22035906975890918,
          -0.4108032020204881,
          -0.17923772120323628,
          -0.220489740503311,
          -0.41265971408708424,
          -0.22116191566865356,
          -0.41263956607542357,
          -0.22127966029038207,
          -0.28262305004723703,
          0.30616663017038687,
          0.10509898951177332,
          -0.2209547464390166,
          -0.2151332356649898,
          -0.22086464063075753,
          -0.08704121317342113,
          -0.22135284990493664,
          -0.19370557601678629,
          -0.21978071632179175,
          -0.22012134184536697,
          -0.4100982671179491,
          0.061154429117700124,
          2.0677790811280103,
          -0.4735724180124033,
          -0.19025349617542014,
          -0.21650191841890923,
          -0.22098885463841014,
          -0.22145363541814,
          -0.40048914129826696,
          -0.22048098211040823,
          -0.22129483750537493,
          -0.3330243100838977,
          -0.4832953110042902,
          -0.03363692402975843,
          -0.19034963097105945,
          -0.2130032060589663,
          -0.4840660106433919,
          -0.32559927095264224,
          -0.4050386000360289,
          -0.41055290384855114,
          0.030946832814492883,
          -0.22125446184031602,
          -0.21858354797893173,
          -0.22057776456597616,
          0.03652186631454133,
          -0.4740624856565771,
          -0.17325995470258124,
          -0.18965015177232622,
          -0.4739394843518668,
          -0.19001270093956854,
          -0.1899401170518272,
          -0.19077991271797898,
          -0.2828628482719456,
          -0.3798178087883069,
          -0.41089163133140305,
          -0.2209005714012049,
          -0.1572723452431696,
          -0.2169837419049753,
          -0.47390158234953794,
          -0.18973623576666115,
          -0.4837945769293532,
          -0.40028978851155933,
          -0.21938656984778715,
          -0.3806856194986777,
          -0.19817480882171704,
          -0.21771654834773432,
          -0.4841431224397687,
          -0.22145463977080745,
          -0.21755803101310411,
          -0.4126432146893428,
          -0.4840866079193192,
          -0.1993549071739739,
          -0.23115992918260872,
          0.03599796938767934,
          -0.18045631771255716,
          -0.2212964157148559,
          -0.4122870961844853,
          -0.05035688736526361,
          -0.22146837728425392,
          -0.1903840385155971,
          0.7110480538271575,
          -0.4740396077648639,
          -0.5918600699058497,
          -0.28205903606724775,
          -0.1900174055056407,
          -0.36643666779190975,
          -0.28242820086995724,
          -0.09169474016270049,
          -0.21886020686112484,
          -0.21780575754504916,
          -0.48343986342756906,
          -0.37117908499433955,
          -0.49405689883382836,
          -0.2824788235160666,
          -0.19025488641306038,
          -0.21617764260979597,
          -0.3816883555711812,
          -0.038546604986273096,
          -0.21957580791762704,
          -0.38178283899917975,
          0.3573988958417134,
          -0.1681957684755396,
          -0.4121035341801419,
          -0.28134705312139446,
          -0.21976795633720791,
          -0.2874930382495203,
          -0.4700127253086684,
          -0.381495199461366,
          -0.2211818749963994,
          -0.2824210947531482,
          -0.47126617119526093,
          -0.3796912059240289,
          -0.3763932290129992,
          -0.3183947401461753,
          -0.4722845386604946,
          -0.22146845384785163,
          -0.38008905333791454,
          -0.41214756107711836,
          -0.410138575103869,
          0.027624596705129328,
          -0.2826068614988985,
          0.052355956011920286,
          -0.803353729756353,
          -0.47332018605767784,
          -0.4110999744322007,
          -0.3817450124743262,
          -0.1905923172239046,
          -0.47402215343486076,
          -0.41241349506380415,
          -0.4126360715125254,
          -0.2176886515645914,
          -0.1905398494497412,
          -0.4986314450173682,
          -0.22101168527405535,
          0.10678149716198337,
          -0.4121581467269935,
          -0.45485301134128076,
          0.025584868812291675,
          -0.4868849339647052,
          -0.2997417642939315,
          -0.4734808583512493,
          -0.11715155076958257,
          -0.2653439920660615,
          0.9194108136180096,
          -0.4739651457614743,
          -0.4120161720901357,
          -0.4122026381896933,
          -0.27964147180281296,
          -0.4733624960893372,
          -0.38157626774640685,
          -0.41202459294180155,
          -0.9182331609573517,
          -0.4122139358789895,
          -0.40590504548351564,
          -0.47399950473014074,
          -0.4110790365937678,
          -0.4124811016089916,
          -0.41258164145370985,
          -0.37047752977565196,
          -0.22144298933791443,
          -0.4072346731693934,
          -0.381715797287366,
          -0.4738820643419371,
          -0.4122838123823539,
          0.7388650416411314,
          -0.41243844232129667,
          -0.4736130219434398,
          -0.22140283187731888,
          0.025888715808353727,
          -0.27228511044199893,
          -0.38739691240511936,
          -0.21895954875582196,
          -0.47284971041987756,
          -0.4712734378268715,
          -0.17996929402719022,
          -0.4727232259006374,
          -0.4671533323355358,
          -0.41236917175804605,
          -0.41235815429107703,
          -0.4025216565604088,
          -0.4733972227706559,
          -0.22081716433523518,
          -0.14550441344949736,
          -0.4112779176712215,
          1.032995040193792,
          -0.2205473136701518,
          -0.3204053111969976,
          -0.2813357634078879,
          -0.3184009924154413,
          -0.4268981121898322,
          -0.22101423986577984,
          -0.4836694399697881,
          -0.22064561491297716,
          -0.2818788642946315,
          -0.2826498530848392,
          0.23101546521870758,
          -0.48377215045225025,
          -0.2619331783377845,
          4.2731570623524116,
          -0.26987795411671806,
          -0.4262848383844398,
          -0.1903003119019618,
          -0.4737759439860121,
          0.9305134405138255,
          -0.11504654827161157,
          1.9425372724216405,
          -0.2211344619220424,
          -0.22036847390163228,
          -0.2199763897278423,
          -0.21996020125888766,
          -0.41188065530016427,
          -0.4125592987555804,
          -0.47367893917962106,
          -0.3188679973427796,
          -0.22373550011738144,
          -0.41248868829036833,
          0.5740434431214608,
          -0.3795603213206543,
          -0.29992373472904305,
          -0.3351852098565711,
          -0.41242003648916975,
          -0.37435848157386975,
          -0.2189573304623689,
          -0.41226792642726895,
          -0.2766820255820605,
          -0.47202486726596,
          0.41326107159686304,
          -0.47938946483661604,
          -0.4088574856592745,
          -0.2760908358046222,
          0.16846710961556505,
          -0.4110175909363997,
          -0.1108154881556157,
          -0.47287211318763567,
          -0.2826164256730599,
          -0.22014704991320846,
          -0.39459930347222405,
          -0.41258698303687796,
          0.03603409442649818,
          -0.2825196916684104,
          -0.19027592217296643,
          -0.3484919746523411,
          -0.24170855268522246,
          -0.4067600606643441,
          0.031201110524380973,
          0.037115612230405146,
          -0.24145443219414925,
          -0.22089024417346964,
          0.18437539534628988,
          -0.27461559432821425,
          -0.47377630427615147,
          -0.5041465403147323,
          0.06597243724784797,
          -0.22120957857978013,
          -0.3198543435971311,
          -0.4126222214496397,
          -0.4125968567822483,
          -0.4122118255729499,
          -0.28138626770257474,
          -0.37270863534959986,
          0.010695191460666935,
          -0.3395001376384246,
          -0.12202038769861524,
          -0.2673373572701129,
          -0.15492658259567832,
          -0.39068313992844483,
          -0.4114871374852724,
          0.016659374744505143,
          -0.30811651037653526,
          -0.2825927012918196,
          -0.49824919230929426,
          -0.3767086719046301,
          -0.2993701961742134,
          -0.22123852973691283,
          -0.4024474506993395,
          -0.3112279150434542,
          0.0366036256547356,
          -0.47309006518667446,
          -0.13772160739808723,
          0.03683632821694528,
          -0.2825518106931055,
          -0.2141742040678958,
          -0.8818646964782954,
          -0.3073020200754613,
          0.005665518008851032,
          -0.19030035843381582,
          -0.046979992356852254,
          0.2961804485179551,
          -0.375768749088876,
          -0.21973374682743185,
          -0.4122289477719973,
          -0.3763811144630266,
          0.8119868269313197,
          -0.17934342172877984,
          0.0359650550374376,
          -0.4115030689550865,
          -0.496682561515115,
          -0.32795469647782355,
          -0.4695719642337106,
          -0.18934544342217385,
          -0.2930749702523754,
          -0.1878022131046959,
          -0.4733986422800295,
          0.17391185938043607,
          0.7737183901145611,
          -0.4703918069699846,
          -0.4105846605035712,
          -0.4118041049679626,
          -0.41251968420788376,
          -0.46239137325299695,
          -0.19954143635363109,
          -0.29139453766236173,
          -0.10857151797859489,
          -0.4564473066778477,
          -0.19001192112492862,
          -0.4116054448392254,
          0.7330002660463495,
          -0.4024927026235511,
          -0.46890707572517365,
          -0.40947559552184654,
          -0.22135689270980163,
          -0.21858475467785632,
          -0.8560022627759823,
          -0.3797725601840136,
          -0.4058111389777374,
          -0.32505938921238603,
          -0.4842920148145171,
          -0.40990543434135
         ],
         "y": [
          -0.412665425453561,
          -0.3913055807210613,
          3.1431523167574036,
          -0.19030134717362862,
          -0.219678660062347,
          -0.47370285277092905,
          -0.38172438302719136,
          -0.2211838824361659,
          -0.49059402039535016,
          -0.28250967235079,
          -0.220650611645425,
          -0.41222103076938743,
          -0.4030499948813682,
          3.6708182296812635,
          -0.18648881870234676,
          -0.2169988051379925,
          -0.22035906975890918,
          -0.4108032020204881,
          -0.17923772120323628,
          -0.220489740503311,
          -0.41265971408708424,
          -0.22116191566865356,
          -0.41263956607542357,
          -0.22127966029038207,
          -0.28262305004723703,
          0.30616663017038687,
          0.10509898951177332,
          -0.2209547464390166,
          -0.2151332356649898,
          -0.22086464063075753,
          -0.08704121317342113,
          -0.22135284990493664,
          -0.19370557601678629,
          -0.21978071632179175,
          -0.22012134184536697,
          -0.4100982671179491,
          0.061154429117700124,
          2.0677790811280103,
          -0.4735724180124033,
          -0.19025349617542014,
          -0.21650191841890923,
          -0.22098885463841014,
          -0.22145363541814,
          -0.40048914129826696,
          -0.22048098211040823,
          -0.22129483750537493,
          -0.3330243100838977,
          -0.4832953110042902,
          -0.03363692402975843,
          -0.19034963097105945,
          -0.2130032060589663,
          -0.4840660106433919,
          -0.32559927095264224,
          -0.4050386000360289,
          -0.41055290384855114,
          0.030946832814492883,
          -0.22125446184031602,
          -0.21858354797893173,
          -0.22057776456597616,
          0.03652186631454133,
          -0.4740624856565771,
          -0.17325995470258124,
          -0.18965015177232622,
          -0.4739394843518668,
          -0.19001270093956854,
          -0.1899401170518272,
          -0.19077991271797898,
          -0.2828628482719456,
          -0.3798178087883069,
          -0.41089163133140305,
          -0.2209005714012049,
          -0.1572723452431696,
          -0.2169837419049753,
          -0.47390158234953794,
          -0.18973623576666115,
          -0.4837945769293532,
          -0.40028978851155933,
          -0.21938656984778715,
          -0.3806856194986777,
          -0.19817480882171704,
          -0.21771654834773432,
          -0.4841431224397687,
          -0.22145463977080745,
          -0.21755803101310411,
          -0.4126432146893428,
          -0.4840866079193192,
          -0.1993549071739739,
          -0.23115992918260872,
          0.03599796938767934,
          -0.18045631771255716,
          -0.2212964157148559,
          -0.4122870961844853,
          -0.05035688736526361,
          -0.22146837728425392,
          -0.1903840385155971,
          0.7110480538271575,
          -0.4740396077648639,
          -0.5918600699058497,
          -0.28205903606724775,
          -0.1900174055056407,
          -0.36643666779190975,
          -0.28242820086995724,
          -0.09169474016270049,
          -0.21886020686112484,
          -0.21780575754504916,
          -0.48343986342756906,
          -0.37117908499433955,
          -0.49405689883382836,
          -0.2824788235160666,
          -0.19025488641306038,
          -0.21617764260979597,
          -0.3816883555711812,
          -0.038546604986273096,
          -0.21957580791762704,
          -0.38178283899917975,
          0.3573988958417134,
          -0.1681957684755396,
          -0.4121035341801419,
          -0.28134705312139446,
          -0.21976795633720791,
          -0.2874930382495203,
          -0.4700127253086684,
          -0.381495199461366,
          -0.2211818749963994,
          -0.2824210947531482,
          -0.47126617119526093,
          -0.3796912059240289,
          -0.3763932290129992,
          -0.3183947401461753,
          -0.4722845386604946,
          -0.22146845384785163,
          -0.38008905333791454,
          -0.41214756107711836,
          -0.410138575103869,
          0.027624596705129328,
          -0.2826068614988985,
          0.052355956011920286,
          -0.803353729756353,
          -0.47332018605767784,
          -0.4110999744322007,
          -0.3817450124743262,
          -0.1905923172239046,
          -0.47402215343486076,
          -0.41241349506380415,
          -0.4126360715125254,
          -0.2176886515645914,
          -0.1905398494497412,
          -0.4986314450173682,
          -0.22101168527405535,
          0.10678149716198337,
          -0.4121581467269935,
          -0.45485301134128076,
          0.025584868812291675,
          -0.4868849339647052,
          -0.2997417642939315,
          -0.4734808583512493,
          -0.11715155076958257,
          -0.2653439920660615,
          0.9194108136180096,
          -0.4739651457614743,
          -0.4120161720901357,
          -0.4122026381896933,
          -0.27964147180281296,
          -0.4733624960893372,
          -0.38157626774640685,
          -0.41202459294180155,
          -0.9182331609573517,
          -0.4122139358789895,
          -0.40590504548351564,
          -0.47399950473014074,
          -0.4110790365937678,
          -0.4124811016089916,
          -0.41258164145370985,
          -0.37047752977565196,
          -0.22144298933791443,
          -0.4072346731693934,
          -0.381715797287366,
          -0.4738820643419371,
          -0.4122838123823539,
          0.7388650416411314,
          -0.41243844232129667,
          -0.4736130219434398,
          -0.22140283187731888,
          0.025888715808353727,
          -0.27228511044199893,
          -0.38739691240511936,
          -0.21895954875582196,
          -0.47284971041987756,
          -0.4712734378268715,
          -0.17996929402719022,
          -0.4727232259006374,
          -0.4671533323355358,
          -0.41236917175804605,
          -0.41235815429107703,
          -0.4025216565604088,
          -0.4733972227706559,
          -0.22081716433523518,
          -0.14550441344949736,
          -0.4112779176712215,
          1.032995040193792,
          -0.2205473136701518,
          -0.3204053111969976,
          -0.2813357634078879,
          -0.3184009924154413,
          -0.4268981121898322,
          -0.22101423986577984,
          -0.4836694399697881,
          -0.22064561491297716,
          -0.2818788642946315,
          -0.2826498530848392,
          0.23101546521870758,
          -0.48377215045225025,
          -0.2619331783377845,
          4.2731570623524116,
          -0.26987795411671806,
          -0.4262848383844398,
          -0.1903003119019618,
          -0.4737759439860121,
          0.9305134405138255,
          -0.11504654827161157,
          1.9425372724216405,
          -0.2211344619220424,
          -0.22036847390163228,
          -0.2199763897278423,
          -0.21996020125888766,
          -0.41188065530016427,
          -0.4125592987555804,
          -0.47367893917962106,
          -0.3188679973427796,
          -0.22373550011738144,
          -0.41248868829036833,
          0.5740434431214608,
          -0.3795603213206543,
          -0.29992373472904305,
          -0.3351852098565711,
          -0.41242003648916975,
          -0.37435848157386975,
          -0.2189573304623689,
          -0.41226792642726895,
          -0.2766820255820605,
          -0.47202486726596,
          0.41326107159686304,
          -0.47938946483661604,
          -0.4088574856592745,
          -0.2760908358046222,
          0.16846710961556505,
          -0.4110175909363997,
          -0.1108154881556157,
          -0.47287211318763567,
          -0.2826164256730599,
          -0.22014704991320846,
          -0.39459930347222405,
          -0.41258698303687796,
          0.03603409442649818,
          -0.2825196916684104,
          -0.19027592217296643,
          -0.3484919746523411,
          -0.24170855268522246,
          -0.4067600606643441,
          0.031201110524380973,
          0.037115612230405146,
          -0.24145443219414925,
          -0.22089024417346964,
          0.18437539534628988,
          -0.27461559432821425,
          -0.47377630427615147,
          -0.5041465403147323,
          0.06597243724784797,
          -0.22120957857978013,
          -0.3198543435971311,
          -0.4126222214496397,
          -0.4125968567822483,
          -0.4122118255729499,
          -0.28138626770257474,
          -0.37270863534959986,
          0.010695191460666935,
          -0.3395001376384246,
          -0.12202038769861524,
          -0.2673373572701129,
          -0.15492658259567832,
          -0.39068313992844483,
          -0.4114871374852724,
          0.016659374744505143,
          -0.30811651037653526,
          -0.2825927012918196,
          -0.49824919230929426,
          -0.3767086719046301,
          -0.2993701961742134,
          -0.22123852973691283,
          -0.4024474506993395,
          -0.3112279150434542,
          0.0366036256547356,
          -0.47309006518667446,
          -0.13772160739808723,
          0.03683632821694528,
          -0.2825518106931055,
          -0.2141742040678958,
          -0.8818646964782954,
          -0.3073020200754613,
          0.005665518008851032,
          -0.19030035843381582,
          -0.046979992356852254,
          0.2961804485179551,
          -0.375768749088876,
          -0.21973374682743185,
          -0.4122289477719973,
          -0.3763811144630266,
          0.8119868269313197,
          -0.17934342172877984,
          0.0359650550374376,
          -0.4115030689550865,
          -0.496682561515115,
          -0.32795469647782355,
          -0.4695719642337106,
          -0.18934544342217385,
          -0.2930749702523754,
          -0.1878022131046959,
          -0.4733986422800295,
          0.17391185938043607,
          0.7737183901145611,
          -0.4703918069699846,
          -0.4105846605035712,
          -0.4118041049679626,
          -0.41251968420788376,
          -0.46239137325299695,
          -0.19954143635363109,
          -0.29139453766236173,
          -0.10857151797859489,
          -0.4564473066778477,
          -0.19001192112492862,
          -0.4116054448392254,
          0.7330002660463495,
          -0.4024927026235511,
          -0.46890707572517365,
          -0.40947559552184654,
          -0.22135689270980163,
          -0.21858475467785632,
          -0.8560022627759823,
          -0.3797725601840136,
          -0.4058111389777374,
          -0.32505938921238603,
          -0.4842920148145171,
          -0.40990543434135
         ],
         "z": [
          0.35722699423776105,
          0.35833556490574514,
          0.48727300119108574,
          -0.0436878060687377,
          -0.28004407959548183,
          -0.11570799958504942,
          0.5937659899207655,
          -0.2801784602663431,
          -0.27265626378106445,
          -0.7531633047083461,
          -0.2800852434135052,
          0.3572626294462106,
          0.3571978675700626,
          0.5548594573286153,
          -0.043371200963473654,
          -0.279686100838798,
          -0.28000673212929766,
          0.3572213531922713,
          -0.00379219865820307,
          -0.280120651023388,
          0.3572280795446664,
          -0.28017852680696215,
          0.3572291212134429,
          -0.2801955045866925,
          -0.7531673720708236,
          0.0010754096210556312,
          -0.2514402301697994,
          -0.2801791543534953,
          -0.2795819396292157,
          -0.28015516789496353,
          -0.7052122729334485,
          -0.28019948237885983,
          -0.27717499680149904,
          -0.28007464605498883,
          -0.28006866158212596,
          0.3574838658662429,
          -1.8157013253096823,
          -0.08734912386835689,
          -0.11570839469141077,
          -0.04368795101655687,
          -0.2796535969470728,
          -0.28018125643489145,
          -0.2802209792587095,
          0.436272051054229,
          -0.28013427605165836,
          -0.2802023835693499,
          0.598905255548001,
          -0.1945888620711142,
          -0.24771187803204825,
          -0.04368765980990508,
          -0.2795063342854523,
          -0.19458652750681893,
          1.0272934778114595,
          0.35813015944674065,
          0.3574367242238299,
          0.3558832263703444,
          -0.28017824647078826,
          -0.27968130041608363,
          -0.2801136932010735,
          -1.8156267095985785,
          -0.11575542680289556,
          -0.041827344995817466,
          -0.0436324118367584,
          -0.11573374759536052,
          -0.04364236701654882,
          -0.04355878167541503,
          -0.043732118476918776,
          -0.7532063428902509,
          0.3606561341699178,
          0.35744216108040855,
          -0.2801749076573237,
          -0.4927089518039709,
          -0.279652137431783,
          -0.11574378670720019,
          -0.04363658827016554,
          -0.1945873497200718,
          0.35939490671827967,
          -0.2799983863275971,
          0.5938642917612922,
          -0.2765893992121688,
          -0.27986832902188963,
          -0.1945598291209667,
          -0.28021815771488706,
          -0.27988289288040746,
          0.35722692686541396,
          -0.19456441111233969,
          -0.2780854966713705,
          -0.5145733565188673,
          -1.8155810146320432,
          0.035097459131665856,
          -0.28021699764359265,
          0.3572699561337936,
          -0.2586882318937771,
          -0.2802225456967791,
          -0.043687555584314613,
          -0.08015182267070076,
          -0.11575549830884616,
          1.073674964997917,
          -0.7531359995500108,
          -0.04361641725906386,
          0.7119744226728856,
          -0.753161346097402,
          -1.390657161265323,
          -0.2797681490879817,
          -0.27968365645945514,
          -0.1944781541889635,
          0.5958909280588285,
          -0.2733596666689555,
          -0.7531722197549751,
          -0.04368794680531944,
          -0.27977680427173957,
          0.5937658807882213,
          -0.05852129565950214,
          -0.2800443911499871,
          0.5937408048900407,
          0.002301417491058066,
          1.0662390650733506,
          0.3573179189020319,
          -0.7530256808411739,
          -0.2798577807276902,
          -0.7925700880827382,
          -0.11492082265055022,
          0.5938049928935796,
          -0.28018067174740335,
          -0.753152546021989,
          -0.11559849444545998,
          0.5942025100839683,
          0.594859157372579,
          1.0668925262080065,
          -0.11545426404390378,
          -0.28022255214721925,
          0.36153911590036036,
          0.35732319819920166,
          0.3574398799606416,
          -1.8940200790647381,
          -0.7531519833067757,
          -1.8142257254726235,
          3.6495412640077385,
          -0.11564740753335337,
          0.3574207381805178,
          0.5937638470102161,
          -0.04371176630514488,
          -0.11574893497994149,
          0.3572725444150996,
          0.35722690522766476,
          -0.2797942812022318,
          -0.043709935309655154,
          0.7889052998403863,
          -0.2801591332752318,
          0.5574843176965694,
          0.3572254575221209,
          -0.1125055170363043,
          -1.8944494666954237,
          -0.23378814887934649,
          0.53116146694423,
          -0.11569102883749297,
          -0.2584859008838967,
          -0.7521567100090388,
          -0.1969632781966486,
          -0.11574722573763056,
          0.35731002358443537,
          0.35731821910287587,
          -0.7527132696692111,
          -0.11562522536769435,
          0.593761130457011,
          0.35729783117520314,
          1.3717928072122239,
          0.357287377722107,
          0.3586414812870972,
          -0.11574459278579917,
          0.357539766368855,
          0.35725510600361665,
          0.35723405299269684,
          0.6727186665552051,
          -0.28021800271062425,
          0.35831324369823997,
          0.5937637585130519,
          -0.11573534621769055,
          0.3572699461866667,
          -0.5357612866939492,
          0.3572746783568765,
          0.5699447880838378,
          -0.28021670029576784,
          -1.8944238677566463,
          -0.7510329842122168,
          0.3593558522712636,
          -0.28001097148740606,
          -0.11553856266304181,
          -0.11552128342585544,
          -0.2715280179119646,
          -0.11553894580353859,
          -0.11467365775270079,
          0.3572728779648887,
          0.35728913782134875,
          0.3594016673798839,
          -0.11566922817990102,
          -0.2801475478167985,
          -0.03835631551150743,
          0.35745435820054333,
          -0.07955731234737307,
          -0.28006791311669393,
          1.066722184509918,
          -0.7529904286357944,
          1.0669587071538287,
          0.23919854609687397,
          -0.28018277448469003,
          -0.19452156677184432,
          -0.28006099914687355,
          -0.7530769995111268,
          -0.7531653060202173,
          0.46554719988119525,
          -0.1945457395859779,
          -0.595500627242104,
          0.14724124156684315,
          -0.7508197358256367,
          0.23919668839893735,
          -0.043687809204730185,
          -0.11573532964819779,
          1.1721095674196915,
          -0.25738957713805644,
          -0.28677900815703067,
          -0.28018081536868583,
          -0.2800419900463529,
          -0.2800078913242573,
          -0.2800079403615471,
          0.3573310319308316,
          0.3572359353524664,
          -0.11569704502176098,
          1.028146933509863,
          -0.7494157280513963,
          0.35726115707802186,
          0.40937311127455517,
          0.593931455872286,
          1.0692845690246235,
          0.9485851240370127,
          0.35727256423005366,
          0.6335669390802189,
          -0.2800109782069482,
          0.3572584041284315,
          -0.752453175446237,
          -0.11544402362620702,
          1.1306397522407388,
          -0.1941375594150617,
          0.3576785933742132,
          -0.7520138862032567,
          0.46573666819064596,
          0.35755281264213606,
          -0.2695320948933819,
          -0.11564876481298744,
          -0.7531634224166365,
          -0.2800867687771889,
          0.35915712936678773,
          0.35723557813224355,
          -1.8155789186599554,
          -0.7531566581576602,
          -0.04368972238864949,
          0.14480818464357695,
          -0.4378487930752714,
          0.3577207587656565,
          -0.25893528324841836,
          -1.8927255886327596,
          0.13113324725722003,
          -0.2801374471362054,
          -0.24085851579577566,
          -0.7521286249412606,
          -0.115701160888795,
          -0.35211617790935895,
          -1.734649118880757,
          -0.2801783824288868,
          1.066808731555802,
          0.35723347947443246,
          0.35723781344151817,
          0.35729178213012597,
          -0.7529902756507437,
          0.6335619414496346,
          -2.0126027354074387,
          0.36830131793813775,
          -1.6271031889542766,
          -0.6349215737125561,
          0.37894134700206594,
          0.5151037478812844,
          0.3574086785538675,
          -1.9730908584643214,
          -0.9502346616966859,
          -0.7531608478010595,
          -0.31265361732502134,
          0.6331443381291472,
          1.2244749968539934,
          -0.28017585718423926,
          0.3594014425992495,
          -0.9892414888284949,
          -1.8155056602474269,
          -0.11564810460383566,
          -0.03926205088343822,
          -1.8154071221280899,
          -0.7531521500638869,
          0.3963229386537735,
          2.1774704143749988,
          -0.950065274640644,
          -2.052007173109112,
          -0.04368780906377824,
          0.649907010290597,
          -1.8164132542188172,
          0.6332492225581949,
          -0.27996451832132657,
          0.35727198539379446,
          0.6331739678886679,
          0.5184812764624737,
          0.035314628026091734,
          -1.8155815765496288,
          0.35740872681266855,
          -0.35116841131652055,
          0.5257201951637618,
          -0.11484276337354715,
          -0.043595869434249555,
          -0.8320321781768574,
          -0.0433711824858802,
          -0.1156912778822499,
          0.43263917184816597,
          -0.06688871910235862,
          -0.11576654804217887,
          0.3576617712424804,
          0.3573440415338408,
          0.35722655267313885,
          -0.11468808243786412,
          -0.27808493164663106,
          0.3800163488843328,
          0.5933090763405733,
          -0.11360338779040008,
          -0.04364236937872381,
          0.3572568643089505,
          -0.17284512867029236,
          0.3580783395387901,
          -0.11531232226793159,
          0.3575701957100147,
          -0.2802132225959965,
          -0.2798312639761459,
          1.1591814055283367,
          0.5939431257766242,
          0.35786785155549894,
          1.0274162229107484,
          -0.19458557825840855,
          0.35776998377628094
         ]
        },
        {
         "customdata": [
          [
           20
          ],
          [
           12
          ],
          [
           20
          ],
          [
           18
          ],
          [
           50
          ],
          [
           34
          ],
          [
           47
          ],
          [
           34
          ],
          [
           23
          ],
          [
           53
          ],
          [
           23
          ],
          [
           34
          ],
          [
           41
          ],
          [
           36
          ],
          [
           25
          ],
          [
           53
          ],
          [
           53
          ],
          [
           34
          ],
          [
           38
          ],
          [
           31
          ],
          [
           34
          ],
          [
           10
          ],
          [
           10
          ],
          [
           55
          ],
          [
           9
          ],
          [
           23
          ],
          [
           53
          ],
          [
           53
          ],
          [
           34
          ],
          [
           33
          ],
          [
           30
          ],
          [
           53
          ],
          [
           20
          ],
          [
           6
          ],
          [
           3
          ],
          [
           0
          ],
          [
           53
          ],
          [
           15
          ],
          [
           53
          ],
          [
           53
          ],
          [
           41
          ],
          [
           40
          ],
          [
           10
          ],
          [
           34
          ],
          [
           53
          ],
          [
           41
          ],
          [
           32
          ],
          [
           41
          ],
          [
           41
          ],
          [
           20
          ],
          [
           18
          ],
          [
           14
          ],
          [
           41
          ],
          [
           41
          ],
          [
           10
          ],
          [
           53
          ],
          [
           46
          ],
          [
           10
          ],
          [
           30
          ],
          [
           12
          ],
          [
           53
          ],
          [
           18
          ],
          [
           30
          ],
          [
           53
          ],
          [
           16
          ],
          [
           5
          ],
          [
           41
          ],
          [
           35
          ],
          [
           41
          ],
          [
           47
          ],
          [
           53
          ],
          [
           41
          ],
          [
           47
          ],
          [
           40
          ],
          [
           12
          ],
          [
           1
          ],
          [
           2
          ],
          [
           6
          ],
          [
           8
          ],
          [
           10
          ],
          [
           10
          ],
          [
           28
          ],
          [
           58
          ],
          [
           53
          ],
          [
           41
          ],
          [
           10
          ],
          [
           50
          ],
          [
           37
          ],
          [
           18
          ],
          [
           36
          ],
          [
           31
          ],
          [
           18
          ],
          [
           15
          ],
          [
           39
          ],
          [
           47
          ],
          [
           36
          ],
          [
           20
          ],
          [
           36
          ],
          [
           14
          ],
          [
           34
          ],
          [
           10
          ],
          [
           10
          ],
          [
           20
          ],
          [
           35
          ],
          [
           46
          ],
          [
           12
          ],
          [
           3
          ],
          [
           36
          ],
          [
           46
          ],
          [
           36
          ],
          [
           7
          ],
          [
           40
          ],
          [
           20
          ],
          [
           10
          ],
          [
           10
          ],
          [
           15
          ],
          [
           31
          ],
          [
           43
          ],
          [
           7
          ],
          [
           42
          ],
          [
           53
          ],
          [
           20
          ],
          [
           10
          ],
          [
           26
          ],
          [
           18
          ],
          [
           53
          ],
          [
           32
          ],
          [
           22
          ],
          [
           41
          ],
          [
           54
          ],
          [
           41
          ],
          [
           10
          ],
          [
           35
          ],
          [
           30
          ],
          [
           53
          ],
          [
           32
          ],
          [
           10
          ],
          [
           11
          ],
          [
           10
          ],
          [
           53
          ],
          [
           27
          ],
          [
           10
          ],
          [
           53
          ],
          [
           46
          ],
          [
           47
          ],
          [
           14
          ],
          [
           24
          ],
          [
           46
          ],
          [
           53
          ],
          [
           46
          ],
          [
           12
          ],
          [
           13
          ],
          [
           11
          ],
          [
           53
          ],
          [
           41
          ],
          [
           28
          ],
          [
           17
          ],
          [
           18
          ],
          [
           32
          ],
          [
           10
          ],
          [
           4
          ],
          [
           4
          ],
          [
           18
          ],
          [
           21
          ],
          [
           18
          ],
          [
           18
          ],
          [
           46
          ],
          [
           14
          ],
          [
           36
          ],
          [
           4
          ],
          [
           47
          ],
          [
           23
          ],
          [
           41
          ],
          [
           14
          ],
          [
           53
          ],
          [
           52
          ],
          [
           34
          ],
          [
           19
          ],
          [
           14
          ],
          [
           20
          ],
          [
           14
          ],
          [
           47
          ],
          [
           29
          ],
          [
           41
          ],
          [
           41
          ],
          [
           47
          ],
          [
           10
          ],
          [
           18
          ],
          [
           53
          ]
         ],
         "hovertemplate": "<b>%{hovertext}</b><br><br>Class=%{marker.color}<br>PC_1=%{y}<br>PC_3=%{z}<br>Algorithm=%{customdata[0]}<extra></extra>",
         "hovertext": [
          "Ethereum",
          "Monero",
          "Ethereum Classic",
          "ZCash",
          "Bitshares",
          "DigiByte",
          "PayCoin",
          "MyriadCoin",
          "Riecoin",
          "CasinoCoin",
          "Diamond",
          "Verge",
          "Exclusive Coin",
          "FeatherCoin",
          "MediterraneanCoin",
          "MintCoin",
          "Nautilus Coin",
          "TeslaCoin",
          "TittieCoin",
          "Vertcoin",
          "Crypti",
          "ByteCoin",
          "DigitalNote ",
          "BurstCoin",
          "StorjCoin",
          "FairCoin",
          "RubyCoin",
          "Dnotes",
          "Unitus",
          "Cryptonite",
          "Crypto",
          "Diggits",
          "Expanse",
          "Siacoin",
          "Decred",
          "HOdlcoin",
          "GPU Coin",
          "SoilCoin",
          "ZeitCoin",
          "SafeExchangeCoin",
          "Nebuchadnezzar",
          "Let it Ride",
          "Karbo",
          "Circuits of Value",
          "BitCurrency",
          "Opair",
          "ZCoin",
          "CoffeeCoin",
          "TeamUP",
          "Elementrem",
          "ZClassic",
          "ARK",
          "FreeCoin",
          "Creatio",
          "Cannabis Industry Coin",
          "PandaCoin",
          "Allsafe",
          "Bikercoins",
          "HexxCoin",
          "Citadel",
          "Zilbercoin",
          "Zero",
          "Zoin",
          "RenosCoin",
          "DubaiCoin",
          "TajCoin",
          "Atmos",
          "Coinonat",
          "MacronCoin",
          "ProCurrency",
          "GrowthCoin",
          "Phreak",
          "Ultimate Secure Cash",
          "QTUM",
          "Quantum Resistant Ledger",
          "Espers",
          "Dynamic",
          "Nano",
          "ChanCoin",
          "Dinastycoin",
          "LeviarCoin",
          "SmartCash",
          "Signatum",
          "Draftcoin",
          "Stakecoin",
          "Sumokoin",
          "Obsidian",
          "Cardano",
          "BitcoinZ",
          "VIVO Coin",
          "Rupee",
          "Bitcoin Gold",
          "Pirl",
          "KekCoin",
          "Infinity Economics",
          "Innova",
          "Ellaism",
          "GoByte",
          "Lamden Tau",
          "SHIELD",
          "UltraNote",
          "BitCoal",
          "DaxxCoin",
          "Bulwark",
          "Kalkulus",
          "Lethean",
          "Photon",
          "SparksPay",
          "Digiwage",
          "GunCoin",
          "Interzone",
          "TokenPay",
          "1717 Masonic Commemorative Token",
          "TurtleCoin",
          "Niobio Cash",
          "Travelflex",
          "KREDS",
          "BiblePay",
          "Stipend",
          "Poa Network",
          "Velox",
          "Callisto Network",
          "BitTube",
          "Aidos Kuneen",
          "Bitrolium",
          "MedicCoin",
          "Alpenschillling",
          "Bitcoin Green",
          "Deviant Coin",
          "Semux",
          "Zealium",
          "Monero Classic",
          "Jumpcoin",
          "Infinex",
          "HollyWoodCoin",
          "GINcoin",
          "PlatinCoin",
          "Loki",
          "Newton Coin",
          "Xt3ch",
          "MassGrid",
          "PluraCoin",
          "Lynx",
          "Poseidon Quark",
          "BitcoinWSpectrum",
          "Muse",
          "PlusOneCoin",
          "Dystem",
          "Peony Coin",
          "Vitae",
          "Webchain",
          "Ryo",
          "Qwertycoin",
          "MMOCoin",
          "Ketan",
          "XDNA",
          "Acute Angle Cloud",
          "CrypticCoin",
          "Actinium",
          "FREDEnergy",
          "Universal Molecule",
          "Lithium",
          "PirateCash",
          "Exosis",
          "Beam",
          "Bithereum",
          "Crypto Sports",
          "ALAX",
          "UFO Coin",
          "BlakeCoin",
          "NeosCoin",
          "Groestlcoin",
          "Radium",
          "Lisk",
          "HiCoin",
          "Fiii",
          "JoinCoin",
          "Vollar",
          "EOS",
          "Reality Clash",
          "Oxycoin",
          "TigerCash",
          "Waves",
          "Particl",
          "Nxt",
          "ZEPHYR",
          "Beldex",
          "Horizen",
          "BitcoinPlus"
         ],
         "legendgroup": "1",
         "marker": {
          "color": [
           1,
           1,
           1,
           1,
           1,
           1,
           1,
           1,
           1,
           1,
           1,
           1,
           1,
           1,
           1,
           1,
           1,
           1,
           1,
           1,
           1,
           1,
           1,
           1,
           1,
           1,
           1,
           1,
           1,
           1,
           1,
           1,
           1,
           1,
           1,
           1,
           1,
           1,
           1,
           1,
           1,
           1,
           1,
           1,
           1,
           1,
           1,
           1,
           1,
           1,
           1,
           1,
           1,
           1,
           1,
           1,
           1,
           1,
           1,
           1,
           1,
           1,
           1,
           1,
           1,
           1,
           1,
           1,
           1,
           1,
           1,
           1,
           1,
           1,
           1,
           1,
           1,
           1,
           1,
           1,
           1,
           1,
           1,
           1,
           1,
           1,
           1,
           1,
           1,
           1,
           1,
           1,
           1,
           1,
           1,
           1,
           1,
           1,
           1,
           1,
           1,
           1,
           1,
           1,
           1,
           1,
           1,
           1,
           1,
           1,
           1,
           1,
           1,
           1,
           1,
           1,
           1,
           1,
           1,
           1,
           1,
           1,
           1,
           1,
           1,
           1,
           1,
           1,
           1,
           1,
           1,
           1,
           1,
           1,
           1,
           1,
           1,
           1,
           1,
           1,
           1,
           1,
           1,
           1,
           1,
           1,
           1,
           1,
           1,
           1,
           1,
           1,
           1,
           1,
           1,
           1,
           1,
           1,
           1,
           1,
           1,
           1,
           1,
           1,
           1,
           1,
           1,
           1,
           1,
           1,
           1,
           1,
           1,
           1,
           1,
           1,
           1,
           1,
           1,
           1,
           1,
           1,
           1,
           1,
           1,
           1,
           1,
           1,
           1
          ],
          "coloraxis": "coloraxis",
          "symbol": "diamond"
         },
         "mode": "markers",
         "name": "1",
         "scene": "scene",
         "showlegend": true,
         "type": "scatter3d",
         "x": [
          -0.05101253000576696,
          -0.011450356650788722,
          -0.04879804407865413,
          -0.042084610252887275,
          0.19048330548241274,
          0.2611907512795886,
          0.12815839255208086,
          -0.07845238122329709,
          -0.06639008716622458,
          1.1716192848406393,
          -0.25907830768651824,
          0.28458347906613357,
          0.15863466347770258,
          -0.12794141391974076,
          -0.07558509253438313,
          0.41937791689923365,
          0.09756047388879723,
          0.19659183051035878,
          0.2217608048082219,
          -0.10729688645593757,
          0.19587691491860545,
          4.653678143255552,
          0.20439686306091812,
          0.19996347184914848,
          0.3281167517831622,
          -0.2583677632358757,
          0.09756299347474247,
          0.10486253042071302,
          -0.12328666132457668,
          -0.0897835965834394,
          -0.10293146921825332,
          0.09967848074147412,
          -0.052311856590004265,
          0.519841587696855,
          -0.15647452292577022,
          0.05069047100052994,
          0.10000477501881344,
          -0.026669550184999898,
          1.660096021879932,
          0.21514248214578618,
          0.15905408670136528,
          0.16458865613005405,
          -0.0012580683210795098,
          -0.09697622114620105,
          0.09971804821603587,
          0.1604190980382023,
          -0.11370768782597733,
          0.16120459254534245,
          0.16186935159060326,
          -0.05197986604702377,
          -0.042111386970558454,
          0.6819593272389178,
          0.15981214212465694,
          0.15905408670136528,
          -0.001250139964987144,
          0.9384004384088738,
          0.13327779805674508,
          -0.001082802384240341,
          -0.10367652786152665,
          -0.009669460851902404,
          0.09775334644088682,
          -0.04213213715162548,
          -0.1033127798823384,
          0.09804610788009485,
          -0.03211992329235097,
          -0.16651867720633903,
          0.16134838061069445,
          -0.12874612043037678,
          0.16867763114406717,
          0.8895869472343638,
          0.1218901183896621,
          0.159025162967098,
          0.13003478229854368,
          0.16619199175419877,
          -0.009601673858298462,
          0.705243974766303,
          0.03975297058067976,
          0.024453419857537326,
          0.009337676480142231,
          0.04617602406454354,
          -0.0007161460357283086,
          -0.008980767620476419,
          0.07459711513281285,
          0.09761047779788434,
          0.159233635459681,
          -0.00044142242474550484,
          0.11380554584208738,
          1.0274800599046714,
          0.2493139276536292,
          -0.13416810564722137,
          0.21031939999836133,
          -0.041936021485030735,
          -0.024961263032896783,
          0.16918101813445496,
          0.35526679971101,
          -0.1339522222948198,
          -0.049610870711322544,
          -0.13409423630561462,
          0.6884825320171516,
          -0.11029238508894974,
          1.1518780260796675,
          -0.0012830038945520535,
          0.05660229296689408,
          0.1897286566360479,
          0.13342590077092661,
          0.005097434109251416,
          1.4019217543041227,
          -0.1341732140298782,
          0.13459604848394127,
          -0.12490008630901925,
          0.01428492813000128,
          0.16422793855951184,
          0.26603450411403173,
          10.938854473739456,
          0.003954670301117885,
          -0.024422221849107983,
          -0.08803076055438606,
          0.4190213635007293,
          -0.17694362700449767,
          0.286539790846709,
          0.09879545197501027,
          0.016990232091830464,
          0.00986972952343263,
          -0.0827088717705895,
          -0.04061988574462315,
          0.10626456261336208,
          -0.11058454207285039,
          0.2561219837558896,
          0.15977174565430066,
          0.4754302477688231,
          0.15952720690481528,
          -0.0010489235322857083,
          -0.12885671177452201,
          -0.1034627610611407,
          0.09800089408125798,
          -0.11382697765949615,
          0.00460520134543843,
          -0.004783956489608293,
          2.4884651882466824,
          0.09771308182557181,
          -0.08469821407006722,
          0.017133796393144586,
          2.5267022119913425,
          0.13959623263257695,
          0.1297412650245842,
          0.2971507746569814,
          -0.07276405152654578,
          0.13328663003590555,
          0.2682665175180768,
          0.1349797649522586,
          0.0062634713728215675,
          -0.015859162497907447,
          3.369699849982002,
          0.101417758607898,
          0.16081846026665247,
          -0.28097427189349006,
          0.8164284605515737,
          0.09871297712148253,
          -0.1129813602672913,
          0.1086755785688807,
          0.030310142506462082,
          0.029716263467637227,
          0.2774946898745357,
          -0.05753945961424527,
          -0.03920536424558632,
          -0.04171553691934,
          0.13313139434979646,
          0.704323468362405,
          -0.036083688225490386,
          0.10052761049723118,
          0.12812949816937047,
          -0.06581784028581927,
          0.1586977665296972,
          0.6824919806898381,
          0.349930032763662,
          0.5094863234495273,
          -0.12419315982762974,
          -0.02472635814541574,
          0.6944981506614367,
          -0.05202326711906611,
          0.6960391912515836,
          0.15311868698455816,
          0.47738118284148356,
          0.15877670913999228,
          0.12009009854822485,
          0.5607499929072505,
          0.02754817238172446,
          -0.042085919481459864,
          0.09716370741823102
         ],
         "y": [
          -0.05101253000576696,
          -0.011450356650788722,
          -0.04879804407865413,
          -0.042084610252887275,
          0.19048330548241274,
          0.2611907512795886,
          0.12815839255208086,
          -0.07845238122329709,
          -0.06639008716622458,
          1.1716192848406393,
          -0.25907830768651824,
          0.28458347906613357,
          0.15863466347770258,
          -0.12794141391974076,
          -0.07558509253438313,
          0.41937791689923365,
          0.09756047388879723,
          0.19659183051035878,
          0.2217608048082219,
          -0.10729688645593757,
          0.19587691491860545,
          4.653678143255552,
          0.20439686306091812,
          0.19996347184914848,
          0.3281167517831622,
          -0.2583677632358757,
          0.09756299347474247,
          0.10486253042071302,
          -0.12328666132457668,
          -0.0897835965834394,
          -0.10293146921825332,
          0.09967848074147412,
          -0.052311856590004265,
          0.519841587696855,
          -0.15647452292577022,
          0.05069047100052994,
          0.10000477501881344,
          -0.026669550184999898,
          1.660096021879932,
          0.21514248214578618,
          0.15905408670136528,
          0.16458865613005405,
          -0.0012580683210795098,
          -0.09697622114620105,
          0.09971804821603587,
          0.1604190980382023,
          -0.11370768782597733,
          0.16120459254534245,
          0.16186935159060326,
          -0.05197986604702377,
          -0.042111386970558454,
          0.6819593272389178,
          0.15981214212465694,
          0.15905408670136528,
          -0.001250139964987144,
          0.9384004384088738,
          0.13327779805674508,
          -0.001082802384240341,
          -0.10367652786152665,
          -0.009669460851902404,
          0.09775334644088682,
          -0.04213213715162548,
          -0.1033127798823384,
          0.09804610788009485,
          -0.03211992329235097,
          -0.16651867720633903,
          0.16134838061069445,
          -0.12874612043037678,
          0.16867763114406717,
          0.8895869472343638,
          0.1218901183896621,
          0.159025162967098,
          0.13003478229854368,
          0.16619199175419877,
          -0.009601673858298462,
          0.705243974766303,
          0.03975297058067976,
          0.024453419857537326,
          0.009337676480142231,
          0.04617602406454354,
          -0.0007161460357283086,
          -0.008980767620476419,
          0.07459711513281285,
          0.09761047779788434,
          0.159233635459681,
          -0.00044142242474550484,
          0.11380554584208738,
          1.0274800599046714,
          0.2493139276536292,
          -0.13416810564722137,
          0.21031939999836133,
          -0.041936021485030735,
          -0.024961263032896783,
          0.16918101813445496,
          0.35526679971101,
          -0.1339522222948198,
          -0.049610870711322544,
          -0.13409423630561462,
          0.6884825320171516,
          -0.11029238508894974,
          1.1518780260796675,
          -0.0012830038945520535,
          0.05660229296689408,
          0.1897286566360479,
          0.13342590077092661,
          0.005097434109251416,
          1.4019217543041227,
          -0.1341732140298782,
          0.13459604848394127,
          -0.12490008630901925,
          0.01428492813000128,
          0.16422793855951184,
          0.26603450411403173,
          10.938854473739456,
          0.003954670301117885,
          -0.024422221849107983,
          -0.08803076055438606,
          0.4190213635007293,
          -0.17694362700449767,
          0.286539790846709,
          0.09879545197501027,
          0.016990232091830464,
          0.00986972952343263,
          -0.0827088717705895,
          -0.04061988574462315,
          0.10626456261336208,
          -0.11058454207285039,
          0.2561219837558896,
          0.15977174565430066,
          0.4754302477688231,
          0.15952720690481528,
          -0.0010489235322857083,
          -0.12885671177452201,
          -0.1034627610611407,
          0.09800089408125798,
          -0.11382697765949615,
          0.00460520134543843,
          -0.004783956489608293,
          2.4884651882466824,
          0.09771308182557181,
          -0.08469821407006722,
          0.017133796393144586,
          2.5267022119913425,
          0.13959623263257695,
          0.1297412650245842,
          0.2971507746569814,
          -0.07276405152654578,
          0.13328663003590555,
          0.2682665175180768,
          0.1349797649522586,
          0.0062634713728215675,
          -0.015859162497907447,
          3.369699849982002,
          0.101417758607898,
          0.16081846026665247,
          -0.28097427189349006,
          0.8164284605515737,
          0.09871297712148253,
          -0.1129813602672913,
          0.1086755785688807,
          0.030310142506462082,
          0.029716263467637227,
          0.2774946898745357,
          -0.05753945961424527,
          -0.03920536424558632,
          -0.04171553691934,
          0.13313139434979646,
          0.704323468362405,
          -0.036083688225490386,
          0.10052761049723118,
          0.12812949816937047,
          -0.06581784028581927,
          0.1586977665296972,
          0.6824919806898381,
          0.349930032763662,
          0.5094863234495273,
          -0.12419315982762974,
          -0.02472635814541574,
          0.6944981506614367,
          -0.05202326711906611,
          0.6960391912515836,
          0.15311868698455816,
          0.47738118284148356,
          0.15877670913999228,
          0.12009009854822485,
          0.5607499929072505,
          0.02754817238172446,
          -0.042085919481459864,
          0.09716370741823102
         ],
         "z": [
          1.0204728629380473,
          1.3357986258852745,
          1.0209292889768384,
          1.0993535330101794,
          -1.2166918777703366,
          0.51381075262641,
          -1.106124116792002,
          0.4729369781092302,
          0.902412596469656,
          -1.4699712566890533,
          1.5396924255262654,
          0.503936888558403,
          -0.8696597994618712,
          0.39055570113470073,
          0.8238348752706285,
          -1.343618033730396,
          -1.3426075172629583,
          -0.5935393350230354,
          -0.7464864964476414,
          0.5870909065951774,
          -0.5937577094594989,
          1.8073531910791196,
          1.4360601953488126,
          -1.6293443295876997,
          0.3927119248091959,
          1.5396806135280308,
          -1.3426432082708086,
          -1.3415626195455106,
          0.4686619873877638,
          0.5120491383513305,
          0.6264682211062774,
          -1.3424290763750961,
          1.0205140841640548,
          1.5707734652567609,
          2.328032283787498,
          1.8089595552898594,
          -1.3421630952672783,
          1.2176187880976341,
          -1.129041731822775,
          -1.5505538937236145,
          -0.8696169619529385,
          -0.8301732537524035,
          1.4146512065936991,
          0.471228769406123,
          -1.3426497362534338,
          -0.8695020051639379,
          0.5475415674809687,
          -0.8695793683767153,
          -0.8690057723473276,
          1.0205335868449876,
          1.0993536141208555,
          -1.0800839272065192,
          -0.8695530962092511,
          -0.8696169619529385,
          1.414675441980005,
          -1.273481825394839,
          -1.0667034104004254,
          1.4146837566903863,
          0.626347440704242,
          1.3362012303276751,
          -1.3425224878659672,
          1.0993448553753504,
          0.6263705982619805,
          -1.3425687476554389,
          1.1781433601905174,
          2.2492363742247576,
          -0.8694247860592745,
          0.42935423954156915,
          -0.8688080610204497,
          -0.9430531481789751,
          -1.338306098313955,
          -0.8695948203363735,
          -1.1057161024197661,
          -0.8300314513804394,
          1.3360245929727095,
          2.514507108317195,
          1.7299505267085717,
          1.5730245288022386,
          1.4935246191744782,
          1.4188962680932717,
          1.4147466026400934,
          0.715926940902522,
          -1.5394239003386476,
          -1.3426049651515433,
          -0.869525761260748,
          1.414822714422714,
          -1.2241987591810115,
          -0.6153258504258925,
          1.1447379346549917,
          0.38989309404409644,
          -0.4754564272937881,
          1.0993530829126126,
          1.2178921703375523,
          -0.7907840318707436,
          -1.086991027544714,
          0.38993213730524307,
          1.0210861291658726,
          0.3899034562039122,
          -1.079276661883342,
          0.4700781899334392,
          1.5985951503308222,
          1.4146567956278384,
          1.0422008838240904,
          -0.6331086606623062,
          -1.066692832024535,
          1.3379527569167462,
          1.8848796340098908,
          0.38987987711679734,
          -1.0664758365541465,
          0.39090817413618795,
          1.5329248957436465,
          -0.8301909069869332,
          -0.04193685417671844,
          3.5868901435094793,
          1.4153543769035062,
          1.2177663586202965,
          0.589273233251916,
          -1.574713610785218,
          2.170367826766967,
          -1.3335023275079139,
          -1.342373471943688,
          1.0346019738825172,
          1.4168008450555538,
          0.7840398088874999,
          1.0994571607519659,
          -1.341566866510387,
          0.548146531508926,
          -0.12072548334745951,
          -0.8694691686337412,
          -2.6567414681801513,
          -0.8694860710911562,
          1.4146690984247963,
          0.4292944729723201,
          0.6263826970905582,
          -1.342587194331275,
          0.5475178899652299,
          1.4159346331497564,
          1.3755399427322843,
          1.812881050548126,
          -1.3425466253009146,
          0.7449305067998724,
          1.4167788411122648,
          -2.2085575156753445,
          -1.0653221207390986,
          -1.105935360762394,
          0.1945894012105058,
          0.8628622636105537,
          -1.0666902047524562,
          -1.305933138929943,
          -1.0665211068931393,
          1.3396044184496005,
          1.2965757722752664,
          1.7718174969344143,
          -1.3420814808714003,
          -0.8692032804610976,
          1.3434027668272788,
          -1.6214347911842404,
          1.1156417644017609,
          0.5476774253804468,
          1.4321157809806284,
          1.6513495614502511,
          1.6511751683248728,
          0.03711783049213226,
          0.9811082470524652,
          1.0998780771185899,
          1.0993742176185672,
          -1.0667065617241018,
          -1.0782219463323082,
          0.3983580367926862,
          1.6663428321577158,
          -1.1061052833646854,
          0.9024571764531369,
          -0.8696401420084098,
          -1.0800085316461299,
          -1.3213341773523752,
          -2.779467347887373,
          0.46867090842772813,
          1.0644552790064745,
          -1.0803975842032716,
          1.0205299303289157,
          -1.0804022522453423,
          -1.1040218925284788,
          -1.2463987083989834,
          -0.8696411880050912,
          -0.6550470614505163,
          -2.3767947516571533,
          1.4176299454465604,
          1.0993535369760281,
          -1.342639793373493
         ]
        },
        {
         "customdata": [
          [
           60
          ]
         ],
         "hovertemplate": "<b>%{hovertext}</b><br><br>Class=%{marker.color}<br>PC_1=%{y}<br>PC_3=%{z}<br>Algorithm=%{customdata[0]}<extra></extra>",
         "hovertext": [
          "BitTorrent"
         ],
         "legendgroup": "2",
         "marker": {
          "color": [
           2
          ],
          "coloraxis": "coloraxis",
          "symbol": "square"
         },
         "mode": "markers",
         "name": "2",
         "scene": "scene",
         "showlegend": true,
         "type": "scatter3d",
         "x": [
          25.459357630637193
         ],
         "y": [
          25.459357630637193
         ],
         "z": [
          -0.7858800338600169
         ]
        }
       ],
       "layout": {
        "coloraxis": {
         "colorbar": {
          "title": {
           "text": "Class"
          }
         },
         "colorscale": [
          [
           0,
           "#0d0887"
          ],
          [
           0.1111111111111111,
           "#46039f"
          ],
          [
           0.2222222222222222,
           "#7201a8"
          ],
          [
           0.3333333333333333,
           "#9c179e"
          ],
          [
           0.4444444444444444,
           "#bd3786"
          ],
          [
           0.5555555555555556,
           "#d8576b"
          ],
          [
           0.6666666666666666,
           "#ed7953"
          ],
          [
           0.7777777777777778,
           "#fb9f3a"
          ],
          [
           0.8888888888888888,
           "#fdca26"
          ],
          [
           1,
           "#f0f921"
          ]
         ]
        },
        "legend": {
         "title": {
          "text": "Class"
         },
         "tracegroupgap": 0,
         "x": 0,
         "y": 1
        },
        "margin": {
         "t": 60
        },
        "scene": {
         "domain": {
          "x": [
           0,
           1
          ],
          "y": [
           0,
           1
          ]
         },
         "xaxis": {
          "title": {
           "text": "PC_1"
          }
         },
         "yaxis": {
          "title": {
           "text": "PC_1"
          }
         },
         "zaxis": {
          "title": {
           "text": "PC_3"
          }
         }
        },
        "template": {
         "data": {
          "bar": [
           {
            "error_x": {
             "color": "#2a3f5f"
            },
            "error_y": {
             "color": "#2a3f5f"
            },
            "marker": {
             "line": {
              "color": "#E5ECF6",
              "width": 0.5
             },
             "pattern": {
              "fillmode": "overlay",
              "size": 10,
              "solidity": 0.2
             }
            },
            "type": "bar"
           }
          ],
          "barpolar": [
           {
            "marker": {
             "line": {
              "color": "#E5ECF6",
              "width": 0.5
             },
             "pattern": {
              "fillmode": "overlay",
              "size": 10,
              "solidity": 0.2
             }
            },
            "type": "barpolar"
           }
          ],
          "carpet": [
           {
            "aaxis": {
             "endlinecolor": "#2a3f5f",
             "gridcolor": "white",
             "linecolor": "white",
             "minorgridcolor": "white",
             "startlinecolor": "#2a3f5f"
            },
            "baxis": {
             "endlinecolor": "#2a3f5f",
             "gridcolor": "white",
             "linecolor": "white",
             "minorgridcolor": "white",
             "startlinecolor": "#2a3f5f"
            },
            "type": "carpet"
           }
          ],
          "choropleth": [
           {
            "colorbar": {
             "outlinewidth": 0,
             "ticks": ""
            },
            "type": "choropleth"
           }
          ],
          "contour": [
           {
            "colorbar": {
             "outlinewidth": 0,
             "ticks": ""
            },
            "colorscale": [
             [
              0,
              "#0d0887"
             ],
             [
              0.1111111111111111,
              "#46039f"
             ],
             [
              0.2222222222222222,
              "#7201a8"
             ],
             [
              0.3333333333333333,
              "#9c179e"
             ],
             [
              0.4444444444444444,
              "#bd3786"
             ],
             [
              0.5555555555555556,
              "#d8576b"
             ],
             [
              0.6666666666666666,
              "#ed7953"
             ],
             [
              0.7777777777777778,
              "#fb9f3a"
             ],
             [
              0.8888888888888888,
              "#fdca26"
             ],
             [
              1,
              "#f0f921"
             ]
            ],
            "type": "contour"
           }
          ],
          "contourcarpet": [
           {
            "colorbar": {
             "outlinewidth": 0,
             "ticks": ""
            },
            "type": "contourcarpet"
           }
          ],
          "heatmap": [
           {
            "colorbar": {
             "outlinewidth": 0,
             "ticks": ""
            },
            "colorscale": [
             [
              0,
              "#0d0887"
             ],
             [
              0.1111111111111111,
              "#46039f"
             ],
             [
              0.2222222222222222,
              "#7201a8"
             ],
             [
              0.3333333333333333,
              "#9c179e"
             ],
             [
              0.4444444444444444,
              "#bd3786"
             ],
             [
              0.5555555555555556,
              "#d8576b"
             ],
             [
              0.6666666666666666,
              "#ed7953"
             ],
             [
              0.7777777777777778,
              "#fb9f3a"
             ],
             [
              0.8888888888888888,
              "#fdca26"
             ],
             [
              1,
              "#f0f921"
             ]
            ],
            "type": "heatmap"
           }
          ],
          "heatmapgl": [
           {
            "colorbar": {
             "outlinewidth": 0,
             "ticks": ""
            },
            "colorscale": [
             [
              0,
              "#0d0887"
             ],
             [
              0.1111111111111111,
              "#46039f"
             ],
             [
              0.2222222222222222,
              "#7201a8"
             ],
             [
              0.3333333333333333,
              "#9c179e"
             ],
             [
              0.4444444444444444,
              "#bd3786"
             ],
             [
              0.5555555555555556,
              "#d8576b"
             ],
             [
              0.6666666666666666,
              "#ed7953"
             ],
             [
              0.7777777777777778,
              "#fb9f3a"
             ],
             [
              0.8888888888888888,
              "#fdca26"
             ],
             [
              1,
              "#f0f921"
             ]
            ],
            "type": "heatmapgl"
           }
          ],
          "histogram": [
           {
            "marker": {
             "pattern": {
              "fillmode": "overlay",
              "size": 10,
              "solidity": 0.2
             }
            },
            "type": "histogram"
           }
          ],
          "histogram2d": [
           {
            "colorbar": {
             "outlinewidth": 0,
             "ticks": ""
            },
            "colorscale": [
             [
              0,
              "#0d0887"
             ],
             [
              0.1111111111111111,
              "#46039f"
             ],
             [
              0.2222222222222222,
              "#7201a8"
             ],
             [
              0.3333333333333333,
              "#9c179e"
             ],
             [
              0.4444444444444444,
              "#bd3786"
             ],
             [
              0.5555555555555556,
              "#d8576b"
             ],
             [
              0.6666666666666666,
              "#ed7953"
             ],
             [
              0.7777777777777778,
              "#fb9f3a"
             ],
             [
              0.8888888888888888,
              "#fdca26"
             ],
             [
              1,
              "#f0f921"
             ]
            ],
            "type": "histogram2d"
           }
          ],
          "histogram2dcontour": [
           {
            "colorbar": {
             "outlinewidth": 0,
             "ticks": ""
            },
            "colorscale": [
             [
              0,
              "#0d0887"
             ],
             [
              0.1111111111111111,
              "#46039f"
             ],
             [
              0.2222222222222222,
              "#7201a8"
             ],
             [
              0.3333333333333333,
              "#9c179e"
             ],
             [
              0.4444444444444444,
              "#bd3786"
             ],
             [
              0.5555555555555556,
              "#d8576b"
             ],
             [
              0.6666666666666666,
              "#ed7953"
             ],
             [
              0.7777777777777778,
              "#fb9f3a"
             ],
             [
              0.8888888888888888,
              "#fdca26"
             ],
             [
              1,
              "#f0f921"
             ]
            ],
            "type": "histogram2dcontour"
           }
          ],
          "mesh3d": [
           {
            "colorbar": {
             "outlinewidth": 0,
             "ticks": ""
            },
            "type": "mesh3d"
           }
          ],
          "parcoords": [
           {
            "line": {
             "colorbar": {
              "outlinewidth": 0,
              "ticks": ""
             }
            },
            "type": "parcoords"
           }
          ],
          "pie": [
           {
            "automargin": true,
            "type": "pie"
           }
          ],
          "scatter": [
           {
            "marker": {
             "colorbar": {
              "outlinewidth": 0,
              "ticks": ""
             }
            },
            "type": "scatter"
           }
          ],
          "scatter3d": [
           {
            "line": {
             "colorbar": {
              "outlinewidth": 0,
              "ticks": ""
             }
            },
            "marker": {
             "colorbar": {
              "outlinewidth": 0,
              "ticks": ""
             }
            },
            "type": "scatter3d"
           }
          ],
          "scattercarpet": [
           {
            "marker": {
             "colorbar": {
              "outlinewidth": 0,
              "ticks": ""
             }
            },
            "type": "scattercarpet"
           }
          ],
          "scattergeo": [
           {
            "marker": {
             "colorbar": {
              "outlinewidth": 0,
              "ticks": ""
             }
            },
            "type": "scattergeo"
           }
          ],
          "scattergl": [
           {
            "marker": {
             "colorbar": {
              "outlinewidth": 0,
              "ticks": ""
             }
            },
            "type": "scattergl"
           }
          ],
          "scattermapbox": [
           {
            "marker": {
             "colorbar": {
              "outlinewidth": 0,
              "ticks": ""
             }
            },
            "type": "scattermapbox"
           }
          ],
          "scatterpolar": [
           {
            "marker": {
             "colorbar": {
              "outlinewidth": 0,
              "ticks": ""
             }
            },
            "type": "scatterpolar"
           }
          ],
          "scatterpolargl": [
           {
            "marker": {
             "colorbar": {
              "outlinewidth": 0,
              "ticks": ""
             }
            },
            "type": "scatterpolargl"
           }
          ],
          "scatterternary": [
           {
            "marker": {
             "colorbar": {
              "outlinewidth": 0,
              "ticks": ""
             }
            },
            "type": "scatterternary"
           }
          ],
          "surface": [
           {
            "colorbar": {
             "outlinewidth": 0,
             "ticks": ""
            },
            "colorscale": [
             [
              0,
              "#0d0887"
             ],
             [
              0.1111111111111111,
              "#46039f"
             ],
             [
              0.2222222222222222,
              "#7201a8"
             ],
             [
              0.3333333333333333,
              "#9c179e"
             ],
             [
              0.4444444444444444,
              "#bd3786"
             ],
             [
              0.5555555555555556,
              "#d8576b"
             ],
             [
              0.6666666666666666,
              "#ed7953"
             ],
             [
              0.7777777777777778,
              "#fb9f3a"
             ],
             [
              0.8888888888888888,
              "#fdca26"
             ],
             [
              1,
              "#f0f921"
             ]
            ],
            "type": "surface"
           }
          ],
          "table": [
           {
            "cells": {
             "fill": {
              "color": "#EBF0F8"
             },
             "line": {
              "color": "white"
             }
            },
            "header": {
             "fill": {
              "color": "#C8D4E3"
             },
             "line": {
              "color": "white"
             }
            },
            "type": "table"
           }
          ]
         },
         "layout": {
          "annotationdefaults": {
           "arrowcolor": "#2a3f5f",
           "arrowhead": 0,
           "arrowwidth": 1
          },
          "autotypenumbers": "strict",
          "coloraxis": {
           "colorbar": {
            "outlinewidth": 0,
            "ticks": ""
           }
          },
          "colorscale": {
           "diverging": [
            [
             0,
             "#8e0152"
            ],
            [
             0.1,
             "#c51b7d"
            ],
            [
             0.2,
             "#de77ae"
            ],
            [
             0.3,
             "#f1b6da"
            ],
            [
             0.4,
             "#fde0ef"
            ],
            [
             0.5,
             "#f7f7f7"
            ],
            [
             0.6,
             "#e6f5d0"
            ],
            [
             0.7,
             "#b8e186"
            ],
            [
             0.8,
             "#7fbc41"
            ],
            [
             0.9,
             "#4d9221"
            ],
            [
             1,
             "#276419"
            ]
           ],
           "sequential": [
            [
             0,
             "#0d0887"
            ],
            [
             0.1111111111111111,
             "#46039f"
            ],
            [
             0.2222222222222222,
             "#7201a8"
            ],
            [
             0.3333333333333333,
             "#9c179e"
            ],
            [
             0.4444444444444444,
             "#bd3786"
            ],
            [
             0.5555555555555556,
             "#d8576b"
            ],
            [
             0.6666666666666666,
             "#ed7953"
            ],
            [
             0.7777777777777778,
             "#fb9f3a"
            ],
            [
             0.8888888888888888,
             "#fdca26"
            ],
            [
             1,
             "#f0f921"
            ]
           ],
           "sequentialminus": [
            [
             0,
             "#0d0887"
            ],
            [
             0.1111111111111111,
             "#46039f"
            ],
            [
             0.2222222222222222,
             "#7201a8"
            ],
            [
             0.3333333333333333,
             "#9c179e"
            ],
            [
             0.4444444444444444,
             "#bd3786"
            ],
            [
             0.5555555555555556,
             "#d8576b"
            ],
            [
             0.6666666666666666,
             "#ed7953"
            ],
            [
             0.7777777777777778,
             "#fb9f3a"
            ],
            [
             0.8888888888888888,
             "#fdca26"
            ],
            [
             1,
             "#f0f921"
            ]
           ]
          },
          "colorway": [
           "#636efa",
           "#EF553B",
           "#00cc96",
           "#ab63fa",
           "#FFA15A",
           "#19d3f3",
           "#FF6692",
           "#B6E880",
           "#FF97FF",
           "#FECB52"
          ],
          "font": {
           "color": "#2a3f5f"
          },
          "geo": {
           "bgcolor": "white",
           "lakecolor": "white",
           "landcolor": "#E5ECF6",
           "showlakes": true,
           "showland": true,
           "subunitcolor": "white"
          },
          "hoverlabel": {
           "align": "left"
          },
          "hovermode": "closest",
          "mapbox": {
           "style": "light"
          },
          "paper_bgcolor": "white",
          "plot_bgcolor": "#E5ECF6",
          "polar": {
           "angularaxis": {
            "gridcolor": "white",
            "linecolor": "white",
            "ticks": ""
           },
           "bgcolor": "#E5ECF6",
           "radialaxis": {
            "gridcolor": "white",
            "linecolor": "white",
            "ticks": ""
           }
          },
          "scene": {
           "xaxis": {
            "backgroundcolor": "#E5ECF6",
            "gridcolor": "white",
            "gridwidth": 2,
            "linecolor": "white",
            "showbackground": true,
            "ticks": "",
            "zerolinecolor": "white"
           },
           "yaxis": {
            "backgroundcolor": "#E5ECF6",
            "gridcolor": "white",
            "gridwidth": 2,
            "linecolor": "white",
            "showbackground": true,
            "ticks": "",
            "zerolinecolor": "white"
           },
           "zaxis": {
            "backgroundcolor": "#E5ECF6",
            "gridcolor": "white",
            "gridwidth": 2,
            "linecolor": "white",
            "showbackground": true,
            "ticks": "",
            "zerolinecolor": "white"
           }
          },
          "shapedefaults": {
           "line": {
            "color": "#2a3f5f"
           }
          },
          "ternary": {
           "aaxis": {
            "gridcolor": "white",
            "linecolor": "white",
            "ticks": ""
           },
           "baxis": {
            "gridcolor": "white",
            "linecolor": "white",
            "ticks": ""
           },
           "bgcolor": "#E5ECF6",
           "caxis": {
            "gridcolor": "white",
            "linecolor": "white",
            "ticks": ""
           }
          },
          "title": {
           "x": 0.05
          },
          "xaxis": {
           "automargin": true,
           "gridcolor": "white",
           "linecolor": "white",
           "ticks": "",
           "title": {
            "standoff": 15
           },
           "zerolinecolor": "white",
           "zerolinewidth": 2
          },
          "yaxis": {
           "automargin": true,
           "gridcolor": "white",
           "linecolor": "white",
           "ticks": "",
           "title": {
            "standoff": 15
           },
           "zerolinecolor": "white",
           "zerolinewidth": 2
          }
         }
        },
        "width": 800
       }
      },
      "text/html": [
       "<div>                            <div id=\"8733fabb-e4fc-47cf-9448-88b9a1afbd1e\" class=\"plotly-graph-div\" style=\"height:525px; width:800px;\"></div>            <script type=\"text/javascript\">                require([\"plotly\"], function(Plotly) {                    window.PLOTLYENV=window.PLOTLYENV || {};                                    if (document.getElementById(\"8733fabb-e4fc-47cf-9448-88b9a1afbd1e\")) {                    Plotly.newPlot(                        \"8733fabb-e4fc-47cf-9448-88b9a1afbd1e\",                        [{\"customdata\":[[53],[53],[67],[47],[53],[65],[47],[53],[69],[65],[53],[53],[53],[53],[47],[53],[53],[53],[46],[53],[53],[53],[53],[53],[65],[47],[53],[53],[53],[53],[53],[53],[53],[53],[53],[53],[65],[53],[65],[47],[53],[53],[53],[51],[53],[53],[47],[67],[53],[47],[53],[67],[36],[53],[53],[53],[53],[53],[53],[65],[65],[47],[47],[65],[47],[47],[47],[65],[53],[53],[53],[53],[53],[65],[47],[67],[53],[53],[47],[53],[53],[67],[53],[53],[53],[67],[53],[59],[65],[45],[53],[53],[53],[53],[47],[53],[65],[51],[65],[47],[44],[65],[65],[53],[53],[67],[47],[69],[65],[47],[53],[47],[65],[53],[47],[47],[35],[53],[65],[53],[66],[65],[47],[53],[65],[65],[47],[47],[35],[65],[53],[53],[53],[53],[67],[65],[65],[18],[65],[53],[47],[47],[65],[53],[53],[53],[47],[53],[53],[49],[53],[65],[67],[68],[49],[65],[53],[65],[67],[65],[53],[53],[65],[65],[47],[53],[65],[53],[53],[65],[53],[53],[53],[45],[53],[53],[47],[65],[53],[65],[53],[53],[53],[67],[65],[53],[53],[65],[65],[53],[65],[65],[53],[53],[53],[65],[53],[47],[53],[69],[53],[35],[65],[35],[56],[53],[67],[53],[65],[65],[53],[67],[61],[53],[65],[56],[47],[65],[64],[53],[53],[53],[53],[53],[53],[53],[53],[65],[36],[65],[53],[53],[47],[35],[38],[53],[46],[53],[53],[65],[65],[35],[67],[53],[65],[53],[53],[53],[65],[65],[53],[53],[53],[65],[65],[47],[53],[57],[53],[53],[67],[48],[53],[53],[65],[65],[71],[63],[53],[35],[53],[53],[53],[65],[46],[70],[53],[71],[62],[53],[49],[53],[69],[70],[65],[70],[46],[31],[53],[53],[71],[65],[65],[47],[65],[65],[53],[50],[70],[71],[47],[71],[65],[46],[53],[53],[46],[53],[45],[65],[53],[71],[49],[65],[47],[67],[47],[65],[53],[53],[65],[53],[53],[53],[65],[53],[53],[47],[65],[47],[53],[53],[53],[65],[53],[53],[53],[65],[47],[53],[36],[67],[53]],\"hovertemplate\":\"<b>%{hovertext}</b><br><br>Class=%{marker.color}<br>PC_1=%{y}<br>PC_3=%{z}<br>Algorithm=%{customdata[0]}<extra></extra>\",\"hovertext\":[\"42 Coin\",\"404Coin\",\"EliteCoin\",\"Bitcoin\",\"Litecoin\",\"Dash\",\"BitcoinDark\",\"ProsperCoin\",\"KoboCoin\",\"Spreadcoin\",\"Argentum\",\"Aurora Coin\",\"BlueCoin\",\"MoonCoin\",\"ZetaCoin\",\"SexCoin\",\"Quatloo\",\"EnergyCoin\",\"QuarkCoin\",\"Digitalcoin \",\"BitBar\",\"Catcoin\",\"CryptoBullion\",\"CannaCoin\",\"CryptCoin\",\"DevCoin\",\"EarthCoin\",\"E-Gulden\",\"Einsteinium\",\"Emerald\",\"FlutterCoin\",\"Franko\",\"GrandCoin\",\"GlobalCoin\",\"GoldCoin\",\"HoboNickels\",\"HyperStake\",\"Infinite Coin\",\"IOCoin\",\"IXcoin\",\"KrugerCoin\",\"LuckyCoin\",\"Litebar \",\"MaxCoin\",\"MegaCoin\",\"MinCoin\",\"MazaCoin\",\"NavCoin\",\"NobleCoin\",\"Namecoin\",\"NyanCoin\",\"OpalCoin\",\"Orbitcoin\",\"PotCoin\",\"PhoenixCoin\",\"Reddcoin\",\"RonPaulCoin\",\"StableCoin\",\"SmartCoin\",\"SuperCoin\",\"SyncCoin\",\"SysCoin\",\"TigerCoin\",\"TorCoin\",\"TerraCoin\",\"UnbreakableCoin\",\"Unobtanium\",\"UroCoin\",\"UnitaryStatus Dollar\",\"UltraCoin\",\"ViaCoin\",\"VeriCoin\",\"WorldCoin\",\"X11 Coin\",\"JouleCoin\",\"StealthCoin\",\"ZCC Coin\",\"MonaCoin\",\"Neutron\",\"Gulden\",\"PesetaCoin\",\"Kore\",\"Wild Beast Coin\",\"Flo\",\"8BIT Coin\",\"Sativa Coin\",\"ArtByte\",\"Folding Coin\",\"Ucoin\",\"CypherPunkCoin\",\"OmniCron\",\"Vtorrent\",\"GreenCoin\",\"MasterCoin\",\"SoonCoin\",\"1Credit\",\"IslaCoin\",\"Nexus\",\"MarsCoin \",\"Anarchists Prime\",\"Droidz\",\"BowsCoin\",\"Squall Coin\",\"Song Coin\",\"BitZeny\",\"Paycon\",\"Emercoin\",\"EverGreenCoin\",\"MindCoin\",\"I0coin\",\"Revolution VR\",\"EDRCoin\",\"Hitcoin\",\"Gamecredits\",\"DubaiCoin\",\"CarpeDiemCoin\",\"PWR Coin\",\"BillaryCoin\",\"Adzcoin\",\"YoCoin\",\"SibCoin\",\"EuropeCoin\",\"SwingCoin\",\"Francs\",\"BolivarCoin\",\"Ratecoin\",\"Revenu\",\"Clockcoin\",\"VIP Tokens\",\"BitSend\",\"Omni\",\"PutinCoin\",\"iBankCoin\",\"Frankywillcoin\",\"MudraCoin\",\"PizzaCoin\",\"Lutetium Coin\",\"Komodo\",\"GoldBlocks\",\"CarterCoin\",\"BitTokens\",\"ZayedCoin\",\"MustangCoin\",\"ZoneCoin\",\"RootCoin\",\"DopeCoin\",\"DollarCoin\",\"Swiscoin\",\"Shilling\",\"BuzzCoin\",\"PesoBit\",\"Halloween Coin\",\"RoyalCoin\",\"GanjaCoin V2\",\"LanaCoin\",\"InsaneCoin\",\"KiloCoin\",\"ArtexCoin\",\"EmberCoin\",\"XenixCoin\",\"PLNCoin\",\"AquariusCoin\",\"Kurrent\",\"Eternity\",\"Eurocoin\",\"BitcoinFast\",\"Stakenet\",\"BitConnect Coin\",\"MoneyCoin\",\"Enigma\",\"Russiacoin\",\"GameUnits\",\"GAKHcoin\",\"LiteCreed\",\"OsmiumCoin\",\"Klingon Empire Darsek\",\"Internet of People\",\"KushCoin\",\"Printerium\",\"PacCoin\",\"Impeach\",\"FirstCoin\",\"BeaverCoin\",\"FindCoin\",\"VaultCoin\",\"OpenChat\",\"Canada eCoin\",\"VirtacoinPlus\",\"Impact\",\"EB3coin\",\"HappyCoin\",\"Condensate\",\"Independent Money System\",\"ArgusCoin\",\"LomoCoin\",\"GoldReserve\",\"BenjiRolls\",\"ILCoin\",\"Degas Coin\",\"HTML5 Coin\",\"EquiTrader\",\"Denarius\",\"DigitalPrice\",\"Virta Unique Coin\",\"Bitcoin Planet\",\"Unify\",\"BritCoin\",\"SocialCoin\",\"ArcticCoin\",\"DAS\",\"Linda\",\"DeepOnion\",\"Bitcore\",\"gCn Coin\",\"Onix\",\"Cream\",\"Bitcoin Cash\",\"Monoeci\",\"Vechain\",\"Sojourn Coin\",\"NewYorkCoin\",\"FrazCoin\",\"Kronecoin\",\"AdCoin\",\"Linx\",\"CoinonatX\",\"Ethereum Dark\",\"Regalcoin\",\"TrezarCoin\",\"Elements\",\"TerraNovaCoin\",\"WomenCoin\",\"Theresa May Coin\",\"NamoCoin\",\"LUXCoin\",\"Xios\",\"Bitcloud 2.0\",\"eBoost\",\"BlackholeCoin\",\"Pura\",\"Magnet\",\"Electra\",\"Bitcoin Diamond\",\"Cash & Back Coin\",\"AC3\",\"GermanCoin\",\"LiteCoin Ultra\",\"PopularCoin\",\"PhantomX\",\"Sucre\",\"IrishCoin\",\"Trollcoin\",\"Litecoin Plus\",\"Monkey Project\",\"Pioneer Coin\",\"UnitedBitcoin\",\"My Big Coin\",\"MUNcoin\",\"Unified Society USDEX\",\"ShareChain\",\"Tokyo Coin\",\"LitecoinCash\",\"BitFlip\",\"LottoCoin\",\"Crypto Improvement Fund\",\"Pushi\",\"Ellerium\",\"Ontology\",\"Poseidon\",\"Bitspace\",\"Briacoin\",\"Ignition\",\"Abjcoin\",\"FuturoCoin\",\"Carebit\",\"Proton\",\"iDealCash\",\"Bitcoin Incognito\",\"KEYCO\",\"Swisscoin\",\"TheVig\",\"EmaratCoin\",\"Dekado\",\"Motion\",\"Axe\",\"Trivechain\",\"Giant\",\"Absolute Coin\",\"HexCoin\",\"TPCash\",\"Urals Coin\",\"ARENON\",\"EUNO\",\"Project Pai\",\"PAXEX\",\"Azart\",\"ThunderStake\",\"Kcash\",\"Xchange\",\"Bettex coin\",\"Bitcoin SV\",\"BitMoney\",\"Junson Ming Chan Coin\",\"HerbCoin\",\"Block-Logic\",\"Oduwa\",\"Galilel\",\"Credit\",\"SLICE\",\"Dash Platinum\",\"Nasdacoin\",\"Beetle Coin\",\"Titan Coin\",\"Award\",\"BLAST\",\"Bitcoin Rhodium\",\"GlobalToken\",\"Insane Coin\",\"LiteDoge\",\"SolarCoin\",\"TruckCoin\",\"OrangeCoin\",\"BitstarCoin\",\"HyperCoin\",\"PinkCoin\",\"Crypto Escudo\",\"AudioCoin\",\"IncaKoin\",\"Piggy Coin\",\"Crown Coin\",\"Genstake\",\"SmileyCoin\",\"XiaoMiCoin\",\"CapriCoin\",\" ClubCoin\",\"Bata\",\"Pakcoin\",\"Creditbit \",\"OKCash\",\"WhiteCoin\",\"FriendshipCoin\",\"Triangles Coin\",\"Gapcoin\"],\"legendgroup\":\"0\",\"marker\":{\"color\":[0,0,0,0,0,0,0,0,0,0,0,0,0,0,0,0,0,0,0,0,0,0,0,0,0,0,0,0,0,0,0,0,0,0,0,0,0,0,0,0,0,0,0,0,0,0,0,0,0,0,0,0,0,0,0,0,0,0,0,0,0,0,0,0,0,0,0,0,0,0,0,0,0,0,0,0,0,0,0,0,0,0,0,0,0,0,0,0,0,0,0,0,0,0,0,0,0,0,0,0,0,0,0,0,0,0,0,0,0,0,0,0,0,0,0,0,0,0,0,0,0,0,0,0,0,0,0,0,0,0,0,0,0,0,0,0,0,0,0,0,0,0,0,0,0,0,0,0,0,0,0,0,0,0,0,0,0,0,0,0,0,0,0,0,0,0,0,0,0,0,0,0,0,0,0,0,0,0,0,0,0,0,0,0,0,0,0,0,0,0,0,0,0,0,0,0,0,0,0,0,0,0,0,0,0,0,0,0,0,0,0,0,0,0,0,0,0,0,0,0,0,0,0,0,0,0,0,0,0,0,0,0,0,0,0,0,0,0,0,0,0,0,0,0,0,0,0,0,0,0,0,0,0,0,0,0,0,0,0,0,0,0,0,0,0,0,0,0,0,0,0,0,0,0,0,0,0,0,0,0,0,0,0,0,0,0,0,0,0,0,0,0,0,0,0,0,0,0,0,0,0,0,0,0,0,0,0,0,0,0,0,0,0,0,0,0,0,0,0,0,0,0,0,0,0,0,0,0,0,0,0,0,0,0,0,0,0,0,0,0,0,0,0],\"coloraxis\":\"coloraxis\",\"symbol\":\"circle\"},\"mode\":\"markers\",\"name\":\"0\",\"scene\":\"scene\",\"showlegend\":true,\"type\":\"scatter3d\",\"x\":[-0.412665425453561,-0.3913055807210613,3.1431523167574036,-0.19030134717362862,-0.219678660062347,-0.47370285277092905,-0.38172438302719136,-0.2211838824361659,-0.49059402039535016,-0.28250967235079,-0.220650611645425,-0.41222103076938743,-0.4030499948813682,3.6708182296812635,-0.18648881870234676,-0.2169988051379925,-0.22035906975890918,-0.4108032020204881,-0.17923772120323628,-0.220489740503311,-0.41265971408708424,-0.22116191566865356,-0.41263956607542357,-0.22127966029038207,-0.28262305004723703,0.30616663017038687,0.10509898951177332,-0.2209547464390166,-0.2151332356649898,-0.22086464063075753,-0.08704121317342113,-0.22135284990493664,-0.19370557601678629,-0.21978071632179175,-0.22012134184536697,-0.4100982671179491,0.061154429117700124,2.0677790811280103,-0.4735724180124033,-0.19025349617542014,-0.21650191841890923,-0.22098885463841014,-0.22145363541814,-0.40048914129826696,-0.22048098211040823,-0.22129483750537493,-0.3330243100838977,-0.4832953110042902,-0.03363692402975843,-0.19034963097105945,-0.2130032060589663,-0.4840660106433919,-0.32559927095264224,-0.4050386000360289,-0.41055290384855114,0.030946832814492883,-0.22125446184031602,-0.21858354797893173,-0.22057776456597616,0.03652186631454133,-0.4740624856565771,-0.17325995470258124,-0.18965015177232622,-0.4739394843518668,-0.19001270093956854,-0.1899401170518272,-0.19077991271797898,-0.2828628482719456,-0.3798178087883069,-0.41089163133140305,-0.2209005714012049,-0.1572723452431696,-0.2169837419049753,-0.47390158234953794,-0.18973623576666115,-0.4837945769293532,-0.40028978851155933,-0.21938656984778715,-0.3806856194986777,-0.19817480882171704,-0.21771654834773432,-0.4841431224397687,-0.22145463977080745,-0.21755803101310411,-0.4126432146893428,-0.4840866079193192,-0.1993549071739739,-0.23115992918260872,0.03599796938767934,-0.18045631771255716,-0.2212964157148559,-0.4122870961844853,-0.05035688736526361,-0.22146837728425392,-0.1903840385155971,0.7110480538271575,-0.4740396077648639,-0.5918600699058497,-0.28205903606724775,-0.1900174055056407,-0.36643666779190975,-0.28242820086995724,-0.09169474016270049,-0.21886020686112484,-0.21780575754504916,-0.48343986342756906,-0.37117908499433955,-0.49405689883382836,-0.2824788235160666,-0.19025488641306038,-0.21617764260979597,-0.3816883555711812,-0.038546604986273096,-0.21957580791762704,-0.38178283899917975,0.3573988958417134,-0.1681957684755396,-0.4121035341801419,-0.28134705312139446,-0.21976795633720791,-0.2874930382495203,-0.4700127253086684,-0.381495199461366,-0.2211818749963994,-0.2824210947531482,-0.47126617119526093,-0.3796912059240289,-0.3763932290129992,-0.3183947401461753,-0.4722845386604946,-0.22146845384785163,-0.38008905333791454,-0.41214756107711836,-0.410138575103869,0.027624596705129328,-0.2826068614988985,0.052355956011920286,-0.803353729756353,-0.47332018605767784,-0.4110999744322007,-0.3817450124743262,-0.1905923172239046,-0.47402215343486076,-0.41241349506380415,-0.4126360715125254,-0.2176886515645914,-0.1905398494497412,-0.4986314450173682,-0.22101168527405535,0.10678149716198337,-0.4121581467269935,-0.45485301134128076,0.025584868812291675,-0.4868849339647052,-0.2997417642939315,-0.4734808583512493,-0.11715155076958257,-0.2653439920660615,0.9194108136180096,-0.4739651457614743,-0.4120161720901357,-0.4122026381896933,-0.27964147180281296,-0.4733624960893372,-0.38157626774640685,-0.41202459294180155,-0.9182331609573517,-0.4122139358789895,-0.40590504548351564,-0.47399950473014074,-0.4110790365937678,-0.4124811016089916,-0.41258164145370985,-0.37047752977565196,-0.22144298933791443,-0.4072346731693934,-0.381715797287366,-0.4738820643419371,-0.4122838123823539,0.7388650416411314,-0.41243844232129667,-0.4736130219434398,-0.22140283187731888,0.025888715808353727,-0.27228511044199893,-0.38739691240511936,-0.21895954875582196,-0.47284971041987756,-0.4712734378268715,-0.17996929402719022,-0.4727232259006374,-0.4671533323355358,-0.41236917175804605,-0.41235815429107703,-0.4025216565604088,-0.4733972227706559,-0.22081716433523518,-0.14550441344949736,-0.4112779176712215,1.032995040193792,-0.2205473136701518,-0.3204053111969976,-0.2813357634078879,-0.3184009924154413,-0.4268981121898322,-0.22101423986577984,-0.4836694399697881,-0.22064561491297716,-0.2818788642946315,-0.2826498530848392,0.23101546521870758,-0.48377215045225025,-0.2619331783377845,4.2731570623524116,-0.26987795411671806,-0.4262848383844398,-0.1903003119019618,-0.4737759439860121,0.9305134405138255,-0.11504654827161157,1.9425372724216405,-0.2211344619220424,-0.22036847390163228,-0.2199763897278423,-0.21996020125888766,-0.41188065530016427,-0.4125592987555804,-0.47367893917962106,-0.3188679973427796,-0.22373550011738144,-0.41248868829036833,0.5740434431214608,-0.3795603213206543,-0.29992373472904305,-0.3351852098565711,-0.41242003648916975,-0.37435848157386975,-0.2189573304623689,-0.41226792642726895,-0.2766820255820605,-0.47202486726596,0.41326107159686304,-0.47938946483661604,-0.4088574856592745,-0.2760908358046222,0.16846710961556505,-0.4110175909363997,-0.1108154881556157,-0.47287211318763567,-0.2826164256730599,-0.22014704991320846,-0.39459930347222405,-0.41258698303687796,0.03603409442649818,-0.2825196916684104,-0.19027592217296643,-0.3484919746523411,-0.24170855268522246,-0.4067600606643441,0.031201110524380973,0.037115612230405146,-0.24145443219414925,-0.22089024417346964,0.18437539534628988,-0.27461559432821425,-0.47377630427615147,-0.5041465403147323,0.06597243724784797,-0.22120957857978013,-0.3198543435971311,-0.4126222214496397,-0.4125968567822483,-0.4122118255729499,-0.28138626770257474,-0.37270863534959986,0.010695191460666935,-0.3395001376384246,-0.12202038769861524,-0.2673373572701129,-0.15492658259567832,-0.39068313992844483,-0.4114871374852724,0.016659374744505143,-0.30811651037653526,-0.2825927012918196,-0.49824919230929426,-0.3767086719046301,-0.2993701961742134,-0.22123852973691283,-0.4024474506993395,-0.3112279150434542,0.0366036256547356,-0.47309006518667446,-0.13772160739808723,0.03683632821694528,-0.2825518106931055,-0.2141742040678958,-0.8818646964782954,-0.3073020200754613,0.005665518008851032,-0.19030035843381582,-0.046979992356852254,0.2961804485179551,-0.375768749088876,-0.21973374682743185,-0.4122289477719973,-0.3763811144630266,0.8119868269313197,-0.17934342172877984,0.0359650550374376,-0.4115030689550865,-0.496682561515115,-0.32795469647782355,-0.4695719642337106,-0.18934544342217385,-0.2930749702523754,-0.1878022131046959,-0.4733986422800295,0.17391185938043607,0.7737183901145611,-0.4703918069699846,-0.4105846605035712,-0.4118041049679626,-0.41251968420788376,-0.46239137325299695,-0.19954143635363109,-0.29139453766236173,-0.10857151797859489,-0.4564473066778477,-0.19001192112492862,-0.4116054448392254,0.7330002660463495,-0.4024927026235511,-0.46890707572517365,-0.40947559552184654,-0.22135689270980163,-0.21858475467785632,-0.8560022627759823,-0.3797725601840136,-0.4058111389777374,-0.32505938921238603,-0.4842920148145171,-0.40990543434135],\"y\":[-0.412665425453561,-0.3913055807210613,3.1431523167574036,-0.19030134717362862,-0.219678660062347,-0.47370285277092905,-0.38172438302719136,-0.2211838824361659,-0.49059402039535016,-0.28250967235079,-0.220650611645425,-0.41222103076938743,-0.4030499948813682,3.6708182296812635,-0.18648881870234676,-0.2169988051379925,-0.22035906975890918,-0.4108032020204881,-0.17923772120323628,-0.220489740503311,-0.41265971408708424,-0.22116191566865356,-0.41263956607542357,-0.22127966029038207,-0.28262305004723703,0.30616663017038687,0.10509898951177332,-0.2209547464390166,-0.2151332356649898,-0.22086464063075753,-0.08704121317342113,-0.22135284990493664,-0.19370557601678629,-0.21978071632179175,-0.22012134184536697,-0.4100982671179491,0.061154429117700124,2.0677790811280103,-0.4735724180124033,-0.19025349617542014,-0.21650191841890923,-0.22098885463841014,-0.22145363541814,-0.40048914129826696,-0.22048098211040823,-0.22129483750537493,-0.3330243100838977,-0.4832953110042902,-0.03363692402975843,-0.19034963097105945,-0.2130032060589663,-0.4840660106433919,-0.32559927095264224,-0.4050386000360289,-0.41055290384855114,0.030946832814492883,-0.22125446184031602,-0.21858354797893173,-0.22057776456597616,0.03652186631454133,-0.4740624856565771,-0.17325995470258124,-0.18965015177232622,-0.4739394843518668,-0.19001270093956854,-0.1899401170518272,-0.19077991271797898,-0.2828628482719456,-0.3798178087883069,-0.41089163133140305,-0.2209005714012049,-0.1572723452431696,-0.2169837419049753,-0.47390158234953794,-0.18973623576666115,-0.4837945769293532,-0.40028978851155933,-0.21938656984778715,-0.3806856194986777,-0.19817480882171704,-0.21771654834773432,-0.4841431224397687,-0.22145463977080745,-0.21755803101310411,-0.4126432146893428,-0.4840866079193192,-0.1993549071739739,-0.23115992918260872,0.03599796938767934,-0.18045631771255716,-0.2212964157148559,-0.4122870961844853,-0.05035688736526361,-0.22146837728425392,-0.1903840385155971,0.7110480538271575,-0.4740396077648639,-0.5918600699058497,-0.28205903606724775,-0.1900174055056407,-0.36643666779190975,-0.28242820086995724,-0.09169474016270049,-0.21886020686112484,-0.21780575754504916,-0.48343986342756906,-0.37117908499433955,-0.49405689883382836,-0.2824788235160666,-0.19025488641306038,-0.21617764260979597,-0.3816883555711812,-0.038546604986273096,-0.21957580791762704,-0.38178283899917975,0.3573988958417134,-0.1681957684755396,-0.4121035341801419,-0.28134705312139446,-0.21976795633720791,-0.2874930382495203,-0.4700127253086684,-0.381495199461366,-0.2211818749963994,-0.2824210947531482,-0.47126617119526093,-0.3796912059240289,-0.3763932290129992,-0.3183947401461753,-0.4722845386604946,-0.22146845384785163,-0.38008905333791454,-0.41214756107711836,-0.410138575103869,0.027624596705129328,-0.2826068614988985,0.052355956011920286,-0.803353729756353,-0.47332018605767784,-0.4110999744322007,-0.3817450124743262,-0.1905923172239046,-0.47402215343486076,-0.41241349506380415,-0.4126360715125254,-0.2176886515645914,-0.1905398494497412,-0.4986314450173682,-0.22101168527405535,0.10678149716198337,-0.4121581467269935,-0.45485301134128076,0.025584868812291675,-0.4868849339647052,-0.2997417642939315,-0.4734808583512493,-0.11715155076958257,-0.2653439920660615,0.9194108136180096,-0.4739651457614743,-0.4120161720901357,-0.4122026381896933,-0.27964147180281296,-0.4733624960893372,-0.38157626774640685,-0.41202459294180155,-0.9182331609573517,-0.4122139358789895,-0.40590504548351564,-0.47399950473014074,-0.4110790365937678,-0.4124811016089916,-0.41258164145370985,-0.37047752977565196,-0.22144298933791443,-0.4072346731693934,-0.381715797287366,-0.4738820643419371,-0.4122838123823539,0.7388650416411314,-0.41243844232129667,-0.4736130219434398,-0.22140283187731888,0.025888715808353727,-0.27228511044199893,-0.38739691240511936,-0.21895954875582196,-0.47284971041987756,-0.4712734378268715,-0.17996929402719022,-0.4727232259006374,-0.4671533323355358,-0.41236917175804605,-0.41235815429107703,-0.4025216565604088,-0.4733972227706559,-0.22081716433523518,-0.14550441344949736,-0.4112779176712215,1.032995040193792,-0.2205473136701518,-0.3204053111969976,-0.2813357634078879,-0.3184009924154413,-0.4268981121898322,-0.22101423986577984,-0.4836694399697881,-0.22064561491297716,-0.2818788642946315,-0.2826498530848392,0.23101546521870758,-0.48377215045225025,-0.2619331783377845,4.2731570623524116,-0.26987795411671806,-0.4262848383844398,-0.1903003119019618,-0.4737759439860121,0.9305134405138255,-0.11504654827161157,1.9425372724216405,-0.2211344619220424,-0.22036847390163228,-0.2199763897278423,-0.21996020125888766,-0.41188065530016427,-0.4125592987555804,-0.47367893917962106,-0.3188679973427796,-0.22373550011738144,-0.41248868829036833,0.5740434431214608,-0.3795603213206543,-0.29992373472904305,-0.3351852098565711,-0.41242003648916975,-0.37435848157386975,-0.2189573304623689,-0.41226792642726895,-0.2766820255820605,-0.47202486726596,0.41326107159686304,-0.47938946483661604,-0.4088574856592745,-0.2760908358046222,0.16846710961556505,-0.4110175909363997,-0.1108154881556157,-0.47287211318763567,-0.2826164256730599,-0.22014704991320846,-0.39459930347222405,-0.41258698303687796,0.03603409442649818,-0.2825196916684104,-0.19027592217296643,-0.3484919746523411,-0.24170855268522246,-0.4067600606643441,0.031201110524380973,0.037115612230405146,-0.24145443219414925,-0.22089024417346964,0.18437539534628988,-0.27461559432821425,-0.47377630427615147,-0.5041465403147323,0.06597243724784797,-0.22120957857978013,-0.3198543435971311,-0.4126222214496397,-0.4125968567822483,-0.4122118255729499,-0.28138626770257474,-0.37270863534959986,0.010695191460666935,-0.3395001376384246,-0.12202038769861524,-0.2673373572701129,-0.15492658259567832,-0.39068313992844483,-0.4114871374852724,0.016659374744505143,-0.30811651037653526,-0.2825927012918196,-0.49824919230929426,-0.3767086719046301,-0.2993701961742134,-0.22123852973691283,-0.4024474506993395,-0.3112279150434542,0.0366036256547356,-0.47309006518667446,-0.13772160739808723,0.03683632821694528,-0.2825518106931055,-0.2141742040678958,-0.8818646964782954,-0.3073020200754613,0.005665518008851032,-0.19030035843381582,-0.046979992356852254,0.2961804485179551,-0.375768749088876,-0.21973374682743185,-0.4122289477719973,-0.3763811144630266,0.8119868269313197,-0.17934342172877984,0.0359650550374376,-0.4115030689550865,-0.496682561515115,-0.32795469647782355,-0.4695719642337106,-0.18934544342217385,-0.2930749702523754,-0.1878022131046959,-0.4733986422800295,0.17391185938043607,0.7737183901145611,-0.4703918069699846,-0.4105846605035712,-0.4118041049679626,-0.41251968420788376,-0.46239137325299695,-0.19954143635363109,-0.29139453766236173,-0.10857151797859489,-0.4564473066778477,-0.19001192112492862,-0.4116054448392254,0.7330002660463495,-0.4024927026235511,-0.46890707572517365,-0.40947559552184654,-0.22135689270980163,-0.21858475467785632,-0.8560022627759823,-0.3797725601840136,-0.4058111389777374,-0.32505938921238603,-0.4842920148145171,-0.40990543434135],\"z\":[0.35722699423776105,0.35833556490574514,0.48727300119108574,-0.0436878060687377,-0.28004407959548183,-0.11570799958504942,0.5937659899207655,-0.2801784602663431,-0.27265626378106445,-0.7531633047083461,-0.2800852434135052,0.3572626294462106,0.3571978675700626,0.5548594573286153,-0.043371200963473654,-0.279686100838798,-0.28000673212929766,0.3572213531922713,-0.00379219865820307,-0.280120651023388,0.3572280795446664,-0.28017852680696215,0.3572291212134429,-0.2801955045866925,-0.7531673720708236,0.0010754096210556312,-0.2514402301697994,-0.2801791543534953,-0.2795819396292157,-0.28015516789496353,-0.7052122729334485,-0.28019948237885983,-0.27717499680149904,-0.28007464605498883,-0.28006866158212596,0.3574838658662429,-1.8157013253096823,-0.08734912386835689,-0.11570839469141077,-0.04368795101655687,-0.2796535969470728,-0.28018125643489145,-0.2802209792587095,0.436272051054229,-0.28013427605165836,-0.2802023835693499,0.598905255548001,-0.1945888620711142,-0.24771187803204825,-0.04368765980990508,-0.2795063342854523,-0.19458652750681893,1.0272934778114595,0.35813015944674065,0.3574367242238299,0.3558832263703444,-0.28017824647078826,-0.27968130041608363,-0.2801136932010735,-1.8156267095985785,-0.11575542680289556,-0.041827344995817466,-0.0436324118367584,-0.11573374759536052,-0.04364236701654882,-0.04355878167541503,-0.043732118476918776,-0.7532063428902509,0.3606561341699178,0.35744216108040855,-0.2801749076573237,-0.4927089518039709,-0.279652137431783,-0.11574378670720019,-0.04363658827016554,-0.1945873497200718,0.35939490671827967,-0.2799983863275971,0.5938642917612922,-0.2765893992121688,-0.27986832902188963,-0.1945598291209667,-0.28021815771488706,-0.27988289288040746,0.35722692686541396,-0.19456441111233969,-0.2780854966713705,-0.5145733565188673,-1.8155810146320432,0.035097459131665856,-0.28021699764359265,0.3572699561337936,-0.2586882318937771,-0.2802225456967791,-0.043687555584314613,-0.08015182267070076,-0.11575549830884616,1.073674964997917,-0.7531359995500108,-0.04361641725906386,0.7119744226728856,-0.753161346097402,-1.390657161265323,-0.2797681490879817,-0.27968365645945514,-0.1944781541889635,0.5958909280588285,-0.2733596666689555,-0.7531722197549751,-0.04368794680531944,-0.27977680427173957,0.5937658807882213,-0.05852129565950214,-0.2800443911499871,0.5937408048900407,0.002301417491058066,1.0662390650733506,0.3573179189020319,-0.7530256808411739,-0.2798577807276902,-0.7925700880827382,-0.11492082265055022,0.5938049928935796,-0.28018067174740335,-0.753152546021989,-0.11559849444545998,0.5942025100839683,0.594859157372579,1.0668925262080065,-0.11545426404390378,-0.28022255214721925,0.36153911590036036,0.35732319819920166,0.3574398799606416,-1.8940200790647381,-0.7531519833067757,-1.8142257254726235,3.6495412640077385,-0.11564740753335337,0.3574207381805178,0.5937638470102161,-0.04371176630514488,-0.11574893497994149,0.3572725444150996,0.35722690522766476,-0.2797942812022318,-0.043709935309655154,0.7889052998403863,-0.2801591332752318,0.5574843176965694,0.3572254575221209,-0.1125055170363043,-1.8944494666954237,-0.23378814887934649,0.53116146694423,-0.11569102883749297,-0.2584859008838967,-0.7521567100090388,-0.1969632781966486,-0.11574722573763056,0.35731002358443537,0.35731821910287587,-0.7527132696692111,-0.11562522536769435,0.593761130457011,0.35729783117520314,1.3717928072122239,0.357287377722107,0.3586414812870972,-0.11574459278579917,0.357539766368855,0.35725510600361665,0.35723405299269684,0.6727186665552051,-0.28021800271062425,0.35831324369823997,0.5937637585130519,-0.11573534621769055,0.3572699461866667,-0.5357612866939492,0.3572746783568765,0.5699447880838378,-0.28021670029576784,-1.8944238677566463,-0.7510329842122168,0.3593558522712636,-0.28001097148740606,-0.11553856266304181,-0.11552128342585544,-0.2715280179119646,-0.11553894580353859,-0.11467365775270079,0.3572728779648887,0.35728913782134875,0.3594016673798839,-0.11566922817990102,-0.2801475478167985,-0.03835631551150743,0.35745435820054333,-0.07955731234737307,-0.28006791311669393,1.066722184509918,-0.7529904286357944,1.0669587071538287,0.23919854609687397,-0.28018277448469003,-0.19452156677184432,-0.28006099914687355,-0.7530769995111268,-0.7531653060202173,0.46554719988119525,-0.1945457395859779,-0.595500627242104,0.14724124156684315,-0.7508197358256367,0.23919668839893735,-0.043687809204730185,-0.11573532964819779,1.1721095674196915,-0.25738957713805644,-0.28677900815703067,-0.28018081536868583,-0.2800419900463529,-0.2800078913242573,-0.2800079403615471,0.3573310319308316,0.3572359353524664,-0.11569704502176098,1.028146933509863,-0.7494157280513963,0.35726115707802186,0.40937311127455517,0.593931455872286,1.0692845690246235,0.9485851240370127,0.35727256423005366,0.6335669390802189,-0.2800109782069482,0.3572584041284315,-0.752453175446237,-0.11544402362620702,1.1306397522407388,-0.1941375594150617,0.3576785933742132,-0.7520138862032567,0.46573666819064596,0.35755281264213606,-0.2695320948933819,-0.11564876481298744,-0.7531634224166365,-0.2800867687771889,0.35915712936678773,0.35723557813224355,-1.8155789186599554,-0.7531566581576602,-0.04368972238864949,0.14480818464357695,-0.4378487930752714,0.3577207587656565,-0.25893528324841836,-1.8927255886327596,0.13113324725722003,-0.2801374471362054,-0.24085851579577566,-0.7521286249412606,-0.115701160888795,-0.35211617790935895,-1.734649118880757,-0.2801783824288868,1.066808731555802,0.35723347947443246,0.35723781344151817,0.35729178213012597,-0.7529902756507437,0.6335619414496346,-2.0126027354074387,0.36830131793813775,-1.6271031889542766,-0.6349215737125561,0.37894134700206594,0.5151037478812844,0.3574086785538675,-1.9730908584643214,-0.9502346616966859,-0.7531608478010595,-0.31265361732502134,0.6331443381291472,1.2244749968539934,-0.28017585718423926,0.3594014425992495,-0.9892414888284949,-1.8155056602474269,-0.11564810460383566,-0.03926205088343822,-1.8154071221280899,-0.7531521500638869,0.3963229386537735,2.1774704143749988,-0.950065274640644,-2.052007173109112,-0.04368780906377824,0.649907010290597,-1.8164132542188172,0.6332492225581949,-0.27996451832132657,0.35727198539379446,0.6331739678886679,0.5184812764624737,0.035314628026091734,-1.8155815765496288,0.35740872681266855,-0.35116841131652055,0.5257201951637618,-0.11484276337354715,-0.043595869434249555,-0.8320321781768574,-0.0433711824858802,-0.1156912778822499,0.43263917184816597,-0.06688871910235862,-0.11576654804217887,0.3576617712424804,0.3573440415338408,0.35722655267313885,-0.11468808243786412,-0.27808493164663106,0.3800163488843328,0.5933090763405733,-0.11360338779040008,-0.04364236937872381,0.3572568643089505,-0.17284512867029236,0.3580783395387901,-0.11531232226793159,0.3575701957100147,-0.2802132225959965,-0.2798312639761459,1.1591814055283367,0.5939431257766242,0.35786785155549894,1.0274162229107484,-0.19458557825840855,0.35776998377628094]},{\"customdata\":[[20],[12],[20],[18],[50],[34],[47],[34],[23],[53],[23],[34],[41],[36],[25],[53],[53],[34],[38],[31],[34],[10],[10],[55],[9],[23],[53],[53],[34],[33],[30],[53],[20],[6],[3],[0],[53],[15],[53],[53],[41],[40],[10],[34],[53],[41],[32],[41],[41],[20],[18],[14],[41],[41],[10],[53],[46],[10],[30],[12],[53],[18],[30],[53],[16],[5],[41],[35],[41],[47],[53],[41],[47],[40],[12],[1],[2],[6],[8],[10],[10],[28],[58],[53],[41],[10],[50],[37],[18],[36],[31],[18],[15],[39],[47],[36],[20],[36],[14],[34],[10],[10],[20],[35],[46],[12],[3],[36],[46],[36],[7],[40],[20],[10],[10],[15],[31],[43],[7],[42],[53],[20],[10],[26],[18],[53],[32],[22],[41],[54],[41],[10],[35],[30],[53],[32],[10],[11],[10],[53],[27],[10],[53],[46],[47],[14],[24],[46],[53],[46],[12],[13],[11],[53],[41],[28],[17],[18],[32],[10],[4],[4],[18],[21],[18],[18],[46],[14],[36],[4],[47],[23],[41],[14],[53],[52],[34],[19],[14],[20],[14],[47],[29],[41],[41],[47],[10],[18],[53]],\"hovertemplate\":\"<b>%{hovertext}</b><br><br>Class=%{marker.color}<br>PC_1=%{y}<br>PC_3=%{z}<br>Algorithm=%{customdata[0]}<extra></extra>\",\"hovertext\":[\"Ethereum\",\"Monero\",\"Ethereum Classic\",\"ZCash\",\"Bitshares\",\"DigiByte\",\"PayCoin\",\"MyriadCoin\",\"Riecoin\",\"CasinoCoin\",\"Diamond\",\"Verge\",\"Exclusive Coin\",\"FeatherCoin\",\"MediterraneanCoin\",\"MintCoin\",\"Nautilus Coin\",\"TeslaCoin\",\"TittieCoin\",\"Vertcoin\",\"Crypti\",\"ByteCoin\",\"DigitalNote \",\"BurstCoin\",\"StorjCoin\",\"FairCoin\",\"RubyCoin\",\"Dnotes\",\"Unitus\",\"Cryptonite\",\"Crypto\",\"Diggits\",\"Expanse\",\"Siacoin\",\"Decred\",\"HOdlcoin\",\"GPU Coin\",\"SoilCoin\",\"ZeitCoin\",\"SafeExchangeCoin\",\"Nebuchadnezzar\",\"Let it Ride\",\"Karbo\",\"Circuits of Value\",\"BitCurrency\",\"Opair\",\"ZCoin\",\"CoffeeCoin\",\"TeamUP\",\"Elementrem\",\"ZClassic\",\"ARK\",\"FreeCoin\",\"Creatio\",\"Cannabis Industry Coin\",\"PandaCoin\",\"Allsafe\",\"Bikercoins\",\"HexxCoin\",\"Citadel\",\"Zilbercoin\",\"Zero\",\"Zoin\",\"RenosCoin\",\"DubaiCoin\",\"TajCoin\",\"Atmos\",\"Coinonat\",\"MacronCoin\",\"ProCurrency\",\"GrowthCoin\",\"Phreak\",\"Ultimate Secure Cash\",\"QTUM\",\"Quantum Resistant Ledger\",\"Espers\",\"Dynamic\",\"Nano\",\"ChanCoin\",\"Dinastycoin\",\"LeviarCoin\",\"SmartCash\",\"Signatum\",\"Draftcoin\",\"Stakecoin\",\"Sumokoin\",\"Obsidian\",\"Cardano\",\"BitcoinZ\",\"VIVO Coin\",\"Rupee\",\"Bitcoin Gold\",\"Pirl\",\"KekCoin\",\"Infinity Economics\",\"Innova\",\"Ellaism\",\"GoByte\",\"Lamden Tau\",\"SHIELD\",\"UltraNote\",\"BitCoal\",\"DaxxCoin\",\"Bulwark\",\"Kalkulus\",\"Lethean\",\"Photon\",\"SparksPay\",\"Digiwage\",\"GunCoin\",\"Interzone\",\"TokenPay\",\"1717 Masonic Commemorative Token\",\"TurtleCoin\",\"Niobio Cash\",\"Travelflex\",\"KREDS\",\"BiblePay\",\"Stipend\",\"Poa Network\",\"Velox\",\"Callisto Network\",\"BitTube\",\"Aidos Kuneen\",\"Bitrolium\",\"MedicCoin\",\"Alpenschillling\",\"Bitcoin Green\",\"Deviant Coin\",\"Semux\",\"Zealium\",\"Monero Classic\",\"Jumpcoin\",\"Infinex\",\"HollyWoodCoin\",\"GINcoin\",\"PlatinCoin\",\"Loki\",\"Newton Coin\",\"Xt3ch\",\"MassGrid\",\"PluraCoin\",\"Lynx\",\"Poseidon Quark\",\"BitcoinWSpectrum\",\"Muse\",\"PlusOneCoin\",\"Dystem\",\"Peony Coin\",\"Vitae\",\"Webchain\",\"Ryo\",\"Qwertycoin\",\"MMOCoin\",\"Ketan\",\"XDNA\",\"Acute Angle Cloud\",\"CrypticCoin\",\"Actinium\",\"FREDEnergy\",\"Universal Molecule\",\"Lithium\",\"PirateCash\",\"Exosis\",\"Beam\",\"Bithereum\",\"Crypto Sports\",\"ALAX\",\"UFO Coin\",\"BlakeCoin\",\"NeosCoin\",\"Groestlcoin\",\"Radium\",\"Lisk\",\"HiCoin\",\"Fiii\",\"JoinCoin\",\"Vollar\",\"EOS\",\"Reality Clash\",\"Oxycoin\",\"TigerCash\",\"Waves\",\"Particl\",\"Nxt\",\"ZEPHYR\",\"Beldex\",\"Horizen\",\"BitcoinPlus\"],\"legendgroup\":\"1\",\"marker\":{\"color\":[1,1,1,1,1,1,1,1,1,1,1,1,1,1,1,1,1,1,1,1,1,1,1,1,1,1,1,1,1,1,1,1,1,1,1,1,1,1,1,1,1,1,1,1,1,1,1,1,1,1,1,1,1,1,1,1,1,1,1,1,1,1,1,1,1,1,1,1,1,1,1,1,1,1,1,1,1,1,1,1,1,1,1,1,1,1,1,1,1,1,1,1,1,1,1,1,1,1,1,1,1,1,1,1,1,1,1,1,1,1,1,1,1,1,1,1,1,1,1,1,1,1,1,1,1,1,1,1,1,1,1,1,1,1,1,1,1,1,1,1,1,1,1,1,1,1,1,1,1,1,1,1,1,1,1,1,1,1,1,1,1,1,1,1,1,1,1,1,1,1,1,1,1,1,1,1,1,1,1,1,1,1,1,1,1,1,1,1,1],\"coloraxis\":\"coloraxis\",\"symbol\":\"diamond\"},\"mode\":\"markers\",\"name\":\"1\",\"scene\":\"scene\",\"showlegend\":true,\"type\":\"scatter3d\",\"x\":[-0.05101253000576696,-0.011450356650788722,-0.04879804407865413,-0.042084610252887275,0.19048330548241274,0.2611907512795886,0.12815839255208086,-0.07845238122329709,-0.06639008716622458,1.1716192848406393,-0.25907830768651824,0.28458347906613357,0.15863466347770258,-0.12794141391974076,-0.07558509253438313,0.41937791689923365,0.09756047388879723,0.19659183051035878,0.2217608048082219,-0.10729688645593757,0.19587691491860545,4.653678143255552,0.20439686306091812,0.19996347184914848,0.3281167517831622,-0.2583677632358757,0.09756299347474247,0.10486253042071302,-0.12328666132457668,-0.0897835965834394,-0.10293146921825332,0.09967848074147412,-0.052311856590004265,0.519841587696855,-0.15647452292577022,0.05069047100052994,0.10000477501881344,-0.026669550184999898,1.660096021879932,0.21514248214578618,0.15905408670136528,0.16458865613005405,-0.0012580683210795098,-0.09697622114620105,0.09971804821603587,0.1604190980382023,-0.11370768782597733,0.16120459254534245,0.16186935159060326,-0.05197986604702377,-0.042111386970558454,0.6819593272389178,0.15981214212465694,0.15905408670136528,-0.001250139964987144,0.9384004384088738,0.13327779805674508,-0.001082802384240341,-0.10367652786152665,-0.009669460851902404,0.09775334644088682,-0.04213213715162548,-0.1033127798823384,0.09804610788009485,-0.03211992329235097,-0.16651867720633903,0.16134838061069445,-0.12874612043037678,0.16867763114406717,0.8895869472343638,0.1218901183896621,0.159025162967098,0.13003478229854368,0.16619199175419877,-0.009601673858298462,0.705243974766303,0.03975297058067976,0.024453419857537326,0.009337676480142231,0.04617602406454354,-0.0007161460357283086,-0.008980767620476419,0.07459711513281285,0.09761047779788434,0.159233635459681,-0.00044142242474550484,0.11380554584208738,1.0274800599046714,0.2493139276536292,-0.13416810564722137,0.21031939999836133,-0.041936021485030735,-0.024961263032896783,0.16918101813445496,0.35526679971101,-0.1339522222948198,-0.049610870711322544,-0.13409423630561462,0.6884825320171516,-0.11029238508894974,1.1518780260796675,-0.0012830038945520535,0.05660229296689408,0.1897286566360479,0.13342590077092661,0.005097434109251416,1.4019217543041227,-0.1341732140298782,0.13459604848394127,-0.12490008630901925,0.01428492813000128,0.16422793855951184,0.26603450411403173,10.938854473739456,0.003954670301117885,-0.024422221849107983,-0.08803076055438606,0.4190213635007293,-0.17694362700449767,0.286539790846709,0.09879545197501027,0.016990232091830464,0.00986972952343263,-0.0827088717705895,-0.04061988574462315,0.10626456261336208,-0.11058454207285039,0.2561219837558896,0.15977174565430066,0.4754302477688231,0.15952720690481528,-0.0010489235322857083,-0.12885671177452201,-0.1034627610611407,0.09800089408125798,-0.11382697765949615,0.00460520134543843,-0.004783956489608293,2.4884651882466824,0.09771308182557181,-0.08469821407006722,0.017133796393144586,2.5267022119913425,0.13959623263257695,0.1297412650245842,0.2971507746569814,-0.07276405152654578,0.13328663003590555,0.2682665175180768,0.1349797649522586,0.0062634713728215675,-0.015859162497907447,3.369699849982002,0.101417758607898,0.16081846026665247,-0.28097427189349006,0.8164284605515737,0.09871297712148253,-0.1129813602672913,0.1086755785688807,0.030310142506462082,0.029716263467637227,0.2774946898745357,-0.05753945961424527,-0.03920536424558632,-0.04171553691934,0.13313139434979646,0.704323468362405,-0.036083688225490386,0.10052761049723118,0.12812949816937047,-0.06581784028581927,0.1586977665296972,0.6824919806898381,0.349930032763662,0.5094863234495273,-0.12419315982762974,-0.02472635814541574,0.6944981506614367,-0.05202326711906611,0.6960391912515836,0.15311868698455816,0.47738118284148356,0.15877670913999228,0.12009009854822485,0.5607499929072505,0.02754817238172446,-0.042085919481459864,0.09716370741823102],\"y\":[-0.05101253000576696,-0.011450356650788722,-0.04879804407865413,-0.042084610252887275,0.19048330548241274,0.2611907512795886,0.12815839255208086,-0.07845238122329709,-0.06639008716622458,1.1716192848406393,-0.25907830768651824,0.28458347906613357,0.15863466347770258,-0.12794141391974076,-0.07558509253438313,0.41937791689923365,0.09756047388879723,0.19659183051035878,0.2217608048082219,-0.10729688645593757,0.19587691491860545,4.653678143255552,0.20439686306091812,0.19996347184914848,0.3281167517831622,-0.2583677632358757,0.09756299347474247,0.10486253042071302,-0.12328666132457668,-0.0897835965834394,-0.10293146921825332,0.09967848074147412,-0.052311856590004265,0.519841587696855,-0.15647452292577022,0.05069047100052994,0.10000477501881344,-0.026669550184999898,1.660096021879932,0.21514248214578618,0.15905408670136528,0.16458865613005405,-0.0012580683210795098,-0.09697622114620105,0.09971804821603587,0.1604190980382023,-0.11370768782597733,0.16120459254534245,0.16186935159060326,-0.05197986604702377,-0.042111386970558454,0.6819593272389178,0.15981214212465694,0.15905408670136528,-0.001250139964987144,0.9384004384088738,0.13327779805674508,-0.001082802384240341,-0.10367652786152665,-0.009669460851902404,0.09775334644088682,-0.04213213715162548,-0.1033127798823384,0.09804610788009485,-0.03211992329235097,-0.16651867720633903,0.16134838061069445,-0.12874612043037678,0.16867763114406717,0.8895869472343638,0.1218901183896621,0.159025162967098,0.13003478229854368,0.16619199175419877,-0.009601673858298462,0.705243974766303,0.03975297058067976,0.024453419857537326,0.009337676480142231,0.04617602406454354,-0.0007161460357283086,-0.008980767620476419,0.07459711513281285,0.09761047779788434,0.159233635459681,-0.00044142242474550484,0.11380554584208738,1.0274800599046714,0.2493139276536292,-0.13416810564722137,0.21031939999836133,-0.041936021485030735,-0.024961263032896783,0.16918101813445496,0.35526679971101,-0.1339522222948198,-0.049610870711322544,-0.13409423630561462,0.6884825320171516,-0.11029238508894974,1.1518780260796675,-0.0012830038945520535,0.05660229296689408,0.1897286566360479,0.13342590077092661,0.005097434109251416,1.4019217543041227,-0.1341732140298782,0.13459604848394127,-0.12490008630901925,0.01428492813000128,0.16422793855951184,0.26603450411403173,10.938854473739456,0.003954670301117885,-0.024422221849107983,-0.08803076055438606,0.4190213635007293,-0.17694362700449767,0.286539790846709,0.09879545197501027,0.016990232091830464,0.00986972952343263,-0.0827088717705895,-0.04061988574462315,0.10626456261336208,-0.11058454207285039,0.2561219837558896,0.15977174565430066,0.4754302477688231,0.15952720690481528,-0.0010489235322857083,-0.12885671177452201,-0.1034627610611407,0.09800089408125798,-0.11382697765949615,0.00460520134543843,-0.004783956489608293,2.4884651882466824,0.09771308182557181,-0.08469821407006722,0.017133796393144586,2.5267022119913425,0.13959623263257695,0.1297412650245842,0.2971507746569814,-0.07276405152654578,0.13328663003590555,0.2682665175180768,0.1349797649522586,0.0062634713728215675,-0.015859162497907447,3.369699849982002,0.101417758607898,0.16081846026665247,-0.28097427189349006,0.8164284605515737,0.09871297712148253,-0.1129813602672913,0.1086755785688807,0.030310142506462082,0.029716263467637227,0.2774946898745357,-0.05753945961424527,-0.03920536424558632,-0.04171553691934,0.13313139434979646,0.704323468362405,-0.036083688225490386,0.10052761049723118,0.12812949816937047,-0.06581784028581927,0.1586977665296972,0.6824919806898381,0.349930032763662,0.5094863234495273,-0.12419315982762974,-0.02472635814541574,0.6944981506614367,-0.05202326711906611,0.6960391912515836,0.15311868698455816,0.47738118284148356,0.15877670913999228,0.12009009854822485,0.5607499929072505,0.02754817238172446,-0.042085919481459864,0.09716370741823102],\"z\":[1.0204728629380473,1.3357986258852745,1.0209292889768384,1.0993535330101794,-1.2166918777703366,0.51381075262641,-1.106124116792002,0.4729369781092302,0.902412596469656,-1.4699712566890533,1.5396924255262654,0.503936888558403,-0.8696597994618712,0.39055570113470073,0.8238348752706285,-1.343618033730396,-1.3426075172629583,-0.5935393350230354,-0.7464864964476414,0.5870909065951774,-0.5937577094594989,1.8073531910791196,1.4360601953488126,-1.6293443295876997,0.3927119248091959,1.5396806135280308,-1.3426432082708086,-1.3415626195455106,0.4686619873877638,0.5120491383513305,0.6264682211062774,-1.3424290763750961,1.0205140841640548,1.5707734652567609,2.328032283787498,1.8089595552898594,-1.3421630952672783,1.2176187880976341,-1.129041731822775,-1.5505538937236145,-0.8696169619529385,-0.8301732537524035,1.4146512065936991,0.471228769406123,-1.3426497362534338,-0.8695020051639379,0.5475415674809687,-0.8695793683767153,-0.8690057723473276,1.0205335868449876,1.0993536141208555,-1.0800839272065192,-0.8695530962092511,-0.8696169619529385,1.414675441980005,-1.273481825394839,-1.0667034104004254,1.4146837566903863,0.626347440704242,1.3362012303276751,-1.3425224878659672,1.0993448553753504,0.6263705982619805,-1.3425687476554389,1.1781433601905174,2.2492363742247576,-0.8694247860592745,0.42935423954156915,-0.8688080610204497,-0.9430531481789751,-1.338306098313955,-0.8695948203363735,-1.1057161024197661,-0.8300314513804394,1.3360245929727095,2.514507108317195,1.7299505267085717,1.5730245288022386,1.4935246191744782,1.4188962680932717,1.4147466026400934,0.715926940902522,-1.5394239003386476,-1.3426049651515433,-0.869525761260748,1.414822714422714,-1.2241987591810115,-0.6153258504258925,1.1447379346549917,0.38989309404409644,-0.4754564272937881,1.0993530829126126,1.2178921703375523,-0.7907840318707436,-1.086991027544714,0.38993213730524307,1.0210861291658726,0.3899034562039122,-1.079276661883342,0.4700781899334392,1.5985951503308222,1.4146567956278384,1.0422008838240904,-0.6331086606623062,-1.066692832024535,1.3379527569167462,1.8848796340098908,0.38987987711679734,-1.0664758365541465,0.39090817413618795,1.5329248957436465,-0.8301909069869332,-0.04193685417671844,3.5868901435094793,1.4153543769035062,1.2177663586202965,0.589273233251916,-1.574713610785218,2.170367826766967,-1.3335023275079139,-1.342373471943688,1.0346019738825172,1.4168008450555538,0.7840398088874999,1.0994571607519659,-1.341566866510387,0.548146531508926,-0.12072548334745951,-0.8694691686337412,-2.6567414681801513,-0.8694860710911562,1.4146690984247963,0.4292944729723201,0.6263826970905582,-1.342587194331275,0.5475178899652299,1.4159346331497564,1.3755399427322843,1.812881050548126,-1.3425466253009146,0.7449305067998724,1.4167788411122648,-2.2085575156753445,-1.0653221207390986,-1.105935360762394,0.1945894012105058,0.8628622636105537,-1.0666902047524562,-1.305933138929943,-1.0665211068931393,1.3396044184496005,1.2965757722752664,1.7718174969344143,-1.3420814808714003,-0.8692032804610976,1.3434027668272788,-1.6214347911842404,1.1156417644017609,0.5476774253804468,1.4321157809806284,1.6513495614502511,1.6511751683248728,0.03711783049213226,0.9811082470524652,1.0998780771185899,1.0993742176185672,-1.0667065617241018,-1.0782219463323082,0.3983580367926862,1.6663428321577158,-1.1061052833646854,0.9024571764531369,-0.8696401420084098,-1.0800085316461299,-1.3213341773523752,-2.779467347887373,0.46867090842772813,1.0644552790064745,-1.0803975842032716,1.0205299303289157,-1.0804022522453423,-1.1040218925284788,-1.2463987083989834,-0.8696411880050912,-0.6550470614505163,-2.3767947516571533,1.4176299454465604,1.0993535369760281,-1.342639793373493]},{\"customdata\":[[60]],\"hovertemplate\":\"<b>%{hovertext}</b><br><br>Class=%{marker.color}<br>PC_1=%{y}<br>PC_3=%{z}<br>Algorithm=%{customdata[0]}<extra></extra>\",\"hovertext\":[\"BitTorrent\"],\"legendgroup\":\"2\",\"marker\":{\"color\":[2],\"coloraxis\":\"coloraxis\",\"symbol\":\"square\"},\"mode\":\"markers\",\"name\":\"2\",\"scene\":\"scene\",\"showlegend\":true,\"type\":\"scatter3d\",\"x\":[25.459357630637193],\"y\":[25.459357630637193],\"z\":[-0.7858800338600169]}],                        {\"coloraxis\":{\"colorbar\":{\"title\":{\"text\":\"Class\"}},\"colorscale\":[[0.0,\"#0d0887\"],[0.1111111111111111,\"#46039f\"],[0.2222222222222222,\"#7201a8\"],[0.3333333333333333,\"#9c179e\"],[0.4444444444444444,\"#bd3786\"],[0.5555555555555556,\"#d8576b\"],[0.6666666666666666,\"#ed7953\"],[0.7777777777777778,\"#fb9f3a\"],[0.8888888888888888,\"#fdca26\"],[1.0,\"#f0f921\"]]},\"legend\":{\"title\":{\"text\":\"Class\"},\"tracegroupgap\":0,\"x\":0,\"y\":1},\"margin\":{\"t\":60},\"scene\":{\"domain\":{\"x\":[0.0,1.0],\"y\":[0.0,1.0]},\"xaxis\":{\"title\":{\"text\":\"PC_1\"}},\"yaxis\":{\"title\":{\"text\":\"PC_1\"}},\"zaxis\":{\"title\":{\"text\":\"PC_3\"}}},\"template\":{\"data\":{\"bar\":[{\"error_x\":{\"color\":\"#2a3f5f\"},\"error_y\":{\"color\":\"#2a3f5f\"},\"marker\":{\"line\":{\"color\":\"#E5ECF6\",\"width\":0.5},\"pattern\":{\"fillmode\":\"overlay\",\"size\":10,\"solidity\":0.2}},\"type\":\"bar\"}],\"barpolar\":[{\"marker\":{\"line\":{\"color\":\"#E5ECF6\",\"width\":0.5},\"pattern\":{\"fillmode\":\"overlay\",\"size\":10,\"solidity\":0.2}},\"type\":\"barpolar\"}],\"carpet\":[{\"aaxis\":{\"endlinecolor\":\"#2a3f5f\",\"gridcolor\":\"white\",\"linecolor\":\"white\",\"minorgridcolor\":\"white\",\"startlinecolor\":\"#2a3f5f\"},\"baxis\":{\"endlinecolor\":\"#2a3f5f\",\"gridcolor\":\"white\",\"linecolor\":\"white\",\"minorgridcolor\":\"white\",\"startlinecolor\":\"#2a3f5f\"},\"type\":\"carpet\"}],\"choropleth\":[{\"colorbar\":{\"outlinewidth\":0,\"ticks\":\"\"},\"type\":\"choropleth\"}],\"contour\":[{\"colorbar\":{\"outlinewidth\":0,\"ticks\":\"\"},\"colorscale\":[[0.0,\"#0d0887\"],[0.1111111111111111,\"#46039f\"],[0.2222222222222222,\"#7201a8\"],[0.3333333333333333,\"#9c179e\"],[0.4444444444444444,\"#bd3786\"],[0.5555555555555556,\"#d8576b\"],[0.6666666666666666,\"#ed7953\"],[0.7777777777777778,\"#fb9f3a\"],[0.8888888888888888,\"#fdca26\"],[1.0,\"#f0f921\"]],\"type\":\"contour\"}],\"contourcarpet\":[{\"colorbar\":{\"outlinewidth\":0,\"ticks\":\"\"},\"type\":\"contourcarpet\"}],\"heatmap\":[{\"colorbar\":{\"outlinewidth\":0,\"ticks\":\"\"},\"colorscale\":[[0.0,\"#0d0887\"],[0.1111111111111111,\"#46039f\"],[0.2222222222222222,\"#7201a8\"],[0.3333333333333333,\"#9c179e\"],[0.4444444444444444,\"#bd3786\"],[0.5555555555555556,\"#d8576b\"],[0.6666666666666666,\"#ed7953\"],[0.7777777777777778,\"#fb9f3a\"],[0.8888888888888888,\"#fdca26\"],[1.0,\"#f0f921\"]],\"type\":\"heatmap\"}],\"heatmapgl\":[{\"colorbar\":{\"outlinewidth\":0,\"ticks\":\"\"},\"colorscale\":[[0.0,\"#0d0887\"],[0.1111111111111111,\"#46039f\"],[0.2222222222222222,\"#7201a8\"],[0.3333333333333333,\"#9c179e\"],[0.4444444444444444,\"#bd3786\"],[0.5555555555555556,\"#d8576b\"],[0.6666666666666666,\"#ed7953\"],[0.7777777777777778,\"#fb9f3a\"],[0.8888888888888888,\"#fdca26\"],[1.0,\"#f0f921\"]],\"type\":\"heatmapgl\"}],\"histogram\":[{\"marker\":{\"pattern\":{\"fillmode\":\"overlay\",\"size\":10,\"solidity\":0.2}},\"type\":\"histogram\"}],\"histogram2d\":[{\"colorbar\":{\"outlinewidth\":0,\"ticks\":\"\"},\"colorscale\":[[0.0,\"#0d0887\"],[0.1111111111111111,\"#46039f\"],[0.2222222222222222,\"#7201a8\"],[0.3333333333333333,\"#9c179e\"],[0.4444444444444444,\"#bd3786\"],[0.5555555555555556,\"#d8576b\"],[0.6666666666666666,\"#ed7953\"],[0.7777777777777778,\"#fb9f3a\"],[0.8888888888888888,\"#fdca26\"],[1.0,\"#f0f921\"]],\"type\":\"histogram2d\"}],\"histogram2dcontour\":[{\"colorbar\":{\"outlinewidth\":0,\"ticks\":\"\"},\"colorscale\":[[0.0,\"#0d0887\"],[0.1111111111111111,\"#46039f\"],[0.2222222222222222,\"#7201a8\"],[0.3333333333333333,\"#9c179e\"],[0.4444444444444444,\"#bd3786\"],[0.5555555555555556,\"#d8576b\"],[0.6666666666666666,\"#ed7953\"],[0.7777777777777778,\"#fb9f3a\"],[0.8888888888888888,\"#fdca26\"],[1.0,\"#f0f921\"]],\"type\":\"histogram2dcontour\"}],\"mesh3d\":[{\"colorbar\":{\"outlinewidth\":0,\"ticks\":\"\"},\"type\":\"mesh3d\"}],\"parcoords\":[{\"line\":{\"colorbar\":{\"outlinewidth\":0,\"ticks\":\"\"}},\"type\":\"parcoords\"}],\"pie\":[{\"automargin\":true,\"type\":\"pie\"}],\"scatter\":[{\"marker\":{\"colorbar\":{\"outlinewidth\":0,\"ticks\":\"\"}},\"type\":\"scatter\"}],\"scatter3d\":[{\"line\":{\"colorbar\":{\"outlinewidth\":0,\"ticks\":\"\"}},\"marker\":{\"colorbar\":{\"outlinewidth\":0,\"ticks\":\"\"}},\"type\":\"scatter3d\"}],\"scattercarpet\":[{\"marker\":{\"colorbar\":{\"outlinewidth\":0,\"ticks\":\"\"}},\"type\":\"scattercarpet\"}],\"scattergeo\":[{\"marker\":{\"colorbar\":{\"outlinewidth\":0,\"ticks\":\"\"}},\"type\":\"scattergeo\"}],\"scattergl\":[{\"marker\":{\"colorbar\":{\"outlinewidth\":0,\"ticks\":\"\"}},\"type\":\"scattergl\"}],\"scattermapbox\":[{\"marker\":{\"colorbar\":{\"outlinewidth\":0,\"ticks\":\"\"}},\"type\":\"scattermapbox\"}],\"scatterpolar\":[{\"marker\":{\"colorbar\":{\"outlinewidth\":0,\"ticks\":\"\"}},\"type\":\"scatterpolar\"}],\"scatterpolargl\":[{\"marker\":{\"colorbar\":{\"outlinewidth\":0,\"ticks\":\"\"}},\"type\":\"scatterpolargl\"}],\"scatterternary\":[{\"marker\":{\"colorbar\":{\"outlinewidth\":0,\"ticks\":\"\"}},\"type\":\"scatterternary\"}],\"surface\":[{\"colorbar\":{\"outlinewidth\":0,\"ticks\":\"\"},\"colorscale\":[[0.0,\"#0d0887\"],[0.1111111111111111,\"#46039f\"],[0.2222222222222222,\"#7201a8\"],[0.3333333333333333,\"#9c179e\"],[0.4444444444444444,\"#bd3786\"],[0.5555555555555556,\"#d8576b\"],[0.6666666666666666,\"#ed7953\"],[0.7777777777777778,\"#fb9f3a\"],[0.8888888888888888,\"#fdca26\"],[1.0,\"#f0f921\"]],\"type\":\"surface\"}],\"table\":[{\"cells\":{\"fill\":{\"color\":\"#EBF0F8\"},\"line\":{\"color\":\"white\"}},\"header\":{\"fill\":{\"color\":\"#C8D4E3\"},\"line\":{\"color\":\"white\"}},\"type\":\"table\"}]},\"layout\":{\"annotationdefaults\":{\"arrowcolor\":\"#2a3f5f\",\"arrowhead\":0,\"arrowwidth\":1},\"autotypenumbers\":\"strict\",\"coloraxis\":{\"colorbar\":{\"outlinewidth\":0,\"ticks\":\"\"}},\"colorscale\":{\"diverging\":[[0,\"#8e0152\"],[0.1,\"#c51b7d\"],[0.2,\"#de77ae\"],[0.3,\"#f1b6da\"],[0.4,\"#fde0ef\"],[0.5,\"#f7f7f7\"],[0.6,\"#e6f5d0\"],[0.7,\"#b8e186\"],[0.8,\"#7fbc41\"],[0.9,\"#4d9221\"],[1,\"#276419\"]],\"sequential\":[[0.0,\"#0d0887\"],[0.1111111111111111,\"#46039f\"],[0.2222222222222222,\"#7201a8\"],[0.3333333333333333,\"#9c179e\"],[0.4444444444444444,\"#bd3786\"],[0.5555555555555556,\"#d8576b\"],[0.6666666666666666,\"#ed7953\"],[0.7777777777777778,\"#fb9f3a\"],[0.8888888888888888,\"#fdca26\"],[1.0,\"#f0f921\"]],\"sequentialminus\":[[0.0,\"#0d0887\"],[0.1111111111111111,\"#46039f\"],[0.2222222222222222,\"#7201a8\"],[0.3333333333333333,\"#9c179e\"],[0.4444444444444444,\"#bd3786\"],[0.5555555555555556,\"#d8576b\"],[0.6666666666666666,\"#ed7953\"],[0.7777777777777778,\"#fb9f3a\"],[0.8888888888888888,\"#fdca26\"],[1.0,\"#f0f921\"]]},\"colorway\":[\"#636efa\",\"#EF553B\",\"#00cc96\",\"#ab63fa\",\"#FFA15A\",\"#19d3f3\",\"#FF6692\",\"#B6E880\",\"#FF97FF\",\"#FECB52\"],\"font\":{\"color\":\"#2a3f5f\"},\"geo\":{\"bgcolor\":\"white\",\"lakecolor\":\"white\",\"landcolor\":\"#E5ECF6\",\"showlakes\":true,\"showland\":true,\"subunitcolor\":\"white\"},\"hoverlabel\":{\"align\":\"left\"},\"hovermode\":\"closest\",\"mapbox\":{\"style\":\"light\"},\"paper_bgcolor\":\"white\",\"plot_bgcolor\":\"#E5ECF6\",\"polar\":{\"angularaxis\":{\"gridcolor\":\"white\",\"linecolor\":\"white\",\"ticks\":\"\"},\"bgcolor\":\"#E5ECF6\",\"radialaxis\":{\"gridcolor\":\"white\",\"linecolor\":\"white\",\"ticks\":\"\"}},\"scene\":{\"xaxis\":{\"backgroundcolor\":\"#E5ECF6\",\"gridcolor\":\"white\",\"gridwidth\":2,\"linecolor\":\"white\",\"showbackground\":true,\"ticks\":\"\",\"zerolinecolor\":\"white\"},\"yaxis\":{\"backgroundcolor\":\"#E5ECF6\",\"gridcolor\":\"white\",\"gridwidth\":2,\"linecolor\":\"white\",\"showbackground\":true,\"ticks\":\"\",\"zerolinecolor\":\"white\"},\"zaxis\":{\"backgroundcolor\":\"#E5ECF6\",\"gridcolor\":\"white\",\"gridwidth\":2,\"linecolor\":\"white\",\"showbackground\":true,\"ticks\":\"\",\"zerolinecolor\":\"white\"}},\"shapedefaults\":{\"line\":{\"color\":\"#2a3f5f\"}},\"ternary\":{\"aaxis\":{\"gridcolor\":\"white\",\"linecolor\":\"white\",\"ticks\":\"\"},\"baxis\":{\"gridcolor\":\"white\",\"linecolor\":\"white\",\"ticks\":\"\"},\"bgcolor\":\"#E5ECF6\",\"caxis\":{\"gridcolor\":\"white\",\"linecolor\":\"white\",\"ticks\":\"\"}},\"title\":{\"x\":0.05},\"xaxis\":{\"automargin\":true,\"gridcolor\":\"white\",\"linecolor\":\"white\",\"ticks\":\"\",\"title\":{\"standoff\":15},\"zerolinecolor\":\"white\",\"zerolinewidth\":2},\"yaxis\":{\"automargin\":true,\"gridcolor\":\"white\",\"linecolor\":\"white\",\"ticks\":\"\",\"title\":{\"standoff\":15},\"zerolinecolor\":\"white\",\"zerolinewidth\":2}}},\"width\":800},                        {\"responsive\": true}                    ).then(function(){\n",
       "                            \n",
       "var gd = document.getElementById('8733fabb-e4fc-47cf-9448-88b9a1afbd1e');\n",
       "var x = new MutationObserver(function (mutations, observer) {{\n",
       "        var display = window.getComputedStyle(gd).display;\n",
       "        if (!display || display === 'none') {{\n",
       "            console.log([gd, 'removed!']);\n",
       "            Plotly.purge(gd);\n",
       "            observer.disconnect();\n",
       "        }}\n",
       "}});\n",
       "\n",
       "// Listen for the removal of the full notebook cells\n",
       "var notebookContainer = gd.closest('#notebook-container');\n",
       "if (notebookContainer) {{\n",
       "    x.observe(notebookContainer, {childList: true});\n",
       "}}\n",
       "\n",
       "// Listen for the clearing of the current output cell\n",
       "var outputEl = gd.closest('.output');\n",
       "if (outputEl) {{\n",
       "    x.observe(outputEl, {childList: true});\n",
       "}}\n",
       "\n",
       "                        })                };                });            </script>        </div>"
      ]
     },
     "metadata": {},
     "output_type": "display_data"
    }
   ],
   "source": [
    "# Create a 3D-Scatter with the PCA data and the clusters\n",
    "fig = px.scatter_3d(\n",
    "    clustered_df,\n",
    "    x=\"PC_1\",\n",
    "    y=\"PC_1\",\n",
    "    z=\"PC_3\",\n",
    "    color=\"Class\",\n",
    "    symbol=\"Class\",\n",
    "    width=800,\n",
    "    hover_name=\"CoinName\",\n",
    "    hover_data=[\"Algorithm\"]\n",
    ")\n",
    "fig.update_layout(legend=dict(x=0, y=1))\n",
    "fig.show()"
   ]
  },
  {
   "cell_type": "markdown",
   "metadata": {},
   "source": [
    "#### Table of Tradable Cryptocurrencies"
   ]
  },
  {
   "cell_type": "code",
   "execution_count": 29,
   "metadata": {},
   "outputs": [
    {
     "data": {},
     "metadata": {},
     "output_type": "display_data"
    },
    {
     "data": {
      "application/vnd.holoviews_exec.v0+json": "",
      "text/html": [
       "<div id='1002'>\n",
       "\n",
       "\n",
       "\n",
       "\n",
       "\n",
       "  <div class=\"bk-root\" id=\"4dac88fb-72e6-4dc3-a44a-a795b7fcebaf\" data-root-id=\"1002\"></div>\n",
       "</div>\n",
       "<script type=\"application/javascript\">(function(root) {\n",
       "  function embed_document(root) {\n",
       "    var docs_json = {\"28e6a6a6-119b-4cbb-a539-f3017f2dc595\":{\"defs\":[],\"roots\":{\"references\":[{\"attributes\":{},\"id\":\"1032\",\"type\":\"IntEditor\"},{\"attributes\":{\"data\":{\"Algorithm\":{\"__ndarray__\":\"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\",\"dtype\":\"int32\",\"order\":\"little\",\"shape\":[533]},\"Class\":{\"__ndarray__\":\"AAAAAAAAAAAAAAAAAAAAAAEAAAAAAAAAAAAAAAEAAAABAAAAAQAAAAEAAAABAAAAAAAAAAEAAAAAAAAAAAAAAAAAAAAAAAAAAAAAAAAAAAABAAAAAAAAAAAAAAAAAAAAAAAAAAAAAAAAAAAAAQAAAAAAAAAAAAAAAAAAAAAAAAAAAAAAAAAAAAEAAAABAAAAAQAAAAAAAAAAAAAAAAAAAAAAAAAAAAAAAQAAAAAAAAAAAAAAAQAAAAAAAAAAAAAAAAAAAAAAAAAAAAAAAAAAAAAAAAAAAAAAAAAAAAAAAAAAAAAAAAAAAAAAAAABAAAAAQAAAAAAAAAAAAAAAQAAAAAAAAAAAAAAAAAAAAAAAAAAAAAAAAAAAAAAAAAAAAAAAAAAAAAAAAAAAAAAAAAAAAAAAAAAAAAAAAAAAAEAAAAAAAAAAQAAAAAAAAAAAAAAAAAAAAAAAAAAAAAAAAAAAAAAAAAAAAAAAAAAAAEAAAAAAAAAAAAAAAEAAAAAAAAAAAAAAAAAAAABAAAAAQAAAAEAAAABAAAAAAAAAAAAAAABAAAAAAAAAAEAAAAAAAAAAAAAAAAAAAABAAAAAAAAAAAAAAAAAAAAAAAAAAAAAAAAAAAAAQAAAAAAAAAAAAAAAAAAAAAAAAABAAAAAAAAAAAAAAAAAAAAAAAAAAAAAAAAAAAAAQAAAAAAAAAAAAAAAAAAAAAAAAAAAAAAAAAAAAEAAAABAAAAAAAAAAEAAAAAAAAAAAAAAAAAAAAAAAAAAQAAAAAAAAABAAAAAAAAAAAAAAAAAAAAAAAAAAAAAAAAAAAAAAAAAAEAAAAAAAAAAQAAAAAAAAAAAAAAAAAAAAEAAAAAAAAAAQAAAAEAAAAAAAAAAAAAAAAAAAAAAAAAAAAAAAAAAAAAAAAAAAAAAAEAAAAAAAAAAAAAAAAAAAAAAAAAAAAAAAAAAAAAAAAAAAAAAAAAAAABAAAAAAAAAAAAAAAAAAAAAAAAAAEAAAAAAAAAAAAAAAEAAAAAAAAAAAAAAAAAAAAAAAAAAQAAAAAAAAAAAAAAAQAAAAEAAAAAAAAAAAAAAAEAAAAAAAAAAQAAAAEAAAABAAAAAAAAAAAAAAAAAAAAAAAAAAAAAAABAAAAAAAAAAAAAAAAAAAAAQAAAAAAAAAAAAAAAAAAAAAAAAAAAAAAAAAAAAAAAAABAAAAAAAAAAEAAAAAAAAAAAAAAAEAAAAAAAAAAAAAAAEAAAABAAAAAAAAAAAAAAAAAAAAAAAAAAAAAAAAAAAAAQAAAAEAAAAAAAAAAAAAAAAAAAAAAAAAAQAAAAAAAAAAAAAAAQAAAAEAAAABAAAAAAAAAAEAAAAAAAAAAAAAAAEAAAAAAAAAAQAAAAEAAAAAAAAAAAAAAAAAAAAAAAAAAQAAAAAAAAAAAAAAAQAAAAAAAAABAAAAAAAAAAAAAAABAAAAAAAAAAEAAAABAAAAAQAAAAEAAAABAAAAAQAAAAEAAAAAAAAAAAAAAAAAAAAAAAAAAAAAAAAAAAAAAAAAAAAAAAAAAAAAAAAAAQAAAAAAAAAAAAAAAAAAAAEAAAABAAAAAAAAAAAAAAAAAAAAAAAAAAEAAAAAAAAAAAAAAAEAAAAAAAAAAAAAAAAAAAAAAAAAAAAAAAAAAAAAAAAAAQAAAAEAAAABAAAAAAAAAAEAAAAAAAAAAAAAAAAAAAABAAAAAQAAAAEAAAAAAAAAAAAAAAAAAAAAAAAAAQAAAAAAAAAAAAAAAAAAAAEAAAAAAAAAAQAAAAAAAAABAAAAAQAAAAEAAAAAAAAAAQAAAAAAAAAAAAAAAQAAAAAAAAABAAAAAQAAAAEAAAABAAAAAQAAAAAAAAABAAAAAAAAAAAAAAAAAAAAAAAAAAEAAAAAAAAAAQAAAAEAAAABAAAAAAAAAAAAAAAAAAAAAAAAAAAAAAAAAAAAAQAAAAEAAAABAAAAAAAAAAEAAAAAAAAAAAAAAAEAAAAAAAAAAQAAAAEAAAAAAAAAAQAAAAAAAAAAAAAAAAAAAAAAAAABAAAAAQAAAAAAAAAAAAAAAQAAAAAAAAABAAAAAQAAAAAAAAABAAAAAAAAAAAAAAAAAAAAAQAAAAEAAAABAAAAAQAAAAEAAAAAAAAAAQAAAAAAAAAAAAAAAQAAAAEAAAAAAAAAAAAAAAEAAAABAAAAAAAAAAAAAAABAAAAAQAAAAEAAAABAAAAAQAAAAAAAAABAAAAAQAAAAAAAAABAAAAAAAAAAAAAAABAAAAAQAAAAEAAAABAAAAAAAAAAEAAAAAAAAAAAAAAAEAAAAAAAAAAQAAAAAAAAABAAAAAAAAAAAAAAABAAAAAQAAAAAAAAABAAAAAAAAAAAAAAABAAAAAQAAAAAAAAABAAAAAAAAAAAAAAAAAAAAAAAAAAAAAAABAAAAAQAAAAAAAAABAAAAAAAAAAAAAAAAAAAAAQAAAAAAAAABAAAAAQAAAAEAAAABAAAAAAAAAAAAAAABAAAAAAAAAAEAAAABAAAAAAAAAAAAAAAAAAAAAAAAAAAAAAAAAAAAAAAAAAAAAAAAAAAAAAAAAAAAAAABAAAAAAAAAAAAAAAAAAAAAQAAAAAAAAABAAAAAAAAAAEAAAAAAAAAAAAAAAAAAAAAAAAAAAAAAAAAAAAAAAAAAAAAAAAAAAAAAAAAAQAAAAAAAAAAAAAAAQAAAAAAAAAAAAAAAAAAAAAAAAABAAAAAQAAAAAAAAAAAAAAAQAAAAEAAAAAAAAAAQAAAAEAAAABAAAAAQAAAAEAAAABAAAAAQAAAAIAAAABAAAAAQAAAAAAAAABAAAAAQAAAAEAAAA=\",\"dtype\":\"int32\",\"order\":\"little\",\"shape\":[533]},\"CoinName\":[\"42 Coin\",\"404Coin\",\"EliteCoin\",\"Bitcoin\",\"Ethereum\",\"Litecoin\",\"Dash\",\"Monero\",\"Ethereum Classic\",\"ZCash\",\"Bitshares\",\"DigiByte\",\"BitcoinDark\",\"PayCoin\",\"ProsperCoin\",\"KoboCoin\",\"Spreadcoin\",\"Argentum\",\"Aurora Coin\",\"BlueCoin\",\"MyriadCoin\",\"MoonCoin\",\"ZetaCoin\",\"SexCoin\",\"Quatloo\",\"EnergyCoin\",\"QuarkCoin\",\"Riecoin\",\"Digitalcoin \",\"BitBar\",\"Catcoin\",\"CryptoBullion\",\"CannaCoin\",\"CryptCoin\",\"CasinoCoin\",\"Diamond\",\"Verge\",\"DevCoin\",\"EarthCoin\",\"E-Gulden\",\"Einsteinium\",\"Emerald\",\"Exclusive Coin\",\"FlutterCoin\",\"Franko\",\"FeatherCoin\",\"GrandCoin\",\"GlobalCoin\",\"GoldCoin\",\"HoboNickels\",\"HyperStake\",\"Infinite Coin\",\"IOCoin\",\"IXcoin\",\"KrugerCoin\",\"LuckyCoin\",\"Litebar \",\"MaxCoin\",\"MegaCoin\",\"MediterraneanCoin\",\"MintCoin\",\"MinCoin\",\"MazaCoin\",\"Nautilus Coin\",\"NavCoin\",\"NobleCoin\",\"Namecoin\",\"NyanCoin\",\"OpalCoin\",\"Orbitcoin\",\"PotCoin\",\"PhoenixCoin\",\"Reddcoin\",\"RonPaulCoin\",\"StableCoin\",\"SmartCoin\",\"SuperCoin\",\"SyncCoin\",\"SysCoin\",\"TeslaCoin\",\"TigerCoin\",\"TittieCoin\",\"TorCoin\",\"TerraCoin\",\"UnbreakableCoin\",\"Unobtanium\",\"UroCoin\",\"UnitaryStatus Dollar\",\"UltraCoin\",\"ViaCoin\",\"VeriCoin\",\"Vertcoin\",\"WorldCoin\",\"X11 Coin\",\"Crypti\",\"JouleCoin\",\"StealthCoin\",\"ZCC Coin\",\"ByteCoin\",\"DigitalNote \",\"BurstCoin\",\"StorjCoin\",\"MonaCoin\",\"Neutron\",\"FairCoin\",\"Gulden\",\"RubyCoin\",\"PesetaCoin\",\"Kore\",\"Wild Beast Coin\",\"Dnotes\",\"Flo\",\"8BIT Coin\",\"Sativa Coin\",\"ArtByte\",\"Folding Coin\",\"Ucoin\",\"Unitus\",\"CypherPunkCoin\",\"OmniCron\",\"Vtorrent\",\"GreenCoin\",\"Cryptonite\",\"MasterCoin\",\"SoonCoin\",\"1Credit\",\"IslaCoin\",\"Nexus\",\"MarsCoin \",\"Crypto\",\"Anarchists Prime\",\"Droidz\",\"BowsCoin\",\"Squall Coin\",\"Song Coin\",\"BitZeny\",\"Diggits\",\"Expanse\",\"Paycon\",\"Siacoin\",\"Emercoin\",\"EverGreenCoin\",\"MindCoin\",\"I0coin\",\"Decred\",\"Revolution VR\",\"HOdlcoin\",\"EDRCoin\",\"Hitcoin\",\"Gamecredits\",\"DubaiCoin\",\"CarpeDiemCoin\",\"PWR Coin\",\"BillaryCoin\",\"GPU Coin\",\"Adzcoin\",\"SoilCoin\",\"YoCoin\",\"SibCoin\",\"EuropeCoin\",\"ZeitCoin\",\"SwingCoin\",\"SafeExchangeCoin\",\"Nebuchadnezzar\",\"Francs\",\"BolivarCoin\",\"Ratecoin\",\"Revenu\",\"Clockcoin\",\"VIP Tokens\",\"BitSend\",\"Omni\",\"Let it Ride\",\"PutinCoin\",\"iBankCoin\",\"Frankywillcoin\",\"MudraCoin\",\"PizzaCoin\",\"Lutetium Coin\",\"Komodo\",\"GoldBlocks\",\"CarterCoin\",\"Karbo\",\"BitTokens\",\"ZayedCoin\",\"MustangCoin\",\"ZoneCoin\",\"Circuits of Value\",\"RootCoin\",\"DopeCoin\",\"BitCurrency\",\"DollarCoin\",\"Swiscoin\",\"Shilling\",\"BuzzCoin\",\"Opair\",\"PesoBit\",\"Halloween Coin\",\"ZCoin\",\"CoffeeCoin\",\"RoyalCoin\",\"GanjaCoin V2\",\"TeamUP\",\"LanaCoin\",\"Elementrem\",\"ZClassic\",\"ARK\",\"InsaneCoin\",\"KiloCoin\",\"ArtexCoin\",\"EmberCoin\",\"XenixCoin\",\"FreeCoin\",\"PLNCoin\",\"AquariusCoin\",\"Kurrent\",\"Creatio\",\"Eternity\",\"Eurocoin\",\"BitcoinFast\",\"Stakenet\",\"BitConnect Coin\",\"MoneyCoin\",\"Enigma\",\"Cannabis Industry Coin\",\"Russiacoin\",\"PandaCoin\",\"GameUnits\",\"GAKHcoin\",\"Allsafe\",\"LiteCreed\",\"OsmiumCoin\",\"Bikercoins\",\"HexxCoin\",\"Klingon Empire Darsek\",\"Internet of People\",\"KushCoin\",\"Printerium\",\"PacCoin\",\"Impeach\",\"Citadel\",\"Zilbercoin\",\"FirstCoin\",\"BeaverCoin\",\"FindCoin\",\"VaultCoin\",\"Zero\",\"OpenChat\",\"Canada eCoin\",\"Zoin\",\"RenosCoin\",\"DubaiCoin\",\"VirtacoinPlus\",\"TajCoin\",\"Impact\",\"EB3coin\",\"Atmos\",\"HappyCoin\",\"Coinonat\",\"MacronCoin\",\"Condensate\",\"Independent Money System\",\"ArgusCoin\",\"LomoCoin\",\"ProCurrency\",\"GoldReserve\",\"BenjiRolls\",\"GrowthCoin\",\"ILCoin\",\"Phreak\",\"Degas Coin\",\"HTML5 Coin\",\"Ultimate Secure Cash\",\"EquiTrader\",\"QTUM\",\"Quantum Resistant Ledger\",\"Espers\",\"Dynamic\",\"Nano\",\"ChanCoin\",\"Dinastycoin\",\"Denarius\",\"DigitalPrice\",\"Virta Unique Coin\",\"Bitcoin Planet\",\"Unify\",\"BritCoin\",\"SocialCoin\",\"ArcticCoin\",\"DAS\",\"Linda\",\"LeviarCoin\",\"DeepOnion\",\"Bitcore\",\"gCn Coin\",\"SmartCash\",\"Signatum\",\"Onix\",\"Cream\",\"Bitcoin Cash\",\"Monoeci\",\"Draftcoin\",\"Vechain\",\"Sojourn Coin\",\"Stakecoin\",\"NewYorkCoin\",\"FrazCoin\",\"Kronecoin\",\"AdCoin\",\"Linx\",\"CoinonatX\",\"Ethereum Dark\",\"Sumokoin\",\"Obsidian\",\"Cardano\",\"Regalcoin\",\"BitcoinZ\",\"TrezarCoin\",\"Elements\",\"TerraNovaCoin\",\"VIVO Coin\",\"Rupee\",\"Bitcoin Gold\",\"WomenCoin\",\"Theresa May Coin\",\"NamoCoin\",\"LUXCoin\",\"Pirl\",\"Xios\",\"Bitcloud 2.0\",\"eBoost\",\"KekCoin\",\"BlackholeCoin\",\"Infinity Economics\",\"Pura\",\"Innova\",\"Ellaism\",\"GoByte\",\"Magnet\",\"Lamden Tau\",\"Electra\",\"Bitcoin Diamond\",\"SHIELD\",\"Cash & Back Coin\",\"UltraNote\",\"BitCoal\",\"DaxxCoin\",\"Bulwark\",\"Kalkulus\",\"AC3\",\"Lethean\",\"GermanCoin\",\"LiteCoin Ultra\",\"PopularCoin\",\"PhantomX\",\"Photon\",\"Sucre\",\"SparksPay\",\"Digiwage\",\"GunCoin\",\"IrishCoin\",\"Trollcoin\",\"Litecoin Plus\",\"Monkey Project\",\"Pioneer Coin\",\"UnitedBitcoin\",\"Interzone\",\"TokenPay\",\"1717 Masonic Commemorative Token\",\"My Big Coin\",\"TurtleCoin\",\"MUNcoin\",\"Unified Society USDEX\",\"Niobio Cash\",\"ShareChain\",\"Travelflex\",\"KREDS\",\"Tokyo Coin\",\"BiblePay\",\"LitecoinCash\",\"BitFlip\",\"LottoCoin\",\"Crypto Improvement Fund\",\"Stipend\",\"Poa Network\",\"Pushi\",\"Ellerium\",\"Velox\",\"Ontology\",\"Callisto Network\",\"BitTube\",\"Poseidon\",\"Aidos Kuneen\",\"Bitspace\",\"Briacoin\",\"Ignition\",\"Bitrolium\",\"MedicCoin\",\"Alpenschillling\",\"Bitcoin Green\",\"Deviant Coin\",\"Abjcoin\",\"Semux\",\"FuturoCoin\",\"Carebit\",\"Zealium\",\"Monero Classic\",\"Proton\",\"iDealCash\",\"Jumpcoin\",\"Infinex\",\"Bitcoin Incognito\",\"KEYCO\",\"HollyWoodCoin\",\"GINcoin\",\"PlatinCoin\",\"Loki\",\"Newton Coin\",\"Swisscoin\",\"Xt3ch\",\"MassGrid\",\"TheVig\",\"PluraCoin\",\"EmaratCoin\",\"Dekado\",\"Lynx\",\"Poseidon Quark\",\"BitcoinWSpectrum\",\"Muse\",\"Motion\",\"PlusOneCoin\",\"Axe\",\"Trivechain\",\"Dystem\",\"Giant\",\"Peony Coin\",\"Absolute Coin\",\"Vitae\",\"HexCoin\",\"TPCash\",\"Webchain\",\"Ryo\",\"Urals Coin\",\"Qwertycoin\",\"ARENON\",\"EUNO\",\"MMOCoin\",\"Ketan\",\"Project Pai\",\"XDNA\",\"PAXEX\",\"Azart\",\"ThunderStake\",\"Kcash\",\"Xchange\",\"Acute Angle Cloud\",\"CrypticCoin\",\"Bettex coin\",\"Actinium\",\"Bitcoin SV\",\"BitMoney\",\"Junson Ming Chan Coin\",\"FREDEnergy\",\"HerbCoin\",\"Universal Molecule\",\"Lithium\",\"PirateCash\",\"Exosis\",\"Block-Logic\",\"Oduwa\",\"Beam\",\"Galilel\",\"Bithereum\",\"Crypto Sports\",\"Credit\",\"SLICE\",\"Dash Platinum\",\"Nasdacoin\",\"Beetle Coin\",\"Titan Coin\",\"Award\",\"BLAST\",\"Bitcoin Rhodium\",\"GlobalToken\",\"Insane Coin\",\"ALAX\",\"LiteDoge\",\"SolarCoin\",\"TruckCoin\",\"UFO Coin\",\"OrangeCoin\",\"BlakeCoin\",\"BitstarCoin\",\"NeosCoin\",\"HyperCoin\",\"PinkCoin\",\"Crypto Escudo\",\"AudioCoin\",\"IncaKoin\",\"Piggy Coin\",\"Crown Coin\",\"Genstake\",\"SmileyCoin\",\"XiaoMiCoin\",\"Groestlcoin\",\"CapriCoin\",\" ClubCoin\",\"Radium\",\"Bata\",\"Pakcoin\",\"Creditbit \",\"OKCash\",\"Lisk\",\"HiCoin\",\"WhiteCoin\",\"FriendshipCoin\",\"Fiii\",\"JoinCoin\",\"Triangles Coin\",\"Vollar\",\"EOS\",\"Reality Clash\",\"Oxycoin\",\"TigerCash\",\"Waves\",\"Particl\",\"BitTorrent\",\"Nxt\",\"ZEPHYR\",\"Gapcoin\",\"Beldex\",\"Horizen\",\"BitcoinPlus\"],\"ProofType\":{\"__ndarray__\":\"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\",\"dtype\":\"int32\",\"order\":\"little\",\"shape\":[533]},\"TotalCoinSupply\":[\"42\",\"532000000\",\"314159265359\",\"21000000\",\"0\",\"84000000\",\"22000000\",\"0\",\"210000000\",\"21000000\",\"3600570502\",\"21000000000\",\"22000000\",\"12500000\",\"21000000\",\"350000000\",\"20000000\",\"64000000\",\"16768584\",\"0\",\"2000000000\",\"384000000000\",\"169795588\",\"250000000\",\"100000000\",\"0\",\"247000000\",\"84000000\",\"48166000\",\"500000\",\"21000000 \",\"1000000\",\"13140000\",\"18000000\",\"40000000000\",\"4380000\",\"16555000000\",\"21000000000\",\"13500000000\",\"21000000 \",\"299792458\",\"32000000\",\"0\",\"0\",\"11235813\",\"336000000\",\"1420609614\",\"70000000\",\"72245700\",\"120000000\",\"0\",\"90600000000\",\"22000000\",\"21000000\",\"265420800\",\"20000000\",\"1350000\",\"100000000\",\"42000000\",\"200000000\",\"0\",\"10000000\",\"2419200000\",\"16180000\",\"0\",\"15000000000\",\"21000000\",\"337000000\",\"0\",\"3770000\",\"420000000\",\"98000000\",\"0\",\"21000000\",\"250000000\",\"51200000\",\"0\",\"1000\",\"888000000\",\"100000000\",\"47011968\",\"2300000000\",\"10000000\",\"42000000\",\"80000000\",\"250000\",\"0\",\"1600000000\",\"100000000\",\"23000000\",\"0\",\"84000000\",\"265420800\",\"5500000\",\"0\",\"45000000\",\"0\",\"1000000000\",\"184467440735\",\"10000000000\",\"2158812800\",\"500000000\",\"105120000\",\"68000000\",\"0\",\"1680000000\",\"0\",\"166386000\",\"12000000\",\"2628000\",\"500000000\",\"160000000\",\"0\",\"10000000\",\"1000000000\",\"1000000000\",\"20000000\",\"0\",\"0\",\"3371337\",\"20000000\",\"10000000000\",\"1840000000\",\"619478\",\"21000000\",\"92000000000\",\"0\",\"78000000\",\"33000000\",\"65789100\",\"53760000\",\"5060000\",\"21000000\",\"0\",\"210240000\",\"250000000\",\"100000000\",\"16906397\",\"50000000\",\"0\",\"1000000000\",\"26298000\",\"16000000\",\"21000000\",\"21000000\",\"210000000\",\"81962100\",\"22000000\",\"26550000000\",\"84000000\",\"10500000\",\"21626280000 \",\"0\",\"42000000\",\"221052632\",\"84000000\",\"30000000\",\"168351300\",\"24000000\",\"384000000\",\" 99000000000\",\"40000000\",\"2147483647\",\"20000000\",\"20000000\",\"25000000\",\"75000000\",\"222725000\",\"525000000\",\"90000000\",\"139000000\",\"616448\",\"33500000\",\"2000000000\",\"44333333\",\"100000000\",\"200000000\",\"25000000\",\"657000000\",\"200000000\",\"50000000\",\"90000000\",\"10000000\",\"21000000\",\"9736000\",\"3000000\",\"21000000\",\"1200000000\",\"0\",\"200000000\",\"0\",\"10638298\",\"3100000000\",\"30000000\",\"20000000000\",\"74000000\",\"0\",\"1500000000\",\"21400000\",\"39999898\",\"2500124\",\"100000000\",\"301000000\",\"7506000000\",\"26205539\",\"21000000\",\"125000000\",\"30000000\",\"10000000000\",\"500000000\",\"850000000\",\"3853326.77707314\",\"50000000\",\"38540000 \",\"42000000\",\"228000000\",\"20000000\",\"60000000\",\"20000000\",\"33000000\",\"76500000\",\"28000000\",\"650659833\",\"5000000\",\"21000000\",\"144000000\",\"32514916898\",\"13000000\",\"3315789\",\"15000000\",\"78835200\",\"2714286\",\"25000000\",\"9999999\",\"500000000\",\"21000000\",\"9354000\",\"20000000\",\"100000000000\",\"21933333\",\"185000000\",\"55000000\",\"110000000\",\"3360000\",\"14524851.4827\",\"1000000000\",\"17000000\",\"1000000000\",\"100000000 \",\"21000000\",\"34426423\",\"2232901\",\"100000000\",\"36900000\",\"110000000\",\"4000000000\",\"110290030\",\"100000000\",\"48252000\",\"400000000\",\"500000000\",\"21212121\",\"28600000\",\"1000000000\",\"75000000000\",\"40000000\",\"35520400\",\"2000000000\",\"2500000000\",\"30000000\",\"105000000\",\"90000000000\",\"200084200\",\"72000000\",\"100000000\",\"105000000\",\"50000000000\",\"0\",\"340282367\",\"30000000\",\"2000000000\",\"10000000\",\"100000000\",\"120000000\",\"100000000\",\"19276800\",\"30000000\",\" 75000000\",\"60000000\",\"18900000\",\"50000000000\",\"54000000\",\"18898187.6216583\",\"21000000\",\"200000000000\",\"5000000000\",\"137500000\",\"1100000000\",\"100000000\",\"21000000\",\"9507271\",\"17405891.19707116\",\"86712634466\",\"10500000000\",\"61599965\",\"0\",\"20000000\",\"84000000\",\"100000000\",\"100000000\",\"48252000\",\"4200000\",\"88888888\",\"91388946\",\"45000000000\",\"27000000\",\"21000000000\",\"400000000\",\"1800000000\",\"15733333\",\"27000000\",\"24000000\",\"21000000\",\"25000000000\",\"100000000\",\"1200000000\",\"60000000\",\"156306732.71\",\"21000000\",\"200000000\",\"100000000\",\"21000000\",\"14788275.991\",\"9000000000\",\"350000000\",\"45000000\",\"280000000\",\"31800000\",\"144000000\",\"500000000\",\"30000000000\",\"210000000\",\"660000000\",\"210000000\",\"85000000000\",\"12500000\",\"10000000000\",\"27716121\",\"20000000\",\"550000000\",\"999481516\",\"50000000000\",\"150000000\",\"4999999999\",\"50000000\",\" 90000000000\",\"19800000\",\"21000000\",\"120000000\",\"500000000\",\"64000000\",\"900000000\",\"4000000\",\"21000000\",\"23000000\",\"20166000\",\"23000000\",\"25000000\",\"1618033\",\"30000000\",\"1000000000000\",\"16600000\",\"232000000\",\"336000000\",\"10000000000\",\"100000000\",\"1100000000\",\"800000000\",\"5200000000\",\"840000000\",\"40000000\",\"18406979840\",\"500000000\",\"19340594\",\"252460800\",\"25000000\",\"60000000\",\"124000000\",\"1000000000\",\"6500000000\",\"1000000000\",\"21000000\",\"25000000\",\"50000000\",\"3000000\",\"5000000\",\"70000000\",\"500000000\",\"300000000\",\"21000000\",\"88000000\",\"30000000\",\"100000000\",\"100000000\",\"200000000\",\"80000000\",\"18400000\",\"45000000\",\"5121951220\",\"21000000\",\"26280000\",\"21000000\",\"18000000\",\"26000000\",\"10500000\",\"600000518\",\"150000000\",\"184000000000\",\"10200000000\",\"44000000\",\"168000000\",\"100000000\",\"1000000000\",\"84000000\",\"90000000\",\"92000000000\",\"650000000 \",\"100262205\",\"18081806 \",\"22075700\",\"21000000\",\"21000000\",\"82546564\",\"21000000\",\"5151000\",\"16880000000\",\"52500000\",\"100000000\",\"22105263\",\"1000000000\",\"1750000000\",\"88188888\",\"210000000\",\"184470000000\",\"55000000\",\"50000000\",\"260000000\",\"210000000\",\"2100000000\",\"366000000\",\"100000000\",\"25000000\",\"18000000000\",\"1000000000\",\"100000000\",\"1000000000\",\"7600000000\",\"50000000\",\"84000000\",\"21000000\",\"70000000000\",\"0\",\"8080000000\",\"54000000\",\"105120001.44\",\"25228800\",\"105000000\",\"21000000\",\"120000000\",\"21000000\",\"262800000\",\"19035999\",\"30886000\",\"13370000\",\"74800000000\",\"100000000\",\"19700000\",\"84000000\",\"500000000\",\"5000000000\",\"420000000\",\"64000000\",\"2100000\",\"168000000\",\"30000000\",\"1000000000\",\"35000000000\",\"98100000000\",\"0\",\"4000000000\",\"200000000\",\"7000000000\",\"54256119\",\"21000000\",\"0\",\"500000000\",\"1000000000\",\"10500000000\",\"190000000\",\"1000000000\",\"42000000\",\"15000000\",\"50000000000\",\"400000000\",\"105000000\",\"208000000\",\"160000000\",\"9000000\",\"5000000\",\"182000000\",\"16504333\",\"105000000\",\"159918400\",\"10008835635\",\"300000000\",\"60168145\",\"5000000000\",\"2800000\",\"120000\",\"2100000000\",\"0\",\"24487944\",\"0\",\"1000000000\",\"100000000\",\"8634140\",\"990000000000\",\"1000000000\",\"2000000000\",\"250000000\",\"1400222610\",\"21000000\",\"1000000\"],\"TotalCoinsMined\":{\"__ndarray__\":\"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\",\"dtype\":\"float64\",\"order\":\"little\",\"shape\":[533]}},\"selected\":{\"id\":\"1005\"},\"selection_policy\":{\"id\":\"1040\"}},\"id\":\"1004\",\"type\":\"ColumnDataSource\"},{\"attributes\":{\"source\":{\"id\":\"1004\"}},\"id\":\"1038\",\"type\":\"CDSView\"},{\"attributes\":{},\"id\":\"1021\",\"type\":\"StringFormatter\"},{\"attributes\":{},\"id\":\"1007\",\"type\":\"StringEditor\"},{\"attributes\":{\"children\":[{\"id\":\"1003\"},{\"id\":\"1036\"},{\"id\":\"1043\"}],\"margin\":[0,0,0,0],\"name\":\"Row01616\",\"tags\":[\"embedded\"]},\"id\":\"1002\",\"type\":\"Row\"},{\"attributes\":{},\"id\":\"1011\",\"type\":\"NumberFormatter\"},{\"attributes\":{\"editor\":{\"id\":\"1012\"},\"field\":\"Algorithm\",\"formatter\":{\"id\":\"1011\"},\"title\":\"Algorithm\"},\"id\":\"1013\",\"type\":\"TableColumn\"},{\"attributes\":{\"editor\":{\"id\":\"1022\"},\"field\":\"TotalCoinSupply\",\"formatter\":{\"id\":\"1021\"},\"title\":\"TotalCoinSupply\"},\"id\":\"1023\",\"type\":\"TableColumn\"},{\"attributes\":{},\"id\":\"1022\",\"type\":\"StringEditor\"},{\"attributes\":{},\"id\":\"1027\",\"type\":\"NumberEditor\"},{\"attributes\":{},\"id\":\"1005\",\"type\":\"Selection\"},{\"attributes\":{\"columns\":[{\"id\":\"1008\"},{\"id\":\"1013\"},{\"id\":\"1018\"},{\"id\":\"1023\"},{\"id\":\"1028\"},{\"id\":\"1033\"}],\"height\":300,\"reorderable\":false,\"source\":{\"id\":\"1004\"},\"view\":{\"id\":\"1038\"},\"width\":700},\"id\":\"1036\",\"type\":\"DataTable\"},{\"attributes\":{\"margin\":[5,5,5,5],\"name\":\"HSpacer01621\",\"sizing_mode\":\"stretch_width\"},\"id\":\"1043\",\"type\":\"Spacer\"},{\"attributes\":{\"editor\":{\"id\":\"1007\"},\"field\":\"CoinName\",\"formatter\":{\"id\":\"1006\"},\"title\":\"CoinName\"},\"id\":\"1008\",\"type\":\"TableColumn\"},{\"attributes\":{},\"id\":\"1016\",\"type\":\"NumberFormatter\"},{\"attributes\":{},\"id\":\"1012\",\"type\":\"IntEditor\"},{\"attributes\":{\"editor\":{\"id\":\"1027\"},\"field\":\"TotalCoinsMined\",\"formatter\":{\"id\":\"1026\"},\"title\":\"TotalCoinsMined\"},\"id\":\"1028\",\"type\":\"TableColumn\"},{\"attributes\":{\"editor\":{\"id\":\"1032\"},\"field\":\"Class\",\"formatter\":{\"id\":\"1031\"},\"title\":\"Class\"},\"id\":\"1033\",\"type\":\"TableColumn\"},{\"attributes\":{\"editor\":{\"id\":\"1017\"},\"field\":\"ProofType\",\"formatter\":{\"id\":\"1016\"},\"title\":\"ProofType\"},\"id\":\"1018\",\"type\":\"TableColumn\"},{\"attributes\":{\"margin\":[5,5,5,5],\"name\":\"HSpacer01620\",\"sizing_mode\":\"stretch_width\"},\"id\":\"1003\",\"type\":\"Spacer\"},{\"attributes\":{},\"id\":\"1031\",\"type\":\"NumberFormatter\"},{\"attributes\":{},\"id\":\"1040\",\"type\":\"UnionRenderers\"},{\"attributes\":{},\"id\":\"1017\",\"type\":\"IntEditor\"},{\"attributes\":{\"format\":\"0,0.0[00000]\"},\"id\":\"1026\",\"type\":\"NumberFormatter\"},{\"attributes\":{},\"id\":\"1006\",\"type\":\"StringFormatter\"}],\"root_ids\":[\"1002\"]},\"title\":\"Bokeh Application\",\"version\":\"2.3.3\"}};\n",
       "    var render_items = [{\"docid\":\"28e6a6a6-119b-4cbb-a539-f3017f2dc595\",\"root_ids\":[\"1002\"],\"roots\":{\"1002\":\"4dac88fb-72e6-4dc3-a44a-a795b7fcebaf\"}}];\n",
       "    root.Bokeh.embed.embed_items_notebook(docs_json, render_items);\n",
       "  }\n",
       "  if (root.Bokeh !== undefined && root.Bokeh.Panel !== undefined) {\n",
       "    embed_document(root);\n",
       "  } else {\n",
       "    var attempts = 0;\n",
       "    var timer = setInterval(function(root) {\n",
       "      if (root.Bokeh !== undefined && root.Bokeh.Panel !== undefined) {\n",
       "        clearInterval(timer);\n",
       "        embed_document(root);\n",
       "      } else if (document.readyState == \"complete\") {\n",
       "        attempts++;\n",
       "        if (attempts > 100) {\n",
       "          clearInterval(timer);\n",
       "          console.log(\"Bokeh: ERROR: Unable to run BokehJS code because BokehJS library is missing\");\n",
       "        }\n",
       "      }\n",
       "    }, 10, root)\n",
       "  }\n",
       "})(window);</script>"
      ],
      "text/plain": [
       ":Table   [CoinName,Algorithm,ProofType,TotalCoinSupply,TotalCoinsMined,Class]"
      ]
     },
     "execution_count": 29,
     "metadata": {
      "application/vnd.holoviews_exec.v0+json": {
       "id": "1002"
      }
     },
     "output_type": "execute_result"
    }
   ],
   "source": [
    "# Table with tradable cryptos\n",
    "clustered_df.hvplot.table(columns=['CoinName', 'Algorithm', 'ProofType', 'TotalCoinSupply', 'TotalCoinsMined', 'Class'], sortable=True, selectable=True)"
   ]
  },
  {
   "cell_type": "code",
   "execution_count": 30,
   "metadata": {},
   "outputs": [
    {
     "data": {
      "text/plain": [
       "533"
      ]
     },
     "execution_count": 30,
     "metadata": {},
     "output_type": "execute_result"
    }
   ],
   "source": [
    "# Print the total number of tradable cryptocurrencies\n",
    "len(clustered_df.CoinName)"
   ]
  },
  {
   "cell_type": "markdown",
   "metadata": {},
   "source": [
    "#### Scatter Plot with Tradable Cryptocurrencies"
   ]
  },
  {
   "cell_type": "code",
   "execution_count": 35,
   "metadata": {},
   "outputs": [
    {
     "data": {
      "text/html": [
       "<div>\n",
       "<style scoped>\n",
       "    .dataframe tbody tr th:only-of-type {\n",
       "        vertical-align: middle;\n",
       "    }\n",
       "\n",
       "    .dataframe tbody tr th {\n",
       "        vertical-align: top;\n",
       "    }\n",
       "\n",
       "    .dataframe thead th {\n",
       "        text-align: right;\n",
       "    }\n",
       "</style>\n",
       "<table border=\"1\" class=\"dataframe\">\n",
       "  <thead>\n",
       "    <tr style=\"text-align: right;\">\n",
       "      <th></th>\n",
       "      <th>TotalCoinSupply</th>\n",
       "      <th>TotalCoinMined</th>\n",
       "      <th>CoinName</th>\n",
       "      <th>Class</th>\n",
       "    </tr>\n",
       "  </thead>\n",
       "  <tbody>\n",
       "    <tr>\n",
       "      <th>0</th>\n",
       "      <td>4.200000e-11</td>\n",
       "      <td>0.005942</td>\n",
       "      <td>42 Coin</td>\n",
       "      <td>0</td>\n",
       "    </tr>\n",
       "    <tr>\n",
       "      <th>2</th>\n",
       "      <td>5.320000e-04</td>\n",
       "      <td>0.007002</td>\n",
       "      <td>404Coin</td>\n",
       "      <td>0</td>\n",
       "    </tr>\n",
       "    <tr>\n",
       "      <th>5</th>\n",
       "      <td>3.141593e-01</td>\n",
       "      <td>0.035342</td>\n",
       "      <td>EliteCoin</td>\n",
       "      <td>0</td>\n",
       "    </tr>\n",
       "    <tr>\n",
       "      <th>7</th>\n",
       "      <td>2.100000e-05</td>\n",
       "      <td>0.005960</td>\n",
       "      <td>Bitcoin</td>\n",
       "      <td>0</td>\n",
       "    </tr>\n",
       "    <tr>\n",
       "      <th>8</th>\n",
       "      <td>0.000000e+00</td>\n",
       "      <td>0.006050</td>\n",
       "      <td>Ethereum</td>\n",
       "      <td>1</td>\n",
       "    </tr>\n",
       "  </tbody>\n",
       "</table>\n",
       "</div>"
      ],
      "text/plain": [
       "   TotalCoinSupply   TotalCoinMined   CoinName  Class\n",
       "0     4.200000e-11         0.005942    42 Coin      0\n",
       "2     5.320000e-04         0.007002    404Coin      0\n",
       "5     3.141593e-01         0.035342  EliteCoin      0\n",
       "7     2.100000e-05         0.005960    Bitcoin      0\n",
       "8     0.000000e+00         0.006050   Ethereum      1"
      ]
     },
     "execution_count": 35,
     "metadata": {},
     "output_type": "execute_result"
    }
   ],
   "source": [
    "# Scale data to create the scatter plot\n",
    "mm_scaler = MinMaxScaler()\n",
    "plot_data = mm_scaler.fit_transform(\n",
    "    clustered_df[[\"TotalCoinSupply\", \"TotalCoinsMined\"]]\n",
    ")\n",
    "plot_df = pd.DataFrame(\n",
    "    plot_data, columns=[\"TotalCoinSupply\", \" TotalCoinMined\" ], index=clustered_df.index\n",
    ")\n",
    "plot_df[\"CoinName\"] = clustered_df[\"CoinName\"]\n",
    "plot_df[\"Class\"] = clustered_df[\"Class\"]\n",
    "plot_df.head()"
   ]
  },
  {
   "cell_type": "code",
   "execution_count": 31,
   "metadata": {},
   "outputs": [
    {
     "data": {},
     "metadata": {},
     "output_type": "display_data"
    },
    {
     "data": {
      "application/vnd.holoviews_exec.v0+json": "",
      "text/html": [
       "<div id='1055'>\n",
       "\n",
       "\n",
       "\n",
       "\n",
       "\n",
       "  <div class=\"bk-root\" id=\"45b1acc9-68d0-435b-96ab-463a132dd8bc\" data-root-id=\"1055\"></div>\n",
       "</div>\n",
       "<script type=\"application/javascript\">(function(root) {\n",
       "  function embed_document(root) {\n",
       "    var docs_json = {\"b0d20083-85e5-4f60-a29a-752246ed330a\":{\"defs\":[],\"roots\":{\"references\":[{\"attributes\":{\"end\":1032670428767.6898,\"reset_end\":1032670428767.6898,\"reset_start\":-48599692876.008446,\"start\":-48599692876.008446,\"tags\":[[[\"TotalCoinsMined\",\"TotalCoinsMined\",null]]]},\"id\":\"1057\",\"type\":\"Range1d\"},{\"attributes\":{},\"id\":\"1160\",\"type\":\"UnionRenderers\"},{\"attributes\":{\"source\":{\"id\":\"1118\"}},\"id\":\"1125\",\"type\":\"CDSView\"},{\"attributes\":{},\"id\":\"1113\",\"type\":\"UnionRenderers\"},{\"attributes\":{},\"id\":\"1076\",\"type\":\"CategoricalTicker\"},{\"attributes\":{\"fill_color\":{\"value\":\"#fc4f30\"},\"line_color\":{\"value\":\"#fc4f30\"},\"size\":{\"value\":5.477225575051661},\"x\":{\"field\":\"TotalCoinsMined\"},\"y\":{\"field\":\"TotalCoinSupply\"}},\"id\":\"1121\",\"type\":\"Scatter\"},{\"attributes\":{\"axis_label\":\"TotalCoinsMined\",\"formatter\":{\"id\":\"1092\"},\"major_label_policy\":{\"id\":\"1093\"},\"ticker\":{\"id\":\"1072\"}},\"id\":\"1071\",\"type\":\"LinearAxis\"},{\"attributes\":{\"fill_color\":{\"value\":\"#30a2da\"},\"line_color\":{\"value\":\"#30a2da\"},\"size\":{\"value\":5.477225575051661},\"x\":{\"field\":\"TotalCoinsMined\"},\"y\":{\"field\":\"TotalCoinSupply\"}},\"id\":\"1100\",\"type\":\"Scatter\"},{\"attributes\":{},\"id\":\"1069\",\"type\":\"CategoricalScale\"},{\"attributes\":{\"data\":{\"Class\":[1,1,1,1,1,1,1,1,1,1,1,1,1,1,1,1,1,1,1,1,1,1,1,1,1,1,1,1,1,1,1,1,1,1,1,1,1,1,1,1,1,1,1,1,1,1,1,1,1,1,1,1,1,1,1,1,1,1,1,1,1,1,1,1,1,1,1,1,1,1,1,1,1,1,1,1,1,1,1,1,1,1,1,1,1,1,1,1,1,1,1,1,1,1,1,1,1,1,1,1,1,1,1,1,1,1,1,1,1,1,1,1,1,1,1,1,1,1,1,1,1,1,1,1,1,1,1,1,1,1,1,1,1,1,1,1,1,1,1,1,1,1,1,1,1,1,1,1,1,1,1,1,1,1,1,1,1,1,1,1,1,1,1,1,1,1,1,1,1,1,1,1,1,1,1,1,1,1,1,1,1,1,1,1,1,1,1,1,1],\"CoinName\":[\"Ethereum\",\"Monero\",\"Ethereum Classic\",\"ZCash\",\"Bitshares\",\"DigiByte\",\"PayCoin\",\"MyriadCoin\",\"Riecoin\",\"CasinoCoin\",\"Diamond\",\"Verge\",\"Exclusive Coin\",\"FeatherCoin\",\"MediterraneanCoin\",\"MintCoin\",\"Nautilus Coin\",\"TeslaCoin\",\"TittieCoin\",\"Vertcoin\",\"Crypti\",\"ByteCoin\",\"DigitalNote \",\"BurstCoin\",\"StorjCoin\",\"FairCoin\",\"RubyCoin\",\"Dnotes\",\"Unitus\",\"Cryptonite\",\"Crypto\",\"Diggits\",\"Expanse\",\"Siacoin\",\"Decred\",\"HOdlcoin\",\"GPU Coin\",\"SoilCoin\",\"ZeitCoin\",\"SafeExchangeCoin\",\"Nebuchadnezzar\",\"Let it Ride\",\"Karbo\",\"Circuits of Value\",\"BitCurrency\",\"Opair\",\"ZCoin\",\"CoffeeCoin\",\"TeamUP\",\"Elementrem\",\"ZClassic\",\"ARK\",\"FreeCoin\",\"Creatio\",\"Cannabis Industry Coin\",\"PandaCoin\",\"Allsafe\",\"Bikercoins\",\"HexxCoin\",\"Citadel\",\"Zilbercoin\",\"Zero\",\"Zoin\",\"RenosCoin\",\"DubaiCoin\",\"TajCoin\",\"Atmos\",\"Coinonat\",\"MacronCoin\",\"ProCurrency\",\"GrowthCoin\",\"Phreak\",\"Ultimate Secure Cash\",\"QTUM\",\"Quantum Resistant Ledger\",\"Espers\",\"Dynamic\",\"Nano\",\"ChanCoin\",\"Dinastycoin\",\"LeviarCoin\",\"SmartCash\",\"Signatum\",\"Draftcoin\",\"Stakecoin\",\"Sumokoin\",\"Obsidian\",\"Cardano\",\"BitcoinZ\",\"VIVO Coin\",\"Rupee\",\"Bitcoin Gold\",\"Pirl\",\"KekCoin\",\"Infinity Economics\",\"Innova\",\"Ellaism\",\"GoByte\",\"Lamden Tau\",\"SHIELD\",\"UltraNote\",\"BitCoal\",\"DaxxCoin\",\"Bulwark\",\"Kalkulus\",\"Lethean\",\"Photon\",\"SparksPay\",\"Digiwage\",\"GunCoin\",\"Interzone\",\"TokenPay\",\"1717 Masonic Commemorative Token\",\"TurtleCoin\",\"Niobio Cash\",\"Travelflex\",\"KREDS\",\"BiblePay\",\"Stipend\",\"Poa Network\",\"Velox\",\"Callisto Network\",\"BitTube\",\"Aidos Kuneen\",\"Bitrolium\",\"MedicCoin\",\"Alpenschillling\",\"Bitcoin Green\",\"Deviant Coin\",\"Semux\",\"Zealium\",\"Monero Classic\",\"Jumpcoin\",\"Infinex\",\"HollyWoodCoin\",\"GINcoin\",\"PlatinCoin\",\"Loki\",\"Newton Coin\",\"Xt3ch\",\"MassGrid\",\"PluraCoin\",\"Lynx\",\"Poseidon Quark\",\"BitcoinWSpectrum\",\"Muse\",\"PlusOneCoin\",\"Dystem\",\"Peony Coin\",\"Vitae\",\"Webchain\",\"Ryo\",\"Qwertycoin\",\"MMOCoin\",\"Ketan\",\"XDNA\",\"Acute Angle Cloud\",\"CrypticCoin\",\"Actinium\",\"FREDEnergy\",\"Universal Molecule\",\"Lithium\",\"PirateCash\",\"Exosis\",\"Beam\",\"Bithereum\",\"Crypto Sports\",\"ALAX\",\"UFO Coin\",\"BlakeCoin\",\"NeosCoin\",\"Groestlcoin\",\"Radium\",\"Lisk\",\"HiCoin\",\"Fiii\",\"JoinCoin\",\"Vollar\",\"EOS\",\"Reality Clash\",\"Oxycoin\",\"TigerCash\",\"Waves\",\"Particl\",\"Nxt\",\"ZEPHYR\",\"Beldex\",\"Horizen\",\"BitcoinPlus\"],\"TotalCoinSupply\":[\"0\",\"0\",\"210000000\",\"21000000\",\"3600570502\",\"21000000000\",\"12500000\",\"2000000000\",\"84000000\",\"40000000000\",\"4380000\",\"16555000000\",\"0\",\"336000000\",\"200000000\",\"0\",\"16180000\",\"100000000\",\"2300000000\",\"84000000\",\"0\",\"184467440735\",\"10000000000\",\"2158812800\",\"500000000\",\"0\",\"0\",\"500000000\",\"0\",\"1840000000\",\"65789100\",\"100000000\",\"16906397\",\"0\",\"21000000\",\"81962100\",\"221052632\",\"30000000\",\" 99000000000\",\"2147483647\",\"20000000\",\"33500000\",\"10000000\",\"1200000000\",\"0\",\"74000000\",\"21400000\",\"39999898\",\"301000000\",\"26205539\",\"21000000\",\"125000000\",\"50000000\",\"20000000\",\"21000000\",\"32514916898\",\"15000000\",\"25000000\",\"9999999\",\"185000000\",\"55000000\",\"17000000\",\"21000000\",\"34426423\",\"2232901\",\"36900000\",\"110290030\",\"48252000\",\"400000000\",\"75000000000\",\"2000000000\",\"30000000\",\"200084200\",\"100000000\",\"105000000\",\"50000000000\",\"0\",\"340282367\",\"30000000\",\"2000000000\",\"54000000\",\"5000000000\",\"137500000\",\"17405891.19707116\",\"61599965\",\"88888888\",\"91388946\",\"45000000000\",\"21000000000\",\"27000000\",\"24000000\",\"21000000\",\"156306732.71\",\"21000000\",\"9000000000\",\"45000000\",\"280000000\",\"31800000\",\"500000000\",\"660000000\",\"85000000000\",\"12500000\",\"10000000000\",\"27716121\",\"20000000\",\"999481516\",\" 90000000000\",\"21000000\",\"120000000\",\"500000000\",\"23000000\",\"25000000\",\"1618033\",\"1000000000000\",\"336000000\",\"100000000\",\"1100000000\",\"5200000000\",\"19340594\",\"252460800\",\"124000000\",\"6500000000\",\"1000000000\",\"25000000\",\"70000000\",\"500000000\",\"300000000\",\"21000000\",\"88000000\",\"100000000\",\"80000000\",\"18400000\",\"21000000\",\"26280000\",\"26000000\",\"10500000\",\"600000518\",\"150000000\",\"184000000000\",\"44000000\",\"168000000\",\"1000000000\",\"92000000000\",\"650000000 \",\"100262205\",\"18081806 \",\"21000000\",\"21000000\",\"16880000000\",\"100000000\",\"1750000000\",\"88188888\",\"184470000000\",\"260000000\",\"210000000\",\"366000000\",\"1000000000\",\"7600000000\",\"84000000\",\"8080000000\",\"105120001.44\",\"25228800\",\"105000000\",\"21000000\",\"262800000\",\"30886000\",\"13370000\",\"1000000000\",\"4000000000\",\"7000000000\",\"21000000\",\"105000000\",\"9000000\",\"159918400\",\"10008835635\",\"5000000000\",\"2800000\",\"2100000000\",\"0\",\"24487944\",\"0\",\"1000000000\",\"100000000\",\"8634140\",\"1000000000\",\"2000000000\",\"1400222610\",\"21000000\",\"1000000\"],\"TotalCoinsMined\":{\"__ndarray__\":\"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\",\"dtype\":\"float64\",\"order\":\"little\",\"shape\":[189]}},\"selected\":{\"id\":\"1119\"},\"selection_policy\":{\"id\":\"1136\"}},\"id\":\"1118\",\"type\":\"ColumnDataSource\"},{\"attributes\":{\"callback\":null,\"renderers\":[{\"id\":\"1103\"},{\"id\":\"1124\"},{\"id\":\"1146\"}],\"tags\":[\"hv_created\"],\"tooltips\":[[\"Class\",\"@{Class}\"],[\"TotalCoinsMined\",\"@{TotalCoinsMined}\"],[\"TotalCoinSupply\",\"@{TotalCoinSupply}\"],[\"CoinName\",\"@{CoinName}\"]]},\"id\":\"1059\",\"type\":\"HoverTool\"},{\"attributes\":{\"axis\":{\"id\":\"1071\"},\"grid_line_color\":null,\"ticker\":null},\"id\":\"1074\",\"type\":\"Grid\"},{\"attributes\":{\"data_source\":{\"id\":\"1118\"},\"glyph\":{\"id\":\"1121\"},\"hover_glyph\":null,\"muted_glyph\":{\"id\":\"1123\"},\"nonselection_glyph\":{\"id\":\"1122\"},\"selection_glyph\":{\"id\":\"1139\"},\"view\":{\"id\":\"1125\"}},\"id\":\"1124\",\"type\":\"GlyphRenderer\"},{\"attributes\":{\"children\":[{\"id\":\"1056\"},{\"id\":\"1062\"},{\"id\":\"1290\"}],\"margin\":[0,0,0,0],\"name\":\"Row01793\",\"tags\":[\"embedded\"]},\"id\":\"1055\",\"type\":\"Row\"},{\"attributes\":{},\"id\":\"1067\",\"type\":\"LinearScale\"},{\"attributes\":{\"angle\":{\"value\":0.0},\"fill_alpha\":{\"value\":1.0},\"fill_color\":{\"value\":\"#fc4f30\"},\"hatch_alpha\":{\"value\":1.0},\"hatch_color\":{\"value\":\"black\"},\"hatch_scale\":{\"value\":12.0},\"hatch_weight\":{\"value\":1.0},\"line_alpha\":{\"value\":1.0},\"line_cap\":{\"value\":\"butt\"},\"line_color\":{\"value\":\"#fc4f30\"},\"line_dash\":{\"value\":[]},\"line_dash_offset\":{\"value\":0},\"line_join\":{\"value\":\"bevel\"},\"line_width\":{\"value\":1},\"marker\":{\"value\":\"circle\"},\"size\":{\"value\":5.477225575051661},\"x\":{\"field\":\"TotalCoinsMined\"},\"y\":{\"field\":\"TotalCoinSupply\"}},\"id\":\"1139\",\"type\":\"Scatter\"},{\"attributes\":{\"fill_color\":{\"value\":\"#e5ae38\"},\"line_color\":{\"value\":\"#e5ae38\"},\"size\":{\"value\":5.477225575051661},\"x\":{\"field\":\"TotalCoinsMined\"},\"y\":{\"field\":\"TotalCoinSupply\"}},\"id\":\"1143\",\"type\":\"Scatter\"},{\"attributes\":{\"label\":{\"value\":\"0\"},\"renderers\":[{\"id\":\"1103\"}]},\"id\":\"1116\",\"type\":\"LegendItem\"},{\"attributes\":{},\"id\":\"1119\",\"type\":\"Selection\"},{\"attributes\":{\"fill_alpha\":{\"value\":0.2},\"fill_color\":{\"value\":\"#fc4f30\"},\"line_alpha\":{\"value\":0.2},\"line_color\":{\"value\":\"#fc4f30\"},\"size\":{\"value\":5.477225575051661},\"x\":{\"field\":\"TotalCoinsMined\"},\"y\":{\"field\":\"TotalCoinSupply\"}},\"id\":\"1123\",\"type\":\"Scatter\"},{\"attributes\":{\"below\":[{\"id\":\"1071\"}],\"center\":[{\"id\":\"1074\"},{\"id\":\"1077\"}],\"height\":300,\"left\":[{\"id\":\"1075\"}],\"margin\":[5,5,5,5],\"min_border_bottom\":10,\"min_border_left\":10,\"min_border_right\":10,\"min_border_top\":10,\"renderers\":[{\"id\":\"1103\"},{\"id\":\"1124\"},{\"id\":\"1146\"}],\"right\":[{\"id\":\"1115\"}],\"sizing_mode\":\"fixed\",\"title\":{\"id\":\"1063\"},\"toolbar\":{\"id\":\"1084\"},\"width\":700,\"x_range\":{\"id\":\"1057\"},\"x_scale\":{\"id\":\"1067\"},\"y_range\":{\"id\":\"1058\"},\"y_scale\":{\"id\":\"1069\"}},\"id\":\"1062\",\"subtype\":\"Figure\",\"type\":\"Plot\"},{\"attributes\":{\"fill_alpha\":{\"value\":0.1},\"fill_color\":{\"value\":\"#30a2da\"},\"line_alpha\":{\"value\":0.1},\"line_color\":{\"value\":\"#30a2da\"},\"size\":{\"value\":5.477225575051661},\"x\":{\"field\":\"TotalCoinsMined\"},\"y\":{\"field\":\"TotalCoinSupply\"}},\"id\":\"1101\",\"type\":\"Scatter\"},{\"attributes\":{\"fill_alpha\":{\"value\":0.1},\"fill_color\":{\"value\":\"#fc4f30\"},\"line_alpha\":{\"value\":0.1},\"line_color\":{\"value\":\"#fc4f30\"},\"size\":{\"value\":5.477225575051661},\"x\":{\"field\":\"TotalCoinsMined\"},\"y\":{\"field\":\"TotalCoinSupply\"}},\"id\":\"1122\",\"type\":\"Scatter\"},{\"attributes\":{\"angle\":{\"value\":0.0},\"fill_alpha\":{\"value\":1.0},\"fill_color\":{\"value\":\"#e5ae38\"},\"hatch_alpha\":{\"value\":1.0},\"hatch_color\":{\"value\":\"black\"},\"hatch_scale\":{\"value\":12.0},\"hatch_weight\":{\"value\":1.0},\"line_alpha\":{\"value\":1.0},\"line_cap\":{\"value\":\"butt\"},\"line_color\":{\"value\":\"#e5ae38\"},\"line_dash\":{\"value\":[]},\"line_dash_offset\":{\"value\":0},\"line_join\":{\"value\":\"bevel\"},\"line_width\":{\"value\":1},\"marker\":{\"value\":\"circle\"},\"size\":{\"value\":5.477225575051661},\"x\":{\"field\":\"TotalCoinsMined\"},\"y\":{\"field\":\"TotalCoinSupply\"}},\"id\":\"1163\",\"type\":\"Scatter\"},{\"attributes\":{},\"id\":\"1098\",\"type\":\"Selection\"},{\"attributes\":{\"data\":{\"Class\":[2],\"CoinName\":[\"BitTorrent\"],\"TotalCoinSupply\":[\"990000000000\"],\"TotalCoinsMined\":{\"__ndarray__\":\"xfR7nv3PbEI=\",\"dtype\":\"float64\",\"order\":\"little\",\"shape\":[1]}},\"selected\":{\"id\":\"1141\"},\"selection_policy\":{\"id\":\"1160\"}},\"id\":\"1140\",\"type\":\"ColumnDataSource\"},{\"attributes\":{\"label\":{\"value\":\"1\"},\"renderers\":[{\"id\":\"1124\"}]},\"id\":\"1138\",\"type\":\"LegendItem\"},{\"attributes\":{},\"id\":\"1079\",\"type\":\"PanTool\"},{\"attributes\":{\"margin\":[5,5,5,5],\"name\":\"HSpacer01797\",\"sizing_mode\":\"stretch_width\"},\"id\":\"1056\",\"type\":\"Spacer\"},{\"attributes\":{},\"id\":\"1080\",\"type\":\"WheelZoomTool\"},{\"attributes\":{\"axis_label\":\"TotalCoinSupply\",\"formatter\":{\"id\":\"1095\"},\"major_label_policy\":{\"id\":\"1094\"},\"ticker\":{\"id\":\"1076\"}},\"id\":\"1075\",\"type\":\"CategoricalAxis\"},{\"attributes\":{\"data\":{\"Class\":[0,0,0,0,0,0,0,0,0,0,0,0,0,0,0,0,0,0,0,0,0,0,0,0,0,0,0,0,0,0,0,0,0,0,0,0,0,0,0,0,0,0,0,0,0,0,0,0,0,0,0,0,0,0,0,0,0,0,0,0,0,0,0,0,0,0,0,0,0,0,0,0,0,0,0,0,0,0,0,0,0,0,0,0,0,0,0,0,0,0,0,0,0,0,0,0,0,0,0,0,0,0,0,0,0,0,0,0,0,0,0,0,0,0,0,0,0,0,0,0,0,0,0,0,0,0,0,0,0,0,0,0,0,0,0,0,0,0,0,0,0,0,0,0,0,0,0,0,0,0,0,0,0,0,0,0,0,0,0,0,0,0,0,0,0,0,0,0,0,0,0,0,0,0,0,0,0,0,0,0,0,0,0,0,0,0,0,0,0,0,0,0,0,0,0,0,0,0,0,0,0,0,0,0,0,0,0,0,0,0,0,0,0,0,0,0,0,0,0,0,0,0,0,0,0,0,0,0,0,0,0,0,0,0,0,0,0,0,0,0,0,0,0,0,0,0,0,0,0,0,0,0,0,0,0,0,0,0,0,0,0,0,0,0,0,0,0,0,0,0,0,0,0,0,0,0,0,0,0,0,0,0,0,0,0,0,0,0,0,0,0,0,0,0,0,0,0,0,0,0,0,0,0,0,0,0,0,0,0,0,0,0,0,0,0,0,0,0,0,0,0,0,0,0,0,0,0,0,0,0,0,0,0,0,0,0,0,0,0,0,0,0,0],\"CoinName\":[\"42 Coin\",\"404Coin\",\"EliteCoin\",\"Bitcoin\",\"Litecoin\",\"Dash\",\"BitcoinDark\",\"ProsperCoin\",\"KoboCoin\",\"Spreadcoin\",\"Argentum\",\"Aurora Coin\",\"BlueCoin\",\"MoonCoin\",\"ZetaCoin\",\"SexCoin\",\"Quatloo\",\"EnergyCoin\",\"QuarkCoin\",\"Digitalcoin \",\"BitBar\",\"Catcoin\",\"CryptoBullion\",\"CannaCoin\",\"CryptCoin\",\"DevCoin\",\"EarthCoin\",\"E-Gulden\",\"Einsteinium\",\"Emerald\",\"FlutterCoin\",\"Franko\",\"GrandCoin\",\"GlobalCoin\",\"GoldCoin\",\"HoboNickels\",\"HyperStake\",\"Infinite Coin\",\"IOCoin\",\"IXcoin\",\"KrugerCoin\",\"LuckyCoin\",\"Litebar \",\"MaxCoin\",\"MegaCoin\",\"MinCoin\",\"MazaCoin\",\"NavCoin\",\"NobleCoin\",\"Namecoin\",\"NyanCoin\",\"OpalCoin\",\"Orbitcoin\",\"PotCoin\",\"PhoenixCoin\",\"Reddcoin\",\"RonPaulCoin\",\"StableCoin\",\"SmartCoin\",\"SuperCoin\",\"SyncCoin\",\"SysCoin\",\"TigerCoin\",\"TorCoin\",\"TerraCoin\",\"UnbreakableCoin\",\"Unobtanium\",\"UroCoin\",\"UnitaryStatus Dollar\",\"UltraCoin\",\"ViaCoin\",\"VeriCoin\",\"WorldCoin\",\"X11 Coin\",\"JouleCoin\",\"StealthCoin\",\"ZCC Coin\",\"MonaCoin\",\"Neutron\",\"Gulden\",\"PesetaCoin\",\"Kore\",\"Wild Beast Coin\",\"Flo\",\"8BIT Coin\",\"Sativa Coin\",\"ArtByte\",\"Folding Coin\",\"Ucoin\",\"CypherPunkCoin\",\"OmniCron\",\"Vtorrent\",\"GreenCoin\",\"MasterCoin\",\"SoonCoin\",\"1Credit\",\"IslaCoin\",\"Nexus\",\"MarsCoin \",\"Anarchists Prime\",\"Droidz\",\"BowsCoin\",\"Squall Coin\",\"Song Coin\",\"BitZeny\",\"Paycon\",\"Emercoin\",\"EverGreenCoin\",\"MindCoin\",\"I0coin\",\"Revolution VR\",\"EDRCoin\",\"Hitcoin\",\"Gamecredits\",\"DubaiCoin\",\"CarpeDiemCoin\",\"PWR Coin\",\"BillaryCoin\",\"Adzcoin\",\"YoCoin\",\"SibCoin\",\"EuropeCoin\",\"SwingCoin\",\"Francs\",\"BolivarCoin\",\"Ratecoin\",\"Revenu\",\"Clockcoin\",\"VIP Tokens\",\"BitSend\",\"Omni\",\"PutinCoin\",\"iBankCoin\",\"Frankywillcoin\",\"MudraCoin\",\"PizzaCoin\",\"Lutetium Coin\",\"Komodo\",\"GoldBlocks\",\"CarterCoin\",\"BitTokens\",\"ZayedCoin\",\"MustangCoin\",\"ZoneCoin\",\"RootCoin\",\"DopeCoin\",\"DollarCoin\",\"Swiscoin\",\"Shilling\",\"BuzzCoin\",\"PesoBit\",\"Halloween Coin\",\"RoyalCoin\",\"GanjaCoin V2\",\"LanaCoin\",\"InsaneCoin\",\"KiloCoin\",\"ArtexCoin\",\"EmberCoin\",\"XenixCoin\",\"PLNCoin\",\"AquariusCoin\",\"Kurrent\",\"Eternity\",\"Eurocoin\",\"BitcoinFast\",\"Stakenet\",\"BitConnect Coin\",\"MoneyCoin\",\"Enigma\",\"Russiacoin\",\"GameUnits\",\"GAKHcoin\",\"LiteCreed\",\"OsmiumCoin\",\"Klingon Empire Darsek\",\"Internet of People\",\"KushCoin\",\"Printerium\",\"PacCoin\",\"Impeach\",\"FirstCoin\",\"BeaverCoin\",\"FindCoin\",\"VaultCoin\",\"OpenChat\",\"Canada eCoin\",\"VirtacoinPlus\",\"Impact\",\"EB3coin\",\"HappyCoin\",\"Condensate\",\"Independent Money System\",\"ArgusCoin\",\"LomoCoin\",\"GoldReserve\",\"BenjiRolls\",\"ILCoin\",\"Degas Coin\",\"HTML5 Coin\",\"EquiTrader\",\"Denarius\",\"DigitalPrice\",\"Virta Unique Coin\",\"Bitcoin Planet\",\"Unify\",\"BritCoin\",\"SocialCoin\",\"ArcticCoin\",\"DAS\",\"Linda\",\"DeepOnion\",\"Bitcore\",\"gCn Coin\",\"Onix\",\"Cream\",\"Bitcoin Cash\",\"Monoeci\",\"Vechain\",\"Sojourn Coin\",\"NewYorkCoin\",\"FrazCoin\",\"Kronecoin\",\"AdCoin\",\"Linx\",\"CoinonatX\",\"Ethereum Dark\",\"Regalcoin\",\"TrezarCoin\",\"Elements\",\"TerraNovaCoin\",\"WomenCoin\",\"Theresa May Coin\",\"NamoCoin\",\"LUXCoin\",\"Xios\",\"Bitcloud 2.0\",\"eBoost\",\"BlackholeCoin\",\"Pura\",\"Magnet\",\"Electra\",\"Bitcoin Diamond\",\"Cash & Back Coin\",\"AC3\",\"GermanCoin\",\"LiteCoin Ultra\",\"PopularCoin\",\"PhantomX\",\"Sucre\",\"IrishCoin\",\"Trollcoin\",\"Litecoin Plus\",\"Monkey Project\",\"Pioneer Coin\",\"UnitedBitcoin\",\"My Big Coin\",\"MUNcoin\",\"Unified Society USDEX\",\"ShareChain\",\"Tokyo Coin\",\"LitecoinCash\",\"BitFlip\",\"LottoCoin\",\"Crypto Improvement Fund\",\"Pushi\",\"Ellerium\",\"Ontology\",\"Poseidon\",\"Bitspace\",\"Briacoin\",\"Ignition\",\"Abjcoin\",\"FuturoCoin\",\"Carebit\",\"Proton\",\"iDealCash\",\"Bitcoin Incognito\",\"KEYCO\",\"Swisscoin\",\"TheVig\",\"EmaratCoin\",\"Dekado\",\"Motion\",\"Axe\",\"Trivechain\",\"Giant\",\"Absolute Coin\",\"HexCoin\",\"TPCash\",\"Urals Coin\",\"ARENON\",\"EUNO\",\"Project Pai\",\"PAXEX\",\"Azart\",\"ThunderStake\",\"Kcash\",\"Xchange\",\"Bettex coin\",\"Bitcoin SV\",\"BitMoney\",\"Junson Ming Chan Coin\",\"HerbCoin\",\"Block-Logic\",\"Oduwa\",\"Galilel\",\"Credit\",\"SLICE\",\"Dash Platinum\",\"Nasdacoin\",\"Beetle Coin\",\"Titan Coin\",\"Award\",\"BLAST\",\"Bitcoin Rhodium\",\"GlobalToken\",\"Insane Coin\",\"LiteDoge\",\"SolarCoin\",\"TruckCoin\",\"OrangeCoin\",\"BitstarCoin\",\"HyperCoin\",\"PinkCoin\",\"Crypto Escudo\",\"AudioCoin\",\"IncaKoin\",\"Piggy Coin\",\"Crown Coin\",\"Genstake\",\"SmileyCoin\",\"XiaoMiCoin\",\"CapriCoin\",\" ClubCoin\",\"Bata\",\"Pakcoin\",\"Creditbit \",\"OKCash\",\"WhiteCoin\",\"FriendshipCoin\",\"Triangles Coin\",\"Gapcoin\"],\"TotalCoinSupply\":[\"42\",\"532000000\",\"314159265359\",\"21000000\",\"84000000\",\"22000000\",\"22000000\",\"21000000\",\"350000000\",\"20000000\",\"64000000\",\"16768584\",\"0\",\"384000000000\",\"169795588\",\"250000000\",\"100000000\",\"0\",\"247000000\",\"48166000\",\"500000\",\"21000000 \",\"1000000\",\"13140000\",\"18000000\",\"21000000000\",\"13500000000\",\"21000000 \",\"299792458\",\"32000000\",\"0\",\"11235813\",\"1420609614\",\"70000000\",\"72245700\",\"120000000\",\"0\",\"90600000000\",\"22000000\",\"21000000\",\"265420800\",\"20000000\",\"1350000\",\"100000000\",\"42000000\",\"10000000\",\"2419200000\",\"0\",\"15000000000\",\"21000000\",\"337000000\",\"0\",\"3770000\",\"420000000\",\"98000000\",\"0\",\"21000000\",\"250000000\",\"51200000\",\"0\",\"1000\",\"888000000\",\"47011968\",\"10000000\",\"42000000\",\"80000000\",\"250000\",\"0\",\"1600000000\",\"100000000\",\"23000000\",\"0\",\"265420800\",\"5500000\",\"45000000\",\"0\",\"1000000000\",\"105120000\",\"68000000\",\"1680000000\",\"166386000\",\"12000000\",\"2628000\",\"160000000\",\"0\",\"10000000\",\"1000000000\",\"1000000000\",\"20000000\",\"0\",\"3371337\",\"20000000\",\"10000000000\",\"619478\",\"21000000\",\"92000000000\",\"0\",\"78000000\",\"33000000\",\"53760000\",\"5060000\",\"21000000\",\"0\",\"210240000\",\"250000000\",\"50000000\",\"1000000000\",\"26298000\",\"16000000\",\"21000000\",\"210000000\",\"22000000\",\"26550000000\",\"84000000\",\"10500000\",\"21626280000 \",\"0\",\"42000000\",\"84000000\",\"168351300\",\"24000000\",\"384000000\",\"40000000\",\"20000000\",\"25000000\",\"75000000\",\"222725000\",\"525000000\",\"90000000\",\"139000000\",\"616448\",\"2000000000\",\"44333333\",\"100000000\",\"200000000\",\"25000000\",\"657000000\",\"200000000\",\"50000000\",\"90000000\",\"21000000\",\"9736000\",\"3000000\",\"21000000\",\"0\",\"200000000\",\"10638298\",\"3100000000\",\"30000000\",\"20000000000\",\"0\",\"1500000000\",\"2500124\",\"100000000\",\"7506000000\",\"30000000\",\"10000000000\",\"500000000\",\"850000000\",\"3853326.77707314\",\"38540000 \",\"42000000\",\"228000000\",\"60000000\",\"20000000\",\"33000000\",\"76500000\",\"28000000\",\"650659833\",\"5000000\",\"144000000\",\"13000000\",\"3315789\",\"78835200\",\"2714286\",\"500000000\",\"21000000\",\"9354000\",\"20000000\",\"100000000000\",\"21933333\",\"110000000\",\"3360000\",\"14524851.4827\",\"1000000000\",\"1000000000\",\"100000000 \",\"100000000\",\"110000000\",\"4000000000\",\"100000000\",\"500000000\",\"21212121\",\"28600000\",\"1000000000\",\"40000000\",\"35520400\",\"2500000000\",\"105000000\",\"90000000000\",\"72000000\",\"10000000\",\"100000000\",\"120000000\",\"100000000\",\"19276800\",\"30000000\",\" 75000000\",\"60000000\",\"18900000\",\"50000000000\",\"18898187.6216583\",\"21000000\",\"200000000000\",\"1100000000\",\"100000000\",\"21000000\",\"9507271\",\"86712634466\",\"10500000000\",\"0\",\"20000000\",\"84000000\",\"100000000\",\"100000000\",\"48252000\",\"4200000\",\"27000000\",\"400000000\",\"1800000000\",\"15733333\",\"25000000000\",\"100000000\",\"1200000000\",\"60000000\",\"21000000\",\"200000000\",\"100000000\",\"14788275.991\",\"350000000\",\"144000000\",\"30000000000\",\"210000000\",\"210000000\",\"550000000\",\"50000000000\",\"150000000\",\"4999999999\",\"50000000\",\"19800000\",\"64000000\",\"900000000\",\"4000000\",\"21000000\",\"23000000\",\"20166000\",\"30000000\",\"16600000\",\"232000000\",\"10000000000\",\"800000000\",\"840000000\",\"40000000\",\"18406979840\",\"500000000\",\"25000000\",\"60000000\",\"1000000000\",\"21000000\",\"50000000\",\"3000000\",\"5000000\",\"30000000\",\"100000000\",\"200000000\",\"45000000\",\"5121951220\",\"21000000\",\"18000000\",\"10200000000\",\"100000000\",\"84000000\",\"90000000\",\"22075700\",\"21000000\",\"82546564\",\"5151000\",\"52500000\",\"22105263\",\"1000000000\",\"210000000\",\"55000000\",\"50000000\",\"2100000000\",\"100000000\",\"25000000\",\"18000000000\",\"1000000000\",\"100000000\",\"50000000\",\"21000000\",\"70000000000\",\"0\",\"54000000\",\"120000000\",\"21000000\",\"19035999\",\"74800000000\",\"100000000\",\"19700000\",\"84000000\",\"500000000\",\"5000000000\",\"420000000\",\"64000000\",\"2100000\",\"168000000\",\"30000000\",\"35000000000\",\"98100000000\",\"0\",\"200000000\",\"54256119\",\"0\",\"500000000\",\"1000000000\",\"10500000000\",\"190000000\",\"1000000000\",\"42000000\",\"15000000\",\"50000000000\",\"400000000\",\"208000000\",\"160000000\",\"5000000\",\"182000000\",\"16504333\",\"105000000\",\"300000000\",\"60168145\",\"120000\",\"250000000\"],\"TotalCoinsMined\":{\"__ndarray__\":\"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\",\"dtype\":\"float64\",\"order\":\"little\",\"shape\":[343]}},\"selected\":{\"id\":\"1098\"},\"selection_policy\":{\"id\":\"1113\"}},\"id\":\"1097\",\"type\":\"ColumnDataSource\"},{\"attributes\":{\"axis\":{\"id\":\"1075\"},\"dimension\":1,\"grid_line_color\":null,\"ticker\":null},\"id\":\"1077\",\"type\":\"Grid\"},{\"attributes\":{},\"id\":\"1078\",\"type\":\"SaveTool\"},{\"attributes\":{\"source\":{\"id\":\"1140\"}},\"id\":\"1147\",\"type\":\"CDSView\"},{\"attributes\":{\"data_source\":{\"id\":\"1140\"},\"glyph\":{\"id\":\"1143\"},\"hover_glyph\":null,\"muted_glyph\":{\"id\":\"1145\"},\"nonselection_glyph\":{\"id\":\"1144\"},\"selection_glyph\":{\"id\":\"1163\"},\"view\":{\"id\":\"1147\"}},\"id\":\"1146\",\"type\":\"GlyphRenderer\"},{\"attributes\":{\"overlay\":{\"id\":\"1083\"}},\"id\":\"1081\",\"type\":\"BoxZoomTool\"},{\"attributes\":{},\"id\":\"1082\",\"type\":\"ResetTool\"},{\"attributes\":{},\"id\":\"1092\",\"type\":\"BasicTickFormatter\"},{\"attributes\":{\"active_multi\":null,\"tools\":[{\"id\":\"1059\"},{\"id\":\"1078\"},{\"id\":\"1079\"},{\"id\":\"1080\"},{\"id\":\"1081\"},{\"id\":\"1082\"}]},\"id\":\"1084\",\"type\":\"Toolbar\"},{\"attributes\":{},\"id\":\"1141\",\"type\":\"Selection\"},{\"attributes\":{\"fill_alpha\":{\"value\":0.2},\"fill_color\":{\"value\":\"#e5ae38\"},\"line_alpha\":{\"value\":0.2},\"line_color\":{\"value\":\"#e5ae38\"},\"size\":{\"value\":5.477225575051661},\"x\":{\"field\":\"TotalCoinsMined\"},\"y\":{\"field\":\"TotalCoinSupply\"}},\"id\":\"1145\",\"type\":\"Scatter\"},{\"attributes\":{\"fill_alpha\":{\"value\":0.1},\"fill_color\":{\"value\":\"#e5ae38\"},\"line_alpha\":{\"value\":0.1},\"line_color\":{\"value\":\"#e5ae38\"},\"size\":{\"value\":5.477225575051661},\"x\":{\"field\":\"TotalCoinsMined\"},\"y\":{\"field\":\"TotalCoinSupply\"}},\"id\":\"1144\",\"type\":\"Scatter\"},{\"attributes\":{\"source\":{\"id\":\"1097\"}},\"id\":\"1104\",\"type\":\"CDSView\"},{\"attributes\":{},\"id\":\"1072\",\"type\":\"BasicTicker\"},{\"attributes\":{},\"id\":\"1093\",\"type\":\"AllLabels\"},{\"attributes\":{\"label\":{\"value\":\"2\"},\"renderers\":[{\"id\":\"1146\"}]},\"id\":\"1162\",\"type\":\"LegendItem\"},{\"attributes\":{},\"id\":\"1136\",\"type\":\"UnionRenderers\"},{\"attributes\":{\"click_policy\":\"mute\",\"items\":[{\"id\":\"1116\"},{\"id\":\"1138\"},{\"id\":\"1162\"}],\"location\":[0,0],\"title\":\"Class\"},\"id\":\"1115\",\"type\":\"Legend\"},{\"attributes\":{\"factors\":[\"42\",\"532000000\",\"314159265359\",\"21000000\",\"84000000\",\"22000000\",\"350000000\",\"20000000\",\"64000000\",\"16768584\",\"0\",\"384000000000\",\"169795588\",\"250000000\",\"100000000\",\"247000000\",\"48166000\",\"500000\",\"21000000 \",\"1000000\",\"13140000\",\"18000000\",\"21000000000\",\"13500000000\",\"299792458\",\"32000000\",\"11235813\",\"1420609614\",\"70000000\",\"72245700\",\"120000000\",\"90600000000\",\"265420800\",\"1350000\",\"42000000\",\"10000000\",\"2419200000\",\"15000000000\",\"337000000\",\"3770000\",\"420000000\",\"98000000\",\"51200000\",\"1000\",\"888000000\",\"47011968\",\"80000000\",\"250000\",\"1600000000\",\"23000000\",\"5500000\",\"45000000\",\"1000000000\",\"105120000\",\"68000000\",\"1680000000\",\"166386000\",\"12000000\",\"2628000\",\"160000000\",\"3371337\",\"10000000000\",\"619478\",\"92000000000\",\"78000000\",\"33000000\",\"53760000\",\"5060000\",\"210240000\",\"50000000\",\"26298000\",\"16000000\",\"210000000\",\"26550000000\",\"10500000\",\"21626280000 \",\"168351300\",\"24000000\",\"384000000\",\"40000000\",\"25000000\",\"75000000\",\"222725000\",\"525000000\",\"90000000\",\"139000000\",\"616448\",\"2000000000\",\"44333333\",\"200000000\",\"657000000\",\"9736000\",\"3000000\",\"10638298\",\"3100000000\",\"30000000\",\"20000000000\",\"1500000000\",\"2500124\",\"7506000000\",\"500000000\",\"850000000\",\"3853326.77707314\",\"38540000 \",\"228000000\",\"60000000\",\"76500000\",\"28000000\",\"650659833\",\"5000000\",\"144000000\",\"13000000\",\"3315789\",\"78835200\",\"2714286\",\"9354000\",\"100000000000\",\"21933333\",\"110000000\",\"3360000\",\"14524851.4827\",\"100000000 \",\"4000000000\",\"21212121\",\"28600000\",\"35520400\",\"2500000000\",\"105000000\",\"90000000000\",\"72000000\",\"19276800\",\" 75000000\",\"18900000\",\"50000000000\",\"18898187.6216583\",\"200000000000\",\"1100000000\",\"9507271\",\"86712634466\",\"10500000000\",\"48252000\",\"4200000\",\"27000000\",\"400000000\",\"1800000000\",\"15733333\",\"25000000000\",\"1200000000\",\"14788275.991\",\"30000000000\",\"550000000\",\"150000000\",\"4999999999\",\"19800000\",\"900000000\",\"4000000\",\"20166000\",\"16600000\",\"232000000\",\"800000000\",\"840000000\",\"18406979840\",\"5121951220\",\"10200000000\",\"22075700\",\"82546564\",\"5151000\",\"52500000\",\"22105263\",\"55000000\",\"2100000000\",\"18000000000\",\"70000000000\",\"54000000\",\"19035999\",\"74800000000\",\"19700000\",\"5000000000\",\"2100000\",\"168000000\",\"35000000000\",\"98100000000\",\"54256119\",\"190000000\",\"15000000\",\"208000000\",\"182000000\",\"16504333\",\"300000000\",\"60168145\",\"120000\",\"3600570502\",\"12500000\",\"40000000000\",\"4380000\",\"16555000000\",\"336000000\",\"16180000\",\"2300000000\",\"184467440735\",\"2158812800\",\"1840000000\",\"65789100\",\"16906397\",\"81962100\",\"221052632\",\" 99000000000\",\"2147483647\",\"33500000\",\"74000000\",\"21400000\",\"39999898\",\"301000000\",\"26205539\",\"125000000\",\"32514916898\",\"9999999\",\"185000000\",\"17000000\",\"34426423\",\"2232901\",\"36900000\",\"110290030\",\"75000000000\",\"200084200\",\"340282367\",\"137500000\",\"17405891.19707116\",\"61599965\",\"88888888\",\"91388946\",\"45000000000\",\"156306732.71\",\"9000000000\",\"280000000\",\"31800000\",\"660000000\",\"85000000000\",\"27716121\",\"999481516\",\" 90000000000\",\"1618033\",\"1000000000000\",\"5200000000\",\"19340594\",\"252460800\",\"124000000\",\"6500000000\",\"88000000\",\"18400000\",\"26280000\",\"26000000\",\"600000518\",\"184000000000\",\"44000000\",\"650000000 \",\"100262205\",\"18081806 \",\"16880000000\",\"1750000000\",\"88188888\",\"184470000000\",\"260000000\",\"366000000\",\"7600000000\",\"8080000000\",\"105120001.44\",\"25228800\",\"262800000\",\"30886000\",\"13370000\",\"7000000000\",\"9000000\",\"159918400\",\"10008835635\",\"2800000\",\"24487944\",\"8634140\",\"1400222610\",\"990000000000\"],\"tags\":[[[\"TotalCoinSupply\",\"TotalCoinSupply\",null]]]},\"id\":\"1058\",\"type\":\"FactorRange\"},{\"attributes\":{},\"id\":\"1094\",\"type\":\"AllLabels\"},{\"attributes\":{\"fill_alpha\":{\"value\":0.2},\"fill_color\":{\"value\":\"#30a2da\"},\"line_alpha\":{\"value\":0.2},\"line_color\":{\"value\":\"#30a2da\"},\"size\":{\"value\":5.477225575051661},\"x\":{\"field\":\"TotalCoinsMined\"},\"y\":{\"field\":\"TotalCoinSupply\"}},\"id\":\"1102\",\"type\":\"Scatter\"},{\"attributes\":{\"text_color\":\"black\",\"text_font_size\":\"12pt\"},\"id\":\"1063\",\"type\":\"Title\"},{\"attributes\":{\"margin\":[5,5,5,5],\"name\":\"HSpacer01798\",\"sizing_mode\":\"stretch_width\"},\"id\":\"1290\",\"type\":\"Spacer\"},{\"attributes\":{\"angle\":{\"value\":0.0},\"fill_alpha\":{\"value\":1.0},\"fill_color\":{\"value\":\"#30a2da\"},\"hatch_alpha\":{\"value\":1.0},\"hatch_color\":{\"value\":\"black\"},\"hatch_scale\":{\"value\":12.0},\"hatch_weight\":{\"value\":1.0},\"line_alpha\":{\"value\":1.0},\"line_cap\":{\"value\":\"butt\"},\"line_color\":{\"value\":\"#30a2da\"},\"line_dash\":{\"value\":[]},\"line_dash_offset\":{\"value\":0},\"line_join\":{\"value\":\"bevel\"},\"line_width\":{\"value\":1},\"marker\":{\"value\":\"circle\"},\"size\":{\"value\":5.477225575051661},\"x\":{\"field\":\"TotalCoinsMined\"},\"y\":{\"field\":\"TotalCoinSupply\"}},\"id\":\"1117\",\"type\":\"Scatter\"},{\"attributes\":{\"data_source\":{\"id\":\"1097\"},\"glyph\":{\"id\":\"1100\"},\"hover_glyph\":null,\"muted_glyph\":{\"id\":\"1102\"},\"nonselection_glyph\":{\"id\":\"1101\"},\"selection_glyph\":{\"id\":\"1117\"},\"view\":{\"id\":\"1104\"}},\"id\":\"1103\",\"type\":\"GlyphRenderer\"},{\"attributes\":{},\"id\":\"1095\",\"type\":\"CategoricalTickFormatter\"},{\"attributes\":{\"bottom_units\":\"screen\",\"fill_alpha\":0.5,\"fill_color\":\"lightgrey\",\"left_units\":\"screen\",\"level\":\"overlay\",\"line_alpha\":1.0,\"line_color\":\"black\",\"line_dash\":[4,4],\"line_width\":2,\"right_units\":\"screen\",\"syncable\":false,\"top_units\":\"screen\"},\"id\":\"1083\",\"type\":\"BoxAnnotation\"}],\"root_ids\":[\"1055\"]},\"title\":\"Bokeh Application\",\"version\":\"2.3.3\"}};\n",
       "    var render_items = [{\"docid\":\"b0d20083-85e5-4f60-a29a-752246ed330a\",\"root_ids\":[\"1055\"],\"roots\":{\"1055\":\"45b1acc9-68d0-435b-96ab-463a132dd8bc\"}}];\n",
       "    root.Bokeh.embed.embed_items_notebook(docs_json, render_items);\n",
       "  }\n",
       "  if (root.Bokeh !== undefined && root.Bokeh.Panel !== undefined) {\n",
       "    embed_document(root);\n",
       "  } else {\n",
       "    var attempts = 0;\n",
       "    var timer = setInterval(function(root) {\n",
       "      if (root.Bokeh !== undefined && root.Bokeh.Panel !== undefined) {\n",
       "        clearInterval(timer);\n",
       "        embed_document(root);\n",
       "      } else if (document.readyState == \"complete\") {\n",
       "        attempts++;\n",
       "        if (attempts > 100) {\n",
       "          clearInterval(timer);\n",
       "          console.log(\"Bokeh: ERROR: Unable to run BokehJS code because BokehJS library is missing\");\n",
       "        }\n",
       "      }\n",
       "    }, 10, root)\n",
       "  }\n",
       "})(window);</script>"
      ],
      "text/plain": [
       ":NdOverlay   [Class]\n",
       "   :Scatter   [TotalCoinsMined]   (TotalCoinSupply,CoinName)"
      ]
     },
     "execution_count": 31,
     "metadata": {
      "application/vnd.holoviews_exec.v0+json": {
       "id": "1055"
      }
     },
     "output_type": "execute_result"
    }
   ],
   "source": [
    "# Plot the scatter with x=\"TotalCoinsMined\" and y=\"TotalCoinSupply\"\n",
    "clustered_df.hvplot.scatter(\n",
    "    x=\"TotalCoinsMined\",\n",
    "    y=\"TotalCoinSupply\",\n",
    "    hover_cols=[\"CoinName\"],\n",
    "    by=\"Class\",\n",
    ")"
   ]
  },
  {
   "cell_type": "code",
   "execution_count": null,
   "metadata": {},
   "outputs": [],
   "source": []
  }
 ],
 "metadata": {
  "file_extension": ".py",
  "kernelspec": {
   "display_name": "Python 3",
   "language": "python",
   "name": "python3"
  },
  "language_info": {
   "codemirror_mode": {
    "name": "ipython",
    "version": 3
   },
   "file_extension": ".py",
   "mimetype": "text/x-python",
   "name": "python",
   "nbconvert_exporter": "python",
   "pygments_lexer": "ipython3",
   "version": "3.8.5"
  },
  "mimetype": "text/x-python",
  "name": "python",
  "npconvert_exporter": "python",
  "pygments_lexer": "ipython3",
  "version": 3
 },
 "nbformat": 4,
 "nbformat_minor": 4
}
